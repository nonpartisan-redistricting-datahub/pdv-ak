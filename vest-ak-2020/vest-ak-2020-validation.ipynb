{
 "cells": [
  {
   "cell_type": "code",
   "execution_count": 1,
   "id": "5868b181",
   "metadata": {},
   "outputs": [],
   "source": [
    "import pandas as pd # standard python data library\n",
    "import geopandas as gp # the geo-version of pandas\n",
    "import numpy as np \n",
    "import os\n",
    "import fiona\n",
    "from statistics import mean, median\n",
    "from pandas import read_csv\n",
    "gp.io.file.fiona.drvsupport.supported_drivers['KML'] = 'rw' #To load KML files\n",
    "import string\n",
    "import xml.etree.ElementTree as et"
   ]
  },
  {
   "cell_type": "markdown",
   "id": "da8d8800",
   "metadata": {},
   "source": [
    "# Alaska"
   ]
  },
  {
   "cell_type": "markdown",
   "id": "12ff550c",
   "metadata": {},
   "source": [
    "## Import VEST File"
   ]
  },
  {
   "cell_type": "code",
   "execution_count": 2,
   "id": "ee751ede",
   "metadata": {},
   "outputs": [
    {
     "name": "stdout",
     "output_type": "stream",
     "text": [
      "(441, 15)\n"
     ]
    }
   ],
   "source": [
    "vest_ak_20 = gp.read_file(\"./raw-from-source/VEST/ak_2020/ak_2020.shp\")\n",
    "print(vest_ak_20.shape)"
   ]
  },
  {
   "cell_type": "code",
   "execution_count": 3,
   "id": "ad7907a2",
   "metadata": {},
   "outputs": [
    {
     "data": {
      "text/html": [
       "<div>\n",
       "<style scoped>\n",
       "    .dataframe tbody tr th:only-of-type {\n",
       "        vertical-align: middle;\n",
       "    }\n",
       "\n",
       "    .dataframe tbody tr th {\n",
       "        vertical-align: top;\n",
       "    }\n",
       "\n",
       "    .dataframe thead th {\n",
       "        text-align: right;\n",
       "    }\n",
       "</style>\n",
       "<table border=\"1\" class=\"dataframe\">\n",
       "  <thead>\n",
       "    <tr style=\"text-align: right;\">\n",
       "      <th></th>\n",
       "      <th>DISTRICT</th>\n",
       "      <th>NAME</th>\n",
       "      <th>G20PRERTRU</th>\n",
       "      <th>G20PREDBID</th>\n",
       "      <th>G20PRELJOR</th>\n",
       "      <th>G20PREGJAN</th>\n",
       "      <th>G20PRECBLA</th>\n",
       "      <th>G20PREIPIE</th>\n",
       "      <th>G20PREOFUE</th>\n",
       "      <th>G20USSRSUL</th>\n",
       "      <th>G20USSDGRO</th>\n",
       "      <th>G20USSOHOW</th>\n",
       "      <th>G20HALRYOU</th>\n",
       "      <th>G20HALDGAL</th>\n",
       "      <th>geometry</th>\n",
       "    </tr>\n",
       "  </thead>\n",
       "  <tbody>\n",
       "    <tr>\n",
       "      <th>0</th>\n",
       "      <td>11-075</td>\n",
       "      <td>11-075 Palmer City No. 2</td>\n",
       "      <td>685</td>\n",
       "      <td>397</td>\n",
       "      <td>46</td>\n",
       "      <td>12</td>\n",
       "      <td>7</td>\n",
       "      <td>0</td>\n",
       "      <td>0</td>\n",
       "      <td>656</td>\n",
       "      <td>421</td>\n",
       "      <td>71</td>\n",
       "      <td>686</td>\n",
       "      <td>441</td>\n",
       "      <td>POLYGON ((-149.13365 61.61026, -149.13361 61.6...</td>\n",
       "    </tr>\n",
       "    <tr>\n",
       "      <th>1</th>\n",
       "      <td>12-220</td>\n",
       "      <td>12-220 Butte</td>\n",
       "      <td>1808</td>\n",
       "      <td>689</td>\n",
       "      <td>62</td>\n",
       "      <td>16</td>\n",
       "      <td>4</td>\n",
       "      <td>3</td>\n",
       "      <td>0</td>\n",
       "      <td>1761</td>\n",
       "      <td>673</td>\n",
       "      <td>96</td>\n",
       "      <td>1780</td>\n",
       "      <td>751</td>\n",
       "      <td>POLYGON ((-148.52103 61.62682, -148.52020 61.6...</td>\n",
       "    </tr>\n",
       "  </tbody>\n",
       "</table>\n",
       "</div>"
      ],
      "text/plain": [
       "  DISTRICT                      NAME  G20PRERTRU  G20PREDBID  G20PRELJOR  \\\n",
       "0   11-075  11-075 Palmer City No. 2         685         397          46   \n",
       "1   12-220              12-220 Butte        1808         689          62   \n",
       "\n",
       "   G20PREGJAN  G20PRECBLA  G20PREIPIE  G20PREOFUE  G20USSRSUL  G20USSDGRO  \\\n",
       "0          12           7           0           0         656         421   \n",
       "1          16           4           3           0        1761         673   \n",
       "\n",
       "   G20USSOHOW  G20HALRYOU  G20HALDGAL  \\\n",
       "0          71         686         441   \n",
       "1          96        1780         751   \n",
       "\n",
       "                                            geometry  \n",
       "0  POLYGON ((-149.13365 61.61026, -149.13361 61.6...  \n",
       "1  POLYGON ((-148.52103 61.62682, -148.52020 61.6...  "
      ]
     },
     "execution_count": 3,
     "metadata": {},
     "output_type": "execute_result"
    }
   ],
   "source": [
    "vest_ak_20.head(2)"
   ]
  },
  {
   "cell_type": "markdown",
   "id": "4f559bb9",
   "metadata": {},
   "source": [
    "## VEST Documentation"
   ]
  },
  {
   "cell_type": "markdown",
   "id": "acceb04e",
   "metadata": {},
   "source": [
    "### Data Sources"
   ]
  },
  {
   "cell_type": "markdown",
   "id": "e47bd42a",
   "metadata": {},
   "source": [
    "> - Election results from Alaska Division of Elections (http://www.elections.alaska.gov/results/20GENR/index.php) \n",
    "> - Precinct shapefile from Alaska Division of Elections (http://www.elections.alaska.gov/Core/districtmaps.php)"
   ]
  },
  {
   "cell_type": "markdown",
   "id": "d3fea014",
   "metadata": {},
   "source": [
    "### Processing"
   ]
  },
  {
   "cell_type": "markdown",
   "id": "d670b362",
   "metadata": {},
   "source": [
    "> Early, Absentee, and Questioned votes are only reported at the State House district level (since Alaska has portions of the state with no lower level of government, HDs serve a similar purpose as counties do in other states for the purpose of reporting votes). These votes are apportioned to precincts by candidate in the same shares that the Election Day vote was split among precincts within an HD. Similarly, federal-only ballots that are reported at the statewide level were apportioned to precincts by candidate based on their share of the precinct-level vote.\n"
   ]
  },
  {
   "cell_type": "markdown",
   "id": "b663d8b5",
   "metadata": {},
   "source": [
    "### Races "
   ]
  },
  {
   "cell_type": "markdown",
   "id": "a7910aca",
   "metadata": {},
   "source": [
    "> G20PRERTRU - Donald J. Trump (Republican Party)  \n",
    "G20PREDBID - Joseph R. Biden (Democratic Party)  \n",
    "G20PRELJOR - Jo Jorgensen (Libertarian Party)  \n",
    "G20PREGJAN - James G. \"Jesse Ventura\" Janos (Green Party)  \n",
    "G20PRECBLA - Don Blankenship (Conservative Party)  \n",
    "G20PREIPIE - Brock Pierce (Independent)  \n",
    "G20PREOFUE - Roque \"Rocky\" De La Fuente (Alliance Party)  \n",
    "  \n",
    "> G20USSRSUL - Dan Sullivan (Republican Party)  \n",
    "G20USSDGRO - Al Gross (Democratic Party)  \n",
    "G20USSOHOW - John Wayne Howe (Alaskan Independence Party)  \n",
    "  \n",
    "> G20HALRYOU - Don Young (Republican Party)  \n",
    "G20HALDGAL - Alyse S. Galvin (Democratic Party)  "
   ]
  },
  {
   "cell_type": "markdown",
   "id": "b529954d",
   "metadata": {},
   "source": [
    "## Election Results"
   ]
  },
  {
   "cell_type": "markdown",
   "id": "acbda344",
   "metadata": {},
   "source": [
    "### Load and Clean Election Results File"
   ]
  },
  {
   "cell_type": "code",
   "execution_count": 4,
   "id": "e1d0538d",
   "metadata": {},
   "outputs": [
    {
     "data": {
      "text/html": [
       "<div>\n",
       "<style scoped>\n",
       "    .dataframe tbody tr th:only-of-type {\n",
       "        vertical-align: middle;\n",
       "    }\n",
       "\n",
       "    .dataframe tbody tr th {\n",
       "        vertical-align: top;\n",
       "    }\n",
       "\n",
       "    .dataframe thead th {\n",
       "        text-align: right;\n",
       "    }\n",
       "</style>\n",
       "<table border=\"1\" class=\"dataframe\">\n",
       "  <thead>\n",
       "    <tr style=\"text-align: right;\">\n",
       "      <th></th>\n",
       "      <th>0</th>\n",
       "      <th>1</th>\n",
       "      <th>2</th>\n",
       "      <th>3</th>\n",
       "      <th>4</th>\n",
       "      <th>5</th>\n",
       "      <th>6</th>\n",
       "      <th>7</th>\n",
       "      <th>8</th>\n",
       "    </tr>\n",
       "  </thead>\n",
       "  <tbody>\n",
       "    <tr>\n",
       "      <th>0</th>\n",
       "      <td>HD99 Fed Overseas Absentee</td>\n",
       "      <td>Race Statistics</td>\n",
       "      <td>NP</td>\n",
       "      <td>NP</td>\n",
       "      <td>Number of Precincts</td>\n",
       "      <td>NP</td>\n",
       "      <td>Total</td>\n",
       "      <td>0</td>\n",
       "      <td>NaN</td>\n",
       "    </tr>\n",
       "  </tbody>\n",
       "</table>\n",
       "</div>"
      ],
      "text/plain": [
       "                             0                1   2   3                    4  \\\n",
       "0  HD99 Fed Overseas Absentee   Race Statistics  NP  NP  Number of Precincts   \n",
       "\n",
       "    5      6  7   8  \n",
       "0  NP  Total  0 NaN  "
      ]
     },
     "execution_count": 4,
     "metadata": {},
     "output_type": "execute_result"
    }
   ],
   "source": [
    "ak_2020 = pd.read_csv(\"./raw-from-source/Election_Results/resultsbyprecinct.txt\",header=None)\n",
    "ak_2020.head(1)"
   ]
  },
  {
   "cell_type": "markdown",
   "id": "3d730402",
   "metadata": {},
   "source": [
    "#### Name and Filter Down to Relevant Columns"
   ]
  },
  {
   "cell_type": "code",
   "execution_count": 5,
   "id": "a82cbb78",
   "metadata": {},
   "outputs": [],
   "source": [
    "ak_2020.columns = [\"Precinct\",\"Race\",\"Blank_1\",\"Blank_2\",\"Choice\",\"Party\",\"Type\",\"Votes\",\"Extra\"]\n",
    "ak_2020 = ak_2020 [[\"Precinct\",\"Race\",\"Choice\",\"Party\",\"Votes\"]]"
   ]
  },
  {
   "cell_type": "markdown",
   "id": "f6c19e29",
   "metadata": {},
   "source": [
    "#### Filter Down to Relevant Races"
   ]
  },
  {
   "cell_type": "code",
   "execution_count": 6,
   "id": "3362cabc",
   "metadata": {},
   "outputs": [
    {
     "name": "stdout",
     "output_type": "stream",
     "text": [
      "['Race Statistics' 'U.S. President / Vice President\"\"' 'U.S. Senator\"\"'\n",
      " 'U.S. Representative\"\"' 'House District 1\"\"' 'Supreme Court - Carney\"\"'\n",
      " 'Court of Appeals - Wollenberg\"\"' 'Superior Court JD4 - Peters\"\"'\n",
      " 'District Court JD4 - Christian\"\"' 'District Court JD4 - Montgomery\"\"'\n",
      " 'Ballot Measure No. 1 - 19OGTX\"\"' 'Ballot Measure No. 2 - 19AKBE\"\"'\n",
      " 'House District 2\"\"' 'Senate District B\"\"' 'House District 3\"\"'\n",
      " 'House District 4\"\"' 'House District 5\"\"' 'House District 6\"\"'\n",
      " 'Superior Court JD3 - Crosby\"\"' 'Superior Court JD3 - Guidi\"\"'\n",
      " 'Superior Court JD3 - Henderson\"\"' 'Superior Court JD3 - Lamoureux\"\"'\n",
      " 'Superior Court JD3 - Miller\"\"' 'Superior Court JD3 - Reigh\"\"'\n",
      " 'Superior Court JD3 - Wells\"\"' 'Superior Court JD3 - Woodman\"\"'\n",
      " 'District Court JD3 - Dickson\"\"' 'District Court JD3 - Franciosi\"\"'\n",
      " 'District Court JD3 - Hanley\"\"' 'District Court JD3 - Logue\"\"'\n",
      " 'District Court JD3 - McCrea\"\"' 'District Court JD3 - Wallace\"\"'\n",
      " 'District Court JD3 - Washington\"\"' 'Senate District D\"\"'\n",
      " 'House District 7\"\"' 'House District 8\"\"' 'House District 9\"\"'\n",
      " 'House District 10\"\"' 'Senate District F\"\"' 'House District 11\"\"'\n",
      " 'House District 12\"\"' 'House District 13\"\"' 'House District 14\"\"'\n",
      " 'Senate District H\"\"' 'House District 15\"\"' 'House District 16\"\"'\n",
      " 'House District 17\"\"' 'House District 18\"\"' 'Senate District J\"\"'\n",
      " 'House District 19\"\"' 'House District 20\"\"' 'House District 21\"\"'\n",
      " 'House District 22\"\"' 'Senate District L\"\"' 'House District 23\"\"'\n",
      " 'House District 24\"\"' 'Senate District M\"\"' 'House District 25\"\"'\n",
      " 'House District 26\"\"' 'Senate District N\"\"' 'House District 27\"\"'\n",
      " 'House District 28\"\"' 'House District 29\"\"' 'House District 30\"\"'\n",
      " 'Senate District P\"\"' 'House District 31\"\"' 'House District 32\"\"'\n",
      " 'House District 33\"\"' 'House District 34\"\"' 'Senate District R\"\"'\n",
      " 'House District 35\"\"' 'House District 36\"\"' 'House District 37\"\"'\n",
      " 'House District 38\"\"' 'Senate District T\"\"' 'House District 39\"\"'\n",
      " 'Superior Court JD2 - DiBenedetto\"\"' 'Superior Court JD2 - Roetman\"\"'\n",
      " 'House District 40\"\"']\n"
     ]
    }
   ],
   "source": [
    "print(ak_2020[\"Race\"].unique())\n",
    "race_list = ['U.S. President / Vice President\"\"', 'U.S. Senator\"\"','U.S. Representative\"\"']\n",
    "ak_2020 = ak_2020[ak_2020[\"Race\"].isin(race_list)]"
   ]
  },
  {
   "cell_type": "markdown",
   "id": "7b8e5dcd",
   "metadata": {},
   "source": [
    "#### Filter Down to Relevant Candidates"
   ]
  },
  {
   "cell_type": "code",
   "execution_count": 7,
   "id": "77e3ca7d",
   "metadata": {},
   "outputs": [
    {
     "name": "stdout",
     "output_type": "stream",
     "text": [
      "['Number of Precincts for Race' 'Number of Precincts Reporting'\n",
      " 'Registered Voters' 'Times Counted'\n",
      " 'Biden  Joseph R. Jr. / Harris  Kamala D.\"\"'\n",
      " 'Blankenship  Don / Mohr  William\"\"'\n",
      " 'De La Fuente  Rocque \"Rocky\" / Richardson  Darcy G.\"\"'\n",
      " 'Janos  James G. \"Jesse Ventura\" / McKinney  Cynthia\"\"'\n",
      " 'Jorgensen  Jo / Cohen  Jeremy \"Spike\"\"\"'\n",
      " 'Pierce  Brock / Ballard  Karla\"\"'\n",
      " 'Trump  Donald J. / Pence  Michael R.\"\"' 'Gross  Al\"\"'\n",
      " 'Howe  John Wayne\"\"' 'Sullivan  Dan\"\"' 'Galvin  Alyse S.\"\"'\n",
      " 'Young  Don\"\"']\n"
     ]
    }
   ],
   "source": [
    "print(ak_2020[\"Choice\"].unique())\n",
    "choice_list = ['Biden  Joseph R. Jr. / Harris  Kamala D.\"\"',\n",
    "       'Blankenship  Don / Mohr  William\"\"',\n",
    "       'De La Fuente  Rocque \"Rocky\" / Richardson  Darcy G.\"\"',\n",
    "       'Janos  James G. \"Jesse Ventura\" / McKinney  Cynthia\"\"',\n",
    "       'Jorgensen  Jo / Cohen  Jeremy \"Spike\"\"\"',\n",
    "       'Pierce  Brock / Ballard  Karla\"\"',\n",
    "       'Trump  Donald J. / Pence  Michael R.\"\"', 'Gross  Al\"\"',\n",
    "       'Howe  John Wayne\"\"', 'Sullivan  Dan\"\"', 'Galvin  Alyse S.\"\"',\n",
    "       'Young  Don\"\"']\n",
    "ak_2020 = ak_2020[ak_2020[\"Choice\"].isin(choice_list)]"
   ]
  },
  {
   "cell_type": "markdown",
   "id": "c928e0a2",
   "metadata": {},
   "source": [
    "### Pivot Election Results File"
   ]
  },
  {
   "cell_type": "code",
   "execution_count": 8,
   "id": "f7d9476a",
   "metadata": {},
   "outputs": [
    {
     "data": {
      "text/html": [
       "<div>\n",
       "<style scoped>\n",
       "    .dataframe tbody tr th:only-of-type {\n",
       "        vertical-align: middle;\n",
       "    }\n",
       "\n",
       "    .dataframe tbody tr th {\n",
       "        vertical-align: top;\n",
       "    }\n",
       "\n",
       "    .dataframe thead th {\n",
       "        text-align: right;\n",
       "    }\n",
       "</style>\n",
       "<table border=\"1\" class=\"dataframe\">\n",
       "  <thead>\n",
       "    <tr style=\"text-align: right;\">\n",
       "      <th>Choice</th>\n",
       "      <th>Precinct</th>\n",
       "      <th>Biden  Joseph R. Jr. / Harris  Kamala D.\"\"</th>\n",
       "      <th>Blankenship  Don / Mohr  William\"\"</th>\n",
       "      <th>De La Fuente  Rocque \"Rocky\" / Richardson  Darcy G.\"\"</th>\n",
       "      <th>Galvin  Alyse S.\"\"</th>\n",
       "      <th>Gross  Al\"\"</th>\n",
       "      <th>Howe  John Wayne\"\"</th>\n",
       "      <th>Janos  James G. \"Jesse Ventura\" / McKinney  Cynthia\"\"</th>\n",
       "      <th>Jorgensen  Jo / Cohen  Jeremy \"Spike\"\"\"</th>\n",
       "      <th>Pierce  Brock / Ballard  Karla\"\"</th>\n",
       "      <th>Sullivan  Dan\"\"</th>\n",
       "      <th>Trump  Donald J. / Pence  Michael R.\"\"</th>\n",
       "      <th>Young  Don\"\"</th>\n",
       "    </tr>\n",
       "  </thead>\n",
       "  <tbody>\n",
       "    <tr>\n",
       "      <th>0</th>\n",
       "      <td>01-446 Aurora</td>\n",
       "      <td>239</td>\n",
       "      <td>3</td>\n",
       "      <td>0</td>\n",
       "      <td>293</td>\n",
       "      <td>246</td>\n",
       "      <td>46</td>\n",
       "      <td>2</td>\n",
       "      <td>43</td>\n",
       "      <td>3</td>\n",
       "      <td>465</td>\n",
       "      <td>466</td>\n",
       "      <td>452</td>\n",
       "    </tr>\n",
       "  </tbody>\n",
       "</table>\n",
       "</div>"
      ],
      "text/plain": [
       "Choice        Precinct  Biden  Joseph R. Jr. / Harris  Kamala D.\"\"  \\\n",
       "0       01-446 Aurora                                          239   \n",
       "\n",
       "Choice  Blankenship  Don / Mohr  William\"\"  \\\n",
       "0                                        3   \n",
       "\n",
       "Choice  De La Fuente  Rocque \"Rocky\" / Richardson  Darcy G.\"\"  \\\n",
       "0                                                       0       \n",
       "\n",
       "Choice  Galvin  Alyse S.\"\"  Gross  Al\"\"  Howe  John Wayne\"\"  \\\n",
       "0                      293          246                  46   \n",
       "\n",
       "Choice  Janos  James G. \"Jesse Ventura\" / McKinney  Cynthia\"\"  \\\n",
       "0                                                       2       \n",
       "\n",
       "Choice  Jorgensen  Jo / Cohen  Jeremy \"Spike\"\"\"  \\\n",
       "0                                            43   \n",
       "\n",
       "Choice  Pierce  Brock / Ballard  Karla\"\"  Sullivan  Dan\"\"  \\\n",
       "0                                      3              465   \n",
       "\n",
       "Choice  Trump  Donald J. / Pence  Michael R.\"\"  Young  Don\"\"  \n",
       "0                                          466           452  "
      ]
     },
     "execution_count": 8,
     "metadata": {},
     "output_type": "execute_result"
    }
   ],
   "source": [
    "#Perform the pivot\n",
    "ak_2020_pvt = pd.pivot_table(ak_2020,index=[\"Precinct\"],values=[\"Votes\"],columns=[\"Choice\"],aggfunc=sum)\n",
    "\n",
    "#Clean up columns / index\n",
    "ak_2020_pvt.columns=ak_2020_pvt.columns.droplevel(0)\n",
    "ak_2020_pvt.reset_index(inplace=True,drop=False)\n",
    "\n",
    "#Take a look\n",
    "ak_2020_pvt.head(1)"
   ]
  },
  {
   "cell_type": "markdown",
   "id": "a213bcbc",
   "metadata": {},
   "source": [
    "#### Clean up pivoted file columns"
   ]
  },
  {
   "cell_type": "code",
   "execution_count": 9,
   "id": "7042a3d8",
   "metadata": {},
   "outputs": [
    {
     "name": "stdout",
     "output_type": "stream",
     "text": [
      "Index(['Precinct', 'Biden  Joseph R. Jr. / Harris  Kamala D.\"\"',\n",
      "       'Blankenship  Don / Mohr  William\"\"',\n",
      "       'De La Fuente  Rocque \"Rocky\" / Richardson  Darcy G.\"\"',\n",
      "       'Galvin  Alyse S.\"\"', 'Gross  Al\"\"', 'Howe  John Wayne\"\"',\n",
      "       'Janos  James G. \"Jesse Ventura\" / McKinney  Cynthia\"\"',\n",
      "       'Jorgensen  Jo / Cohen  Jeremy \"Spike\"\"\"',\n",
      "       'Pierce  Brock / Ballard  Karla\"\"', 'Sullivan  Dan\"\"',\n",
      "       'Trump  Donald J. / Pence  Michael R.\"\"', 'Young  Don\"\"'],\n",
      "      dtype='object', name='Choice')\n"
     ]
    }
   ],
   "source": [
    "print(ak_2020_pvt.columns)\n",
    "column_changes_dict = {'Biden  Joseph R. Jr. / Harris  Kamala D.\"\"':\"G20PREDBID\",\n",
    "                       'Jorgensen  Jo / Cohen  Jeremy \"Spike\"\"\"':\"G20PRELJOR\",\n",
    "                       'Trump  Donald J. / Pence  Michael R.\"\"':\"G20PRERTRU\",\n",
    "                       'Blankenship  Don / Mohr  William\"\"':\"G20PRECBLA\",\n",
    "       'De La Fuente  Rocque \"Rocky\" / Richardson  Darcy G.\"\"':\"G20PREOFUE\",\n",
    "        'Janos  James G. \"Jesse Ventura\" / McKinney  Cynthia\"\"':\"G20PREGJAN\",\n",
    "                       'Pierce  Brock / Ballard  Karla\"\"':\"G20PREIPIE\", \n",
    "                        'Gross  Al\"\"':\"G20USSDGRO\", \n",
    "                        'Howe  John Wayne\"\"':\"G20USSOHOW\",\n",
    "                         'Sullivan  Dan\"\"':\"G20USSRSUL\",     \n",
    "                           'Galvin  Alyse S.\"\"':\"G20HALDGAL\",               \n",
    "                            'Young  Don\"\"':\"G20HALRYOU\"}\n",
    "ak_2020_pvt = ak_2020_pvt.rename(columns=column_changes_dict)"
   ]
  },
  {
   "cell_type": "markdown",
   "id": "a8ce68c0",
   "metadata": {},
   "source": [
    "#### Re-order the columns to match what VEST has"
   ]
  },
  {
   "cell_type": "code",
   "execution_count": 10,
   "id": "5bb70b79",
   "metadata": {},
   "outputs": [],
   "source": [
    "ak_2020_pvt = ak_2020_pvt[[\"Precinct\",'G20PRERTRU', 'G20PREDBID', 'G20PRELJOR',\n",
    "       'G20PREGJAN', 'G20PRECBLA', 'G20PREIPIE', 'G20PREOFUE', 'G20USSRSUL',\n",
    "       'G20USSDGRO', 'G20USSOHOW', 'G20HALRYOU', 'G20HALDGAL']]"
   ]
  },
  {
   "cell_type": "markdown",
   "id": "364a164d",
   "metadata": {},
   "source": [
    "## Check Races Totals Against VEST (before any allocation)"
   ]
  },
  {
   "cell_type": "code",
   "execution_count": 11,
   "id": "f104e255",
   "metadata": {},
   "outputs": [
    {
     "name": "stdout",
     "output_type": "stream",
     "text": [
      "Printing differences below:\n",
      "\n",
      "All other races are equal\n"
     ]
    }
   ],
   "source": [
    "data_columns = ['G20PRERTRU', 'G20PREDBID', 'G20PRELJOR',\n",
    "       'G20PREGJAN', 'G20PRECBLA', 'G20PREIPIE', 'G20PREOFUE', 'G20USSRSUL',\n",
    "       'G20USSDGRO', 'G20USSOHOW', 'G20HALRYOU', 'G20HALDGAL']\n",
    "\n",
    "print(\"Printing differences below:\")\n",
    "for race in data_columns:\n",
    "    if (sum(vest_ak_20[race])-sum(ak_2020_pvt[race]) != 0):\n",
    "        print(race+\" has a difference of \"+str(sum(vest_ak_16[race])-sum(ak_2020_pvt[race]))+\" votes\")\n",
    "        print(\"\\tVEST: \"+str(sum(vest_ak_20[race]))+\" votes\")\n",
    "        print(\"\\tSOURCES: \"+str(sum(ak_2020_pvt[race]))+\" votes\")\n",
    "print(\"\")\n",
    "print(\"All other races are equal\")"
   ]
  },
  {
   "cell_type": "markdown",
   "id": "1de8ee55",
   "metadata": {},
   "source": [
    "## Allocate Votes (so we can check district totals and precinct totals against VEST)"
   ]
  },
  {
   "cell_type": "markdown",
   "id": "c437dbff",
   "metadata": {},
   "source": [
    "### VEST's Documentation"
   ]
  },
  {
   "cell_type": "markdown",
   "id": "767b509a",
   "metadata": {},
   "source": [
    "> - Early, Absentee, and Questioned votes are only reported at the State House district level (since Alaska has portions of the state with no lower level of government, HDs serve a similar purpose as counties do in other states for the purpose of reporting votes). These votes are apportioned to precincts by candidate in the same shares that the Election Day vote was split among precincts within an HD. \n",
    "> - Similarly, federal-only ballots that are reported at the statewide level were apportioned to precincts by candidate based on their share of the precinct-level vote."
   ]
  },
  {
   "cell_type": "markdown",
   "id": "e675a4a4",
   "metadata": {},
   "source": [
    "Note: Vote allocation will be broken into two separate steps:\n",
    "1. Allocating early, absentee, and questioned votes (reported at state house district level)\n",
    "2. Allocating federal-only ballots"
   ]
  },
  {
   "cell_type": "code",
   "execution_count": 12,
   "id": "4f843bf0",
   "metadata": {},
   "outputs": [],
   "source": [
    "#races=['G20PRERTRU', 'G20PREDBID', 'G20PRELJOR', 'G20PREGJAN',\n",
    "       #'G20PRECBLA', 'G20PREIPIE', 'G20PREOFUE', 'G20USSRSUL', 'G20USSDGRO',\n",
    "       #'G20USSOHOW', 'G20HALRYOU', 'G20HALDGAL']\n",
    "#for race in races:\n",
    "    #ak_2020_pvt[race] = ak_2020_pvt[race].astype(int)"
   ]
  },
  {
   "cell_type": "markdown",
   "id": "45daa448",
   "metadata": {},
   "source": [
    "### Early, Absentee and Questioned Ballots"
   ]
  },
  {
   "cell_type": "markdown",
   "id": "b198b47c",
   "metadata": {},
   "source": [
    "#### Create DataFrames for Allocation"
   ]
  },
  {
   "cell_type": "code",
   "execution_count": 13,
   "id": "04ec3a61",
   "metadata": {},
   "outputs": [],
   "source": [
    "#A list of all Precincts that contain \"District in the name\", these are the votes to be allocated\n",
    "to_allocate = list(ak_2020_pvt[ak_2020_pvt[\"Precinct\"].str.contains(\"District\")][\"Precinct\"])\n",
    "\n",
    "# Early, absentee and questioned votes dataframe (reported at the district level)\n",
    "ak_2020_to_allocate = ak_2020_pvt[ak_2020_pvt[\"Precinct\"].isin(to_allocate)]\n",
    "\n",
    "#Precinct level votes dataframe\n",
    "ak_2020_precinct = ak_2020_pvt[~(ak_2020_pvt[\"Precinct\"].isin(to_allocate)) & (ak_2020_pvt[\"Precinct\"]!=\"HD99 Fed Overseas Absentee \")]\n",
    "\n",
    "#State-level reported votes, these will not be allocated any votes in this step\n",
    "ak_2020_fed_overseas = ak_2020_pvt[ak_2020_pvt[\"Precinct\"]==\"HD99 Fed Overseas Absentee \"]"
   ]
  },
  {
   "cell_type": "markdown",
   "id": "bce4cdd7",
   "metadata": {},
   "source": [
    "#### Check shapes to make sure all votes are being accounted for"
   ]
  },
  {
   "cell_type": "code",
   "execution_count": 14,
   "id": "be9f7188",
   "metadata": {},
   "outputs": [
    {
     "name": "stdout",
     "output_type": "stream",
     "text": [
      "138\n",
      "441\n",
      "1\n",
      "580\n"
     ]
    }
   ],
   "source": [
    "#The first three numbers should add to the fourth\n",
    "print(ak_2020_to_allocate.shape[0])\n",
    "print(ak_2020_precinct.shape[0])\n",
    "print(ak_2020_fed_overseas.shape[0])\n",
    "print(ak_2020_pvt.shape[0])"
   ]
  },
  {
   "cell_type": "markdown",
   "id": "38b579cc",
   "metadata": {},
   "source": [
    "#### Add identifying data to Allocation DataFrames"
   ]
  },
  {
   "cell_type": "code",
   "execution_count": 15,
   "id": "34a04772",
   "metadata": {},
   "outputs": [
    {
     "name": "stdout",
     "output_type": "stream",
     "text": [
      "40\n",
      "40\n"
     ]
    },
    {
     "name": "stderr",
     "output_type": "stream",
     "text": [
      "/Users/peterhorton/opt/anaconda3/envs/geo_env/lib/python3.9/site-packages/pandas/core/indexing.py:1597: SettingWithCopyWarning: \n",
      "A value is trying to be set on a copy of a slice from a DataFrame.\n",
      "Try using .loc[row_indexer,col_indexer] = value instead\n",
      "\n",
      "See the caveats in the documentation: https://pandas.pydata.org/pandas-docs/stable/user_guide/indexing.html#returning-a-view-versus-a-copy\n",
      "  self.obj[key] = value\n",
      "/Users/peterhorton/opt/anaconda3/envs/geo_env/lib/python3.9/site-packages/pandas/core/indexing.py:1676: SettingWithCopyWarning: \n",
      "A value is trying to be set on a copy of a slice from a DataFrame.\n",
      "Try using .loc[row_indexer,col_indexer] = value instead\n",
      "\n",
      "See the caveats in the documentation: https://pandas.pydata.org/pandas-docs/stable/user_guide/indexing.html#returning-a-view-versus-a-copy\n",
      "  self._setitem_single_column(ilocs[0], value, pi)\n"
     ]
    }
   ],
   "source": [
    "# Add in a district number to the precinct-level reported votes\n",
    "ak_2020_precinct.loc[:,\"District\"] = ak_2020_precinct.loc[:,\"Precinct\"].apply(lambda x: x[0:2])\n",
    "\n",
    "#Add in a district number to the district-level reported votes\n",
    "ak_2020_to_allocate.loc[:,\"col_names\"]=ak_2020_to_allocate.loc[:,\"Precinct\"].str.split(\" - \")\n",
    "ak_2020_to_allocate.loc[:,\"District\"]=ak_2020_to_allocate.loc[:,\"col_names\"].apply(lambda x: x[0].strip()[9:].zfill(2))\n",
    "\n",
    "#Confirm we are getting the right number of districts (should be 40)\n",
    "print(len(ak_2020_to_allocate[\"District\"].unique()))\n",
    "print(len(ak_2020_precinct[\"District\"].unique()))"
   ]
  },
  {
   "cell_type": "markdown",
   "id": "60b6f148",
   "metadata": {},
   "source": [
    "#### Create a dataframe of total votes to allocate by district"
   ]
  },
  {
   "cell_type": "code",
   "execution_count": 16,
   "id": "2a6e04ae",
   "metadata": {},
   "outputs": [],
   "source": [
    "to_dole_out_totals = pd.DataFrame(ak_2020_to_allocate.groupby([\"District\"]).sum())\n",
    "to_dole_out_totals.reset_index(inplace=True,drop=False)"
   ]
  },
  {
   "cell_type": "markdown",
   "id": "1a7e4f92",
   "metadata": {},
   "source": [
    "#### Create a dataframe of total votes reported at the precinct-level by district"
   ]
  },
  {
   "cell_type": "code",
   "execution_count": 17,
   "id": "92d1c599",
   "metadata": {},
   "outputs": [],
   "source": [
    "precinct_specific_totals = pd.DataFrame(ak_2020_precinct.groupby([\"District\"]).sum())\n",
    "precinct_specific_totals.reset_index(inplace=True,drop=False)"
   ]
  },
  {
   "cell_type": "markdown",
   "id": "886803a8",
   "metadata": {},
   "source": [
    "#### Perform allocation"
   ]
  },
  {
   "cell_type": "code",
   "execution_count": 19,
   "id": "e9d39e7c",
   "metadata": {},
   "outputs": [
    {
     "name": "stderr",
     "output_type": "stream",
     "text": [
      "/Users/peterhorton/opt/anaconda3/envs/geo_env/lib/python3.9/site-packages/pandas/core/indexing.py:1720: SettingWithCopyWarning: \n",
      "A value is trying to be set on a copy of a slice from a DataFrame.\n",
      "Try using .loc[row_indexer,col_indexer] = value instead\n",
      "\n",
      "See the caveats in the documentation: https://pandas.pydata.org/pandas-docs/stable/user_guide/indexing.html#returning-a-view-versus-a-copy\n",
      "  self._setitem_single_column(loc, value, pi)\n"
     ]
    },
    {
     "name": "stdout",
     "output_type": "stream",
     "text": [
      "Weren't able to allocate 4 votes in G20PREOFUE District 21\n",
      "Weren't able to allocate 3 votes in G20PREOFUE District 30\n"
     ]
    },
    {
     "name": "stderr",
     "output_type": "stream",
     "text": [
      "/Users/peterhorton/opt/anaconda3/envs/geo_env/lib/python3.9/site-packages/pandas/core/indexing.py:1676: SettingWithCopyWarning: \n",
      "A value is trying to be set on a copy of a slice from a DataFrame.\n",
      "Try using .loc[row_indexer,col_indexer] = value instead\n",
      "\n",
      "See the caveats in the documentation: https://pandas.pydata.org/pandas-docs/stable/user_guide/indexing.html#returning-a-view-versus-a-copy\n",
      "  self._setitem_single_column(ilocs[0], value, pi)\n"
     ]
    }
   ],
   "source": [
    "races=['G20PRERTRU', 'G20PREDBID', 'G20PRELJOR', 'G20PREGJAN',\n",
    "       'G20PRECBLA', 'G20PREIPIE', 'G20PREOFUE', 'G20USSRSUL', 'G20USSDGRO',\n",
    "       'G20USSOHOW', 'G20HALRYOU', 'G20HALDGAL']\n",
    "\n",
    "#Create some new columns for each of these races to deal with the allocation\n",
    "for race in races:\n",
    "    add_var = race+\"_add\"\n",
    "    rem_var = race+\"_rem\"\n",
    "    floor_var = race+\"_floor\"\n",
    "    ak_2020_precinct.loc[:,add_var]=0.0\n",
    "    ak_2020_precinct.loc[:,rem_var]=0.0\n",
    "    ak_2020_precinct.loc[:,floor_var]=0.0\n",
    "\n",
    "#Iterate over the rows\n",
    "#Note this function iterates over the dataframe two times so the rounded vote totals match the totals to allocate\n",
    "for index, row in ak_2020_precinct.iterrows():\n",
    "    for race in races:\n",
    "        add_var = race+\"_add\"\n",
    "        rem_var = race+\"_rem\"\n",
    "        floor_var = race+\"_floor\"\n",
    "        #Grab the district\n",
    "        county_id = row[\"District\"]\n",
    "        #Get the denominator for the allocation (the precinct vote totals)\n",
    "        denom = precinct_specific_totals.loc[precinct_specific_totals[\"District\"]==county_id][race]\n",
    "        #Get one of the numerators, how many districtwide votes to allocate\n",
    "        numer = to_dole_out_totals.loc[to_dole_out_totals[\"District\"]==county_id][race]\n",
    "        #Get the vote totals for this race in this precinct\n",
    "        val = ak_2020_precinct.at[index,race]\n",
    "        #Get the vote share, the precincts % of total precinct votes in the district times votes to allocate\n",
    "        if (float(denom==0)):\n",
    "            vote_share = 0\n",
    "        else:\n",
    "            vote_share = (float(val)/float(denom))*float(numer)\n",
    "        ak_2020_precinct.at[index,add_var] = vote_share\n",
    "        #Take the decimal remainder of the allocation\n",
    "        ak_2020_precinct.at[index,rem_var] = vote_share%1\n",
    "        #Take the floor of the allocation\n",
    "        ak_2020_precinct.at[index,floor_var] = np.floor(vote_share)\n",
    "\n",
    "#After the first pass through, get the sums of the races by district to assist in the rounding            \n",
    "first_allocation = pd.DataFrame(ak_2020_precinct.groupby([\"District\"]).sum())\n",
    "\n",
    "#Now we want to iterate district by district to work on rounding\n",
    "county_list = list(to_dole_out_totals[\"District\"].unique()) \n",
    "\n",
    "#Iterate over the district\n",
    "for county in county_list:\n",
    "    for race in races:\n",
    "        add_var = race+\"_add\"\n",
    "        rem_var = race+\"_rem\"\n",
    "        floor_var = race+\"_floor\"\n",
    "        #County how many votes still need to be allocated (because we took the floor of all the initial allocations)\n",
    "        to_go = int(np.round((int(to_dole_out_totals.loc[to_dole_out_totals[\"District\"]==county][race])-first_allocation.loc[first_allocation.index==county,floor_var])))\n",
    "        #Grab the n precincts with the highest remainders and round these up, where n is the # of votes that still need to be allocated\n",
    "        for index in ak_2020_precinct.loc[ak_2020_precinct[\"District\"]==county][rem_var].nlargest(to_go).index:\n",
    "            ak_2020_precinct.at[index,add_var] = np.ceil(ak_2020_precinct.at[index,add_var])\n",
    "\n",
    "#Iterate over every race again\n",
    "for race in races:\n",
    "    add_var = race+\"_add\"\n",
    "    #Round every allocation down to not add fractional votes\n",
    "    ak_2020_precinct.loc[:,add_var]=np.floor(ak_2020_precinct.loc[:,add_var])\n",
    "    ak_2020_precinct.loc[:,race]+=ak_2020_precinct.loc[:,add_var]\n",
    "\n",
    "#Print out any instances where the allocation, as written, won't work\n",
    "for index, row in precinct_specific_totals.iterrows():\n",
    "    for race in races:\n",
    "        if (row[race]==0):\n",
    "            race_district = row[\"District\"]\n",
    "            to_allocate = int(to_dole_out_totals.loc[to_dole_out_totals[\"District\"]==race_district,race])\n",
    "            if (to_allocate != 0):\n",
    "                print(\"Weren't able to allocate \"+str(to_allocate)+\" votes in \" +str(race)+\" District \"+str(race_district))"
   ]
  },
  {
   "cell_type": "markdown",
   "id": "ebd28b75",
   "metadata": {},
   "source": [
    "#### Look at votes unable to be allocated\n",
    "\n",
    "These handful of votes could not be allocated because there were 0 precinct-level votes and a non-zero number of votes to allocate"
   ]
  },
  {
   "cell_type": "code",
   "execution_count": 24,
   "id": "46acad77",
   "metadata": {},
   "outputs": [
    {
     "name": "stdout",
     "output_type": "stream",
     "text": [
      "Choice District  G20PREOFUE\n",
      "20           21           0\n",
      "29           30           0\n",
      "Choice District  G20PREOFUE\n",
      "20           21           4\n",
      "29           30           3\n"
     ]
    }
   ],
   "source": [
    "print(precinct_specific_totals[precinct_specific_totals[\"G20PREOFUE\"]==0][[\"District\",\"G20PREOFUE\"]])\n",
    "\n",
    "print(to_dole_out_totals[to_dole_out_totals[\"District\"].isin([\"21\",\"30\"])][[\"District\",\"G20PREOFUE\"]])"
   ]
  },
  {
   "cell_type": "code",
   "execution_count": null,
   "id": "f2a564de",
   "metadata": {},
   "outputs": [],
   "source": [
    "ak_2020_precinct[\"Total Votes\"] = 0\n",
    "for race in race:\n",
    "    ak_2020_precinct.loc[:,\"Total Votes\"]"
   ]
  },
  {
   "cell_type": "code",
   "execution_count": 21,
   "id": "e0924ace",
   "metadata": {},
   "outputs": [
    {
     "name": "stdout",
     "output_type": "stream",
     "text": [
      "Choice                 Precinct  G20PRERTRU  G20PREDBID  G20PRELJOR  \\\n",
      "175     21-600 Turnagain No. 1        651.0      2799.0        35.0   \n",
      "176     21-605 Sand Lake No. 1       1338.0      2705.0        52.0   \n",
      "177     21-610 Sand Lake No. 2       1001.0      3143.0        68.0   \n",
      "178     21-615 Sand Lake No. 3        937.0      2080.0        39.0   \n",
      "179        21-620 Lake Spenard        736.0      1953.0        48.0   \n",
      "180           21-625 Lake Hood        972.0      3175.0        48.0   \n",
      "181     21-630 Turnagain No. 2        543.0      2001.0        35.0   \n",
      "182     21-635 Turnagain No. 3        953.0      3551.0        68.0   \n",
      "248             30-200 Central       2172.0      1291.0        75.0   \n",
      "249             30-210 K-Beach       3031.0      1770.0       113.0   \n",
      "250         30-220 Kenai No. 1       2476.0      2069.0        96.0   \n",
      "251         30-230 Kenai No. 2       1396.0      1158.0        39.0   \n",
      "252         30-240 Kenai No. 3       1183.0       896.0        52.0   \n",
      "253            30-250 Soldotna       3291.0      2545.0       132.0   \n",
      "\n",
      "Choice  G20PREGJAN  G20PRECBLA  G20PREIPIE  G20PREOFUE  G20USSRSUL  \\\n",
      "175           12.0         0.0         0.0         0.0       759.0   \n",
      "176           37.0         7.0         0.0         0.0      1416.0   \n",
      "177           12.0        12.0         0.0         0.0      1153.0   \n",
      "178           20.0        19.0        12.0         0.0      1016.0   \n",
      "179           30.0         0.0         3.0         0.0       788.0   \n",
      "180           25.0         0.0         3.0         0.0      1024.0   \n",
      "181           25.0         7.0         5.0         0.0       531.0   \n",
      "182           12.0         5.0         8.0         0.0      1061.0   \n",
      "248            0.0         2.0         6.0         0.0      2128.0   \n",
      "249           25.0         8.0         5.0         0.0      3050.0   \n",
      "250           12.0         1.0         8.0         0.0      2389.0   \n",
      "251            6.0         1.0         0.0         0.0      1387.0   \n",
      "252            6.0         1.0         0.0         0.0      1198.0   \n",
      "253           13.0        20.0         8.0         0.0      3271.0   \n",
      "\n",
      "Choice  G20USSDGRO  ...  G20USSDGRO_floor  G20USSOHOW_add  G20USSOHOW_rem  \\\n",
      "175         2738.0  ...            2060.0             9.0        0.346405   \n",
      "176         2641.0  ...            1987.0            36.0        0.450980   \n",
      "177         2806.0  ...            2111.0            48.0        0.601307   \n",
      "178         2120.0  ...            1595.0            25.0        0.235294   \n",
      "179         1910.0  ...            1437.0            36.0        0.450980   \n",
      "180         3065.0  ...            2306.0            42.0        0.993464   \n",
      "181         2120.0  ...            1595.0            38.0        0.320261   \n",
      "182         3360.0  ...            2528.0            39.0        0.254902   \n",
      "248         1099.0  ...             795.0            48.0        0.292359   \n",
      "249         1674.0  ...            1211.0            51.0        0.960133   \n",
      "250         1869.0  ...            1352.0            70.0        0.299003   \n",
      "251         1099.0  ...             795.0            30.0        0.564784   \n",
      "252          809.0  ...             585.0            24.0        0.451827   \n",
      "253         2494.0  ...            1804.0            70.0        0.910299   \n",
      "\n",
      "Choice G20USSOHOW_floor  G20HALRYOU_add  G20HALRYOU_rem  G20HALRYOU_floor  \\\n",
      "175                 9.0           356.0        0.968230             356.0   \n",
      "176                36.0           690.0        0.844175             690.0   \n",
      "177                48.0           549.0        0.403933             549.0   \n",
      "178                25.0           484.0        0.937973             484.0   \n",
      "179                36.0           390.0        0.644478             390.0   \n",
      "180                42.0           492.0        0.635401             492.0   \n",
      "181                38.0           266.0        0.523449             266.0   \n",
      "182                39.0           511.0        0.878971             511.0   \n",
      "248                48.0          1021.0        0.181818            1021.0   \n",
      "249                51.0          1431.0        0.284091            1431.0   \n",
      "250                70.0          1119.0        0.859848            1119.0   \n",
      "251                30.0           669.0        0.018939             669.0   \n",
      "252                24.0           562.0        0.193182             562.0   \n",
      "253                70.0          1571.0        0.606061            1571.0   \n",
      "\n",
      "Choice  G20HALDGAL_add  G20HALDGAL_rem  G20HALDGAL_floor  \n",
      "175             1854.0        0.471672            1854.0  \n",
      "176             1936.0        0.649147            1936.0  \n",
      "177             2109.0        0.221843            2109.0  \n",
      "178             1586.0        0.025256            1586.0  \n",
      "179             1383.0        0.320819            1383.0  \n",
      "180             2232.0        0.488055            2232.0  \n",
      "181             1506.0        0.587031            1506.0  \n",
      "182             2396.0        0.843003            2396.0  \n",
      "248              803.0        0.626609             803.0  \n",
      "249             1192.0        0.751073            1192.0  \n",
      "250             1364.0        0.050429            1364.0  \n",
      "251              678.0        0.853004             678.0  \n",
      "252              558.0        0.309013             558.0  \n",
      "253             1541.0        0.694206            1541.0  \n",
      "\n",
      "[14 rows x 50 columns]\n"
     ]
    }
   ],
   "source": [
    "print(ak_2020_precinct[ak_2020_precinct[\"District\"].isin([\"21\",\"30\"])])"
   ]
  },
  {
   "cell_type": "code",
   "execution_count": null,
   "id": "bcadfa9f",
   "metadata": {},
   "outputs": [],
   "source": [
    "totals = pd.DataFrame(ak_2020_precinct.sum())\n",
    "precinct_vote_total_across_districts = totals.T"
   ]
  },
  {
   "cell_type": "code",
   "execution_count": null,
   "id": "3f1e3fa8",
   "metadata": {},
   "outputs": [],
   "source": [
    "print(precinct_vote_total_across_districts)\n",
    "print(ak_2020_fed_overseas)"
   ]
  },
  {
   "cell_type": "code",
   "execution_count": null,
   "id": "04eea2e7",
   "metadata": {},
   "outputs": [],
   "source": [
    "for index, row in precinct_vote_total_across_districts.iterrows():\n",
    "    for race in races:\n",
    "        if (row[race]==0):\n",
    "            print(\"yes\")"
   ]
  },
  {
   "cell_type": "code",
   "execution_count": null,
   "id": "3023750d",
   "metadata": {},
   "outputs": [],
   "source": [
    "#Create some new columns for each of these races to deal with the allocation\n",
    "races=['G20PRERTRU', 'G20PREDBID', 'G20PRELJOR', 'G20USSRSUL', 'G20USSDGRO',\n",
    "       'G20USSOHOW', 'G20HALRYOU', 'G20HALDGAL']\n",
    "\n",
    "for race in races:\n",
    "    add_var = race+\"_fed_add\"\n",
    "    rem_var = race+\"_fed_rem\"\n",
    "    floor_var = race+\"_fed_floor\"\n",
    "    ak_2020_precinct.loc[:,add_var]=0.0\n",
    "    ak_2020_precinct.loc[:,rem_var]=0.0\n",
    "    ak_2020_precinct.loc[:,floor_var]=0.0\n",
    "\n",
    "for index, row in ak_2020_precinct.iterrows():\n",
    "    for race in races:\n",
    "            add_var = race+\"_fed_add\"\n",
    "            rem_var = race+\"_fed_rem\"\n",
    "            floor_var = race+\"_fed_floor\"\n",
    "            #Get the denominator for the allocation (the precinct vote totals)\n",
    "            denom = precinct_vote_total_across_districts.iloc[0][race]\n",
    "            #Get one of the numerators, how many countywide votes to allocate\n",
    "            numer = ak_2020_fed_overseas.iloc[0][race]\n",
    "            #Get the vote totals for this race in this precinct\n",
    "            val = ak_2020_precinct.at[index,race]\n",
    "            #Get the vote share, the precincts % of total precinct votes in the county times votes to allocate\n",
    "            vote_share = (float(val)/float(denom))*float(numer)\n",
    "            ak_2020_precinct.at[index,add_var] = vote_share\n",
    "            #Take the decimal remainder of the allocation\n",
    "            ak_2020_precinct.at[index,rem_var] = vote_share%1\n",
    "            #Take the floor of the allocation\n",
    "            ak_2020_precinct.at[index,floor_var] = np.floor(vote_share)\n",
    "            \n",
    "#After the first pass through, get the sums of the races by county \n",
    "totals = pd.DataFrame(ak_2020_precinct.sum())\n",
    "first_allocation = totals.T\n",
    " \n",
    "for race in races:\n",
    "    add_var = race+\"_fed_add\"\n",
    "    rem_var = race+\"_fed_rem\"\n",
    "    floor_var = race+\"_fed_floor\"\n",
    "    #County how many votes still need to be allocated (because we took the floor of all the initial allocations)\n",
    "    to_go = int(np.round((int(ak_2020_fed_overseas.iloc[0][race])-first_allocation.iloc[0][floor_var])))\n",
    "    #Grab the n precincts with the highest remainders and round these up, where n is the # of votes that still need to be allocated\n",
    "    for index in ak_2020_precinct[rem_var].nlargest(to_go).index:\n",
    "        ak_2020_precinct.at[index,add_var] = np.ceil(ak_2020_precinct.at[index,add_var])\n",
    "\n",
    "#Iterate over every race again\n",
    "for race in races:\n",
    "    add_var = race+\"_fed_add\"\n",
    "    #Round every allocation down\n",
    "    ak_2020_precinct.loc[:,add_var]=np.floor(ak_2020_precinct.loc[:,add_var])"
   ]
  },
  {
   "cell_type": "code",
   "execution_count": null,
   "id": "378c8ecb",
   "metadata": {},
   "outputs": [],
   "source": [
    "print(\"Printing issues below: \")\n",
    "for race in races:\n",
    "    add_var = race+\"_fed_add\"\n",
    "    add_var_2 = race+\"_add\"\n",
    "    diff_1 = int(ak_2020_fed_overseas.iloc[0][race]-ak_2020_precinct.loc[:,add_var].sum())\n",
    "    diff_2 = int(to_dole_out_totals.loc[:,race].sum()-ak_2020_precinct.loc[:,add_var_2].sum())\n",
    "    if((diff_1 != 0) & (diff_2 !=0)):\n",
    "        print(diff_1)\n",
    "        print(diff_2)\n",
    "        print(\"Issue with \"+ race)\n",
    "print(\"\")\n",
    "print(\"All others match\")"
   ]
  },
  {
   "cell_type": "code",
   "execution_count": null,
   "id": "24799a12",
   "metadata": {},
   "outputs": [],
   "source": [
    "print(\"Printing issues below: \")\n",
    "for race in races:\n",
    "    add_var = race+\"_fed_add\"\n",
    "    add_var_2 = race+\"_add\"\n",
    "    diff_1 = int(ak_2020_fed_overseas.iloc[0][race]-ak_2020_precinct.loc[:,add_var].sum())\n",
    "    diff_2 = int(to_dole_out_totals.loc[:,race].sum()-ak_2020_precinct.loc[:,add_var_2].sum())\n",
    "    if((diff_1 != 0) & (diff_2 !=0)):\n",
    "        print(diff_1)\n",
    "        print(diff_2)\n",
    "        print(\"Issue with \"+ race)\n",
    "print(\"\")\n",
    "print(\"All others match\")"
   ]
  },
  {
   "cell_type": "code",
   "execution_count": null,
   "id": "58879a33",
   "metadata": {},
   "outputs": [],
   "source": [
    "for race in races:\n",
    "    add_var = race+\"_fed_add\"\n",
    "    #add_var_2 = race+\"_add\"\n",
    "    ak_2020_precinct.loc[:,race]+=ak_2020_precinct.loc[:,add_var]\n",
    "    #ak_2020_precinct.loc[:,race]+=ak_2020_precinct.loc[:,add_var_2]\n",
    "\n",
    "rem_races = [\"G20PREGJAN\",\"G20PRECBLA\",\"G20PREIPIE\",\"G20PREOFUE\"]\n",
    "    \n",
    "#for race in rem_races:\n",
    "    #add_var_2 = race+\"_add\"\n",
    "    #ak_2020_precinct.loc[:,race]+=ak_2020_precinct.loc[:,add_var_2]  "
   ]
  },
  {
   "cell_type": "code",
   "execution_count": null,
   "id": "b58e2707",
   "metadata": {},
   "outputs": [],
   "source": [
    "print(sum(vest_ak_20[\"G20PREOFUE\"]))"
   ]
  },
  {
   "cell_type": "code",
   "execution_count": null,
   "id": "b5b173b2",
   "metadata": {},
   "outputs": [],
   "source": [
    "ak_2020_precinct.columns"
   ]
  },
  {
   "cell_type": "code",
   "execution_count": null,
   "id": "c6fef0d5",
   "metadata": {},
   "outputs": [],
   "source": [
    "ak_2020_precinct = ak_2020_precinct[['Precinct','District', 'G20PRERTRU', 'G20PREDBID', 'G20PRELJOR', 'G20PREGJAN',\n",
    "       'G20PRECBLA', 'G20PREIPIE', 'G20PREOFUE', 'G20USSRSUL', 'G20USSDGRO',\n",
    "       'G20USSOHOW', 'G20HALRYOU', 'G20HALDGAL']]"
   ]
  },
  {
   "cell_type": "code",
   "execution_count": null,
   "id": "0bdb1309",
   "metadata": {},
   "outputs": [],
   "source": [
    "print(\"Printing differences below:\")\n",
    "for race in data_columns:\n",
    "    if (sum(vest_ak_20[race])-sum(ak_2020_precinct[race]) != 0):\n",
    "        print(race+\" has a difference of \"+str(sum(vest_ak_20[race])-sum(ak_2020_precinct[race]))+\" votes\")\n",
    "        print(\"\\tVEST: \"+str(sum(vest_ak_20[race]))+\" votes\")\n",
    "        print(\"\\tSOURCES: \"+str(sum(ak_2020_precinct[race]))+\" votes\")\n",
    "print(\"\")\n",
    "print(\"All other races are equal\")"
   ]
  },
  {
   "cell_type": "code",
   "execution_count": null,
   "id": "51d13256",
   "metadata": {},
   "outputs": [],
   "source": [
    "print(vest_ak_20)"
   ]
  },
  {
   "cell_type": "code",
   "execution_count": null,
   "id": "c04295c6",
   "metadata": {},
   "outputs": [],
   "source": [
    "print(ak_2020_precinct[\"District\"].unique())\n",
    "vest_ak_20[\"District_mod\"] = vest_ak_20[\"DISTRICT\"].str[0:2]\n",
    "print(vest_ak_20[\"District_mod\"].unique())"
   ]
  },
  {
   "cell_type": "code",
   "execution_count": null,
   "id": "26559f33",
   "metadata": {},
   "outputs": [],
   "source": [
    "diff_counties=[]\n",
    "for i in data_columns:\n",
    "    diff = ak_2020_precinct.groupby([\"District\"]).sum()[i]-vest_ak_20.groupby([\"District_mod\"]).sum()[i]\n",
    "    for val in diff[diff != 0].index.values.tolist():\n",
    "        if val not in diff_counties:\n",
    "            diff_counties.append(val)\n",
    "    if len(diff[diff != 0]!=0):\n",
    "        print(i)\n",
    "        print(diff[diff != 0].to_string(header=False))\n",
    "print(\"All other races in all counties are equal\")"
   ]
  },
  {
   "cell_type": "markdown",
   "id": "ff8aa5ea",
   "metadata": {},
   "source": [
    "## Shapefile"
   ]
  },
  {
   "cell_type": "markdown",
   "id": "bcc1f75a",
   "metadata": {},
   "source": [
    "### Load the shapefile, take a look"
   ]
  },
  {
   "cell_type": "code",
   "execution_count": null,
   "id": "3bac8f57",
   "metadata": {},
   "outputs": [],
   "source": [
    "ak_shp = gp.read_file(\"./raw-from-source/Shapefiles/SW Proc Shape Files/2013-SW-Proc-Shape-files.shp\")\n",
    "ak_shp.head(1)"
   ]
  },
  {
   "cell_type": "markdown",
   "id": "d0116481",
   "metadata": {},
   "source": [
    "### Look at election results and shapefile to try to find a unique ID"
   ]
  },
  {
   "cell_type": "code",
   "execution_count": null,
   "id": "23e5f1a6",
   "metadata": {},
   "outputs": [],
   "source": [
    "#Notice that the full Name has a bit of odd formatting in the shapefile, but the first 6 digits appear to match\n",
    "\n",
    "print(ak_shp[\"NAME\"])\n",
    "print(ak_2020_precinct[\"Precinct\"])"
   ]
  },
  {
   "cell_type": "markdown",
   "id": "00c3c86d",
   "metadata": {},
   "source": [
    "### Use just the first 6 digits of Name and Precinct as an alternate unique ID, check if unique"
   ]
  },
  {
   "cell_type": "code",
   "execution_count": null,
   "id": "93328790",
   "metadata": {},
   "outputs": [],
   "source": [
    "ak_2020_precinct[\"join_col\"]=ak_2020_precinct[\"Precinct\"].str[0:6]\n",
    "ak_shp[\"join_col\"]=ak_shp[\"NAME\"].str[0:6]\n",
    "\n",
    "print(ak_shp[\"join_col\"].value_counts())\n",
    "print(ak_2020_precinct[\"join_col\"].value_counts())"
   ]
  },
  {
   "cell_type": "markdown",
   "id": "5718750d",
   "metadata": {},
   "source": [
    "### Attempt to join using this - looks good!"
   ]
  },
  {
   "cell_type": "code",
   "execution_count": null,
   "id": "eab7e92f",
   "metadata": {},
   "outputs": [],
   "source": [
    "first_join = pd.merge(ak_2020_precinct,ak_shp,how=\"outer\",on=\"join_col\",indicator=True)\n",
    "print(first_join[\"_merge\"].value_counts())"
   ]
  },
  {
   "cell_type": "markdown",
   "id": "c23e467e",
   "metadata": {},
   "source": [
    "## Joining to VEST file"
   ]
  },
  {
   "cell_type": "markdown",
   "id": "5dbf0a09",
   "metadata": {},
   "source": [
    "### Use VEST's district as a join column"
   ]
  },
  {
   "cell_type": "code",
   "execution_count": null,
   "id": "53dbb20f",
   "metadata": {},
   "outputs": [],
   "source": [
    "vest_ak_20[\"join_col\"]=vest_ak_20[\"DISTRICT\"]"
   ]
  },
  {
   "cell_type": "markdown",
   "id": "3c818f53",
   "metadata": {},
   "source": [
    "### Attempt to join"
   ]
  },
  {
   "cell_type": "code",
   "execution_count": null,
   "id": "b47b7a25",
   "metadata": {},
   "outputs": [],
   "source": [
    "final_merge = pd.merge(vest_ak_20,first_join,how=\"outer\",on=\"join_col\",indicator=\"final_merge\")\n",
    "print(final_merge[\"final_merge\"].value_counts())"
   ]
  },
  {
   "cell_type": "markdown",
   "id": "e4dff20d",
   "metadata": {},
   "source": [
    "## Check election results precinct-by-precinct"
   ]
  },
  {
   "cell_type": "code",
   "execution_count": null,
   "id": "2b2c8417",
   "metadata": {},
   "outputs": [],
   "source": [
    "def validater_row (df, column_List):\n",
    "    matching_rows = 0\n",
    "    different_rows = 0\n",
    "    diff_list=[]\n",
    "    diff_values = []\n",
    "    max_diff = 0\n",
    "    for j in range(0,len(df.index)):\n",
    "        same = True\n",
    "        for i in column_List:\n",
    "            left_Data = i + \"_x\"\n",
    "            right_Data = i + \"_y\"\n",
    "            diff = abs(df.iloc[j][left_Data]-df.iloc[j][right_Data])\n",
    "            if(diff >0):\n",
    "                if(diff>0):\n",
    "                    print(i, \"{:.>72}\".format(df.iloc[j][\"join_col\"]), \"(V)\",\"{:.>5}\".format(int(df.iloc[j][left_Data])),\" (S){:.>5}\".format(int(df.iloc[j][right_Data])),\"(D):{:>5}\".format(int(df.iloc[j][right_Data])-int(df.iloc[j][left_Data])))           \n",
    "                #print(df.iloc[j]['countypct'])\n",
    "                \n",
    "                diff_values.append(abs(diff))\n",
    "                same = False\n",
    "                if(np.isnan(diff)):\n",
    "                    print(\"NaN value at diff is: \", df.iloc[j][\"join_col\"])\n",
    "                    print(df.iloc[j][left_Data])\n",
    "                    print(df.iloc[j][right_Data])\n",
    "                if (diff>max_diff):\n",
    "                    max_diff = diff\n",
    "                    #print(\"New max diff is: \", str(max_diff))\n",
    "                    #print(df.iloc[j]['cty_pct'])\n",
    "        if(same != True):\n",
    "            different_rows +=1\n",
    "            diff_list.append(df.iloc[j][\"join_col\"])\n",
    "        else:\n",
    "            matching_rows +=1\n",
    "    print(\"\")\n",
    "    print(\"There are \", len(df.index),\" total rows\")\n",
    "    print(different_rows,\" of these rows have election result differences\")\n",
    "    print(matching_rows,\" of these rows are the same\")\n",
    "    print(\"\")\n",
    "    print(\"The max difference between any one shared column in a row is: \", max_diff)\n",
    "    if(len(diff_values)!=0):\n",
    "        print(\"The average difference is: \", str(sum(diff_values)/len(diff_values)))\n",
    "    count_big_diff = len([i for i in diff_values if i > 10])\n",
    "    print(\"There are \", str(count_big_diff), \"precinct results with a difference greater than 10\")\n",
    "    diff_list.sort()\n",
    "    print(diff_list)"
   ]
  },
  {
   "cell_type": "code",
   "execution_count": null,
   "id": "4e9b46f3",
   "metadata": {},
   "outputs": [],
   "source": [
    "validater_row(final_merge,races)"
   ]
  },
  {
   "cell_type": "markdown",
   "id": "97399598",
   "metadata": {},
   "source": [
    "Note: If you scroll down in the above block, you can read the following:\n",
    "        \n",
    "> There are  441  total rows\n",
    "439  of these rows have election result differences\n",
    "2  of these rows are the same\n",
    "\n",
    "> The max difference between any one shared column in a row is:  4.0\n",
    "The average difference is:  1.183591795897949"
   ]
  },
  {
   "cell_type": "markdown",
   "id": "9e2d47bd",
   "metadata": {},
   "source": [
    "## Check geometries"
   ]
  },
  {
   "cell_type": "code",
   "execution_count": null,
   "id": "59080434",
   "metadata": {},
   "outputs": [],
   "source": [
    "both = final_merge[final_merge[\"final_merge\"]==\"both\"]\n",
    "vest_geoms = gp.GeoDataFrame(both,geometry=\"geometry_x\",crs=vest_ak_20.crs)\n",
    "source_geoms = gp.GeoDataFrame(both,geometry=\"geometry_y\",crs=vest_ak_20.crs)\n",
    "source_geoms = source_geoms.to_crs(3857)\n",
    "vest_geoms = vest_geoms.to_crs(3857)\n",
    "source_geoms[\"geometry_x\"]=source_geoms.buffer(0)\n",
    "vest_geoms[\"geometry_y\"]=vest_geoms.buffer(0)\n",
    "vals = source_geoms.geom_almost_equals(vest_geoms,decimal=0)\n",
    "print(vals.value_counts())"
   ]
  },
  {
   "cell_type": "code",
   "execution_count": null,
   "id": "636585ef",
   "metadata": {},
   "outputs": [],
   "source": [
    "count = 0\n",
    "area_list = []\n",
    "for i in range(0,len(source_geoms)):\n",
    "    diff = source_geoms.iloc[[i]].symmetric_difference(vest_geoms.iloc[[i]])\n",
    "    intersection = source_geoms.iloc[[i]].intersection(vest_geoms.iloc[[i]])\n",
    "    area = float(diff.area/10e6)\n",
    "    area_list.append(area)\n",
    "    #print(\"Area is \" + str(area))\n",
    "\n",
    "    if (area > .1):\n",
    "        count += 1\n",
    "        name = source_geoms.iat[i,2]\n",
    "        \n",
    "        print(str(count)+\") For \" + name + \" difference in area is \" + str(area))\n",
    "        if (intersection.iloc[0].is_empty):\n",
    "            base = diff.plot(color=\"red\")\n",
    "            source_geoms.iloc[[i]].plot(color=\"orange\",ax=base)\n",
    "            vest_geoms.iloc[[i]].plot(color=\"blue\",ax=base)\n",
    "            base.set_title(name)\n",
    "        else:\n",
    "            base = diff.plot(color=\"red\")\n",
    "            source_geoms.iloc[[i]].plot(color=\"orange\",ax=base)\n",
    "            vest_geoms.iloc[[i]].plot(color=\"blue\",ax=base)\n",
    "            intersection.plot(color=\"green\",ax=base)\n",
    "            base.set_title(name)"
   ]
  },
  {
   "cell_type": "code",
   "execution_count": null,
   "id": "7f5e8e7c",
   "metadata": {},
   "outputs": [],
   "source": [
    "df = pd.DataFrame(area_list)\n",
    "print(df.shape)\n",
    "\n",
    "print(str(len(df[df[0]==0]))+\" precincts w/ a difference of 0 km^2\")\n",
    "print(str(len(df[(df[0]<.1) & (df[0]>0)]))+ \" precincts w/ a difference between 0 and .1 km^2\")\n",
    "print(str(len(df[(df[0]<.5) & (df[0]>=.1)]))+ \" precincts w/ a difference between .1 and .5 km^2\")\n",
    "print(str(len(df[(df[0]<1) & (df[0]>=.5)]))+ \" precincts w/ a difference between .5 and 1 km^2\")\n",
    "print(str(len(df[(df[0]<2) & (df[0]>=1)]))+ \" precincts w/ a difference between 1 and 2 km^2\")\n",
    "print(str(len(df[(df[0]<5) & (df[0]>=2)]))+ \" precincts w/ a difference between 2 and 5 km^2\")\n",
    "print(str(len(df[(df[0]>=5)]))+ \" precincts w/ a difference greater than 5 km^2\")"
   ]
  }
 ],
 "metadata": {
  "kernelspec": {
   "display_name": "Python 3",
   "language": "python",
   "name": "python3"
  },
  "language_info": {
   "codemirror_mode": {
    "name": "ipython",
    "version": 3
   },
   "file_extension": ".py",
   "mimetype": "text/x-python",
   "name": "python",
   "nbconvert_exporter": "python",
   "pygments_lexer": "ipython3",
   "version": "3.9.2"
  }
 },
 "nbformat": 4,
 "nbformat_minor": 5
}

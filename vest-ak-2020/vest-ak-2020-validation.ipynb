{
 "cells": [
  {
   "cell_type": "code",
   "execution_count": 1,
   "id": "5868b181",
   "metadata": {},
   "outputs": [],
   "source": [
    "import pandas as pd # standard python data library\n",
    "import geopandas as gp # the geo-version of pandas\n",
    "import numpy as np \n",
    "import os\n",
    "import fiona\n",
    "from statistics import mean, median\n",
    "from pandas import read_csv\n",
    "gp.io.file.fiona.drvsupport.supported_drivers['KML'] = 'rw' #To load KML files\n",
    "import string\n",
    "import xml.etree.ElementTree as et"
   ]
  },
  {
   "cell_type": "code",
   "execution_count": 2,
   "id": "ee751ede",
   "metadata": {},
   "outputs": [],
   "source": [
    "vest_ak_20 = gp.read_file(\"./raw-from-source/VEST/ak_2020/ak_2020.shp\")"
   ]
  },
  {
   "cell_type": "code",
   "execution_count": 3,
   "id": "fbc41588",
   "metadata": {},
   "outputs": [
    {
     "name": "stdout",
     "output_type": "stream",
     "text": [
      "(441, 15)\n"
     ]
    }
   ],
   "source": [
    "print(vest_ak_20.shape)"
   ]
  },
  {
   "cell_type": "code",
   "execution_count": 4,
   "id": "a63bbb1c",
   "metadata": {},
   "outputs": [
    {
     "data": {
      "text/html": [
       "<div>\n",
       "<style scoped>\n",
       "    .dataframe tbody tr th:only-of-type {\n",
       "        vertical-align: middle;\n",
       "    }\n",
       "\n",
       "    .dataframe tbody tr th {\n",
       "        vertical-align: top;\n",
       "    }\n",
       "\n",
       "    .dataframe thead th {\n",
       "        text-align: right;\n",
       "    }\n",
       "</style>\n",
       "<table border=\"1\" class=\"dataframe\">\n",
       "  <thead>\n",
       "    <tr style=\"text-align: right;\">\n",
       "      <th></th>\n",
       "      <th>DISTRICT</th>\n",
       "      <th>NAME</th>\n",
       "      <th>G20PRERTRU</th>\n",
       "      <th>G20PREDBID</th>\n",
       "      <th>G20PRELJOR</th>\n",
       "      <th>G20PREGJAN</th>\n",
       "      <th>G20PRECBLA</th>\n",
       "      <th>G20PREIPIE</th>\n",
       "      <th>G20PREOFUE</th>\n",
       "      <th>G20USSRSUL</th>\n",
       "      <th>G20USSDGRO</th>\n",
       "      <th>G20USSOHOW</th>\n",
       "      <th>G20HALRYOU</th>\n",
       "      <th>G20HALDGAL</th>\n",
       "      <th>geometry</th>\n",
       "    </tr>\n",
       "  </thead>\n",
       "  <tbody>\n",
       "    <tr>\n",
       "      <th>0</th>\n",
       "      <td>11-075</td>\n",
       "      <td>11-075 Palmer City No. 2</td>\n",
       "      <td>685</td>\n",
       "      <td>397</td>\n",
       "      <td>46</td>\n",
       "      <td>12</td>\n",
       "      <td>7</td>\n",
       "      <td>0</td>\n",
       "      <td>0</td>\n",
       "      <td>656</td>\n",
       "      <td>421</td>\n",
       "      <td>71</td>\n",
       "      <td>686</td>\n",
       "      <td>441</td>\n",
       "      <td>POLYGON ((-149.13365 61.61026, -149.13361 61.6...</td>\n",
       "    </tr>\n",
       "    <tr>\n",
       "      <th>1</th>\n",
       "      <td>12-220</td>\n",
       "      <td>12-220 Butte</td>\n",
       "      <td>1808</td>\n",
       "      <td>689</td>\n",
       "      <td>62</td>\n",
       "      <td>16</td>\n",
       "      <td>4</td>\n",
       "      <td>3</td>\n",
       "      <td>0</td>\n",
       "      <td>1761</td>\n",
       "      <td>673</td>\n",
       "      <td>96</td>\n",
       "      <td>1780</td>\n",
       "      <td>751</td>\n",
       "      <td>POLYGON ((-148.52103 61.62682, -148.52020 61.6...</td>\n",
       "    </tr>\n",
       "  </tbody>\n",
       "</table>\n",
       "</div>"
      ],
      "text/plain": [
       "  DISTRICT                      NAME  G20PRERTRU  G20PREDBID  G20PRELJOR  \\\n",
       "0   11-075  11-075 Palmer City No. 2         685         397          46   \n",
       "1   12-220              12-220 Butte        1808         689          62   \n",
       "\n",
       "   G20PREGJAN  G20PRECBLA  G20PREIPIE  G20PREOFUE  G20USSRSUL  G20USSDGRO  \\\n",
       "0          12           7           0           0         656         421   \n",
       "1          16           4           3           0        1761         673   \n",
       "\n",
       "   G20USSOHOW  G20HALRYOU  G20HALDGAL  \\\n",
       "0          71         686         441   \n",
       "1          96        1780         751   \n",
       "\n",
       "                                            geometry  \n",
       "0  POLYGON ((-149.13365 61.61026, -149.13361 61.6...  \n",
       "1  POLYGON ((-148.52103 61.62682, -148.52020 61.6...  "
      ]
     },
     "execution_count": 4,
     "metadata": {},
     "output_type": "execute_result"
    }
   ],
   "source": [
    "vest_ak_20.head(2)"
   ]
  },
  {
   "cell_type": "markdown",
   "id": "a7910aca",
   "metadata": {},
   "source": [
    "Election results from Alaska Division of Elections (http://www.elections.alaska.gov/results/20GENR/index.php)\n",
    "Precinct shapefile from Alaska Division of Elections (http://www.elections.alaska.gov/Core/districtmaps.php)\n",
    "\n",
    "Early, Absentee, and Questioned votes are only reported at the State House district level (since Alaska has portions of the state with no lower level of government, HDs serve a similar purpose as counties do in other states for the purpose of reporting votes). These votes are apportioned to precincts by candidate in the same shares that the Election Day vote was split among precincts within an HD. Similarly, federal-only ballots that are reported at the statewide level were apportioned to precincts by candidate based on their share of the precinct-level vote.\n",
    "\n",
    "G20PRERTRU - Donald J. Trump (Republican Party)\n",
    "G20PREDBID - Joseph R. Biden (Democratic Party)\n",
    "G20PRELJOR - Jo Jorgensen (Libertarian Party)\n",
    "G20PREGJAN - James G. \"Jesse Ventura\" Janos (Green Party)\n",
    "G20PRECBLA - Don Blankenship (Conservative Party)\n",
    "G20PREIPIE - Brock Pierce (Independent)\n",
    "G20PREOFUE - Roque \"Rocky\" De La Fuente (Alliance Party)\n",
    "\n",
    "G20USSRSUL - Dan Sullivan (Republican Party)\n",
    "G20USSDGRO - Al Gross (Democratic Party)\n",
    "G20USSOHOW - John Wayne Howe (Alaskan Independence Party)\n",
    "\n",
    "G20HALRYOU - Don Young (Republican Party)\n",
    "G20HALDGAL - Alyse S. Galvin (Democratic Party)"
   ]
  },
  {
   "cell_type": "code",
   "execution_count": 5,
   "id": "e1d0538d",
   "metadata": {},
   "outputs": [],
   "source": [
    "ak_2020 = pd.read_csv(\"./raw-from-source/Election_Results/resultsbyprecinct.txt\",header=None)\n"
   ]
  },
  {
   "cell_type": "code",
   "execution_count": 6,
   "id": "653228df",
   "metadata": {},
   "outputs": [
    {
     "data": {
      "text/html": [
       "<div>\n",
       "<style scoped>\n",
       "    .dataframe tbody tr th:only-of-type {\n",
       "        vertical-align: middle;\n",
       "    }\n",
       "\n",
       "    .dataframe tbody tr th {\n",
       "        vertical-align: top;\n",
       "    }\n",
       "\n",
       "    .dataframe thead th {\n",
       "        text-align: right;\n",
       "    }\n",
       "</style>\n",
       "<table border=\"1\" class=\"dataframe\">\n",
       "  <thead>\n",
       "    <tr style=\"text-align: right;\">\n",
       "      <th></th>\n",
       "      <th>0</th>\n",
       "      <th>1</th>\n",
       "      <th>2</th>\n",
       "      <th>3</th>\n",
       "      <th>4</th>\n",
       "      <th>5</th>\n",
       "      <th>6</th>\n",
       "      <th>7</th>\n",
       "      <th>8</th>\n",
       "    </tr>\n",
       "  </thead>\n",
       "  <tbody>\n",
       "    <tr>\n",
       "      <th>0</th>\n",
       "      <td>HD99 Fed Overseas Absentee</td>\n",
       "      <td>Race Statistics</td>\n",
       "      <td>NP</td>\n",
       "      <td>NP</td>\n",
       "      <td>Number of Precincts</td>\n",
       "      <td>NP</td>\n",
       "      <td>Total</td>\n",
       "      <td>0</td>\n",
       "      <td>NaN</td>\n",
       "    </tr>\n",
       "  </tbody>\n",
       "</table>\n",
       "</div>"
      ],
      "text/plain": [
       "                             0                1   2   3                    4  \\\n",
       "0  HD99 Fed Overseas Absentee   Race Statistics  NP  NP  Number of Precincts   \n",
       "\n",
       "    5      6  7   8  \n",
       "0  NP  Total  0 NaN  "
      ]
     },
     "execution_count": 6,
     "metadata": {},
     "output_type": "execute_result"
    }
   ],
   "source": [
    "ak_2020.head(1)"
   ]
  },
  {
   "cell_type": "code",
   "execution_count": 7,
   "id": "a82cbb78",
   "metadata": {},
   "outputs": [],
   "source": [
    "ak_2020.columns = [\"Precinct\",\"Race\",\"Blank_1\",\"Blank_2\",\"Choice\",\"Party\",\"Type\",\"Votes\",\"Extra\"]\n",
    "ak_2020 = ak_2020 [[\"Precinct\",\"Race\",\"Choice\",\"Party\",\"Votes\"]]"
   ]
  },
  {
   "cell_type": "code",
   "execution_count": 8,
   "id": "3362cabc",
   "metadata": {},
   "outputs": [
    {
     "name": "stdout",
     "output_type": "stream",
     "text": [
      "['Race Statistics' 'U.S. President / Vice President\"\"' 'U.S. Senator\"\"'\n",
      " 'U.S. Representative\"\"' 'House District 1\"\"' 'Supreme Court - Carney\"\"'\n",
      " 'Court of Appeals - Wollenberg\"\"' 'Superior Court JD4 - Peters\"\"'\n",
      " 'District Court JD4 - Christian\"\"' 'District Court JD4 - Montgomery\"\"'\n",
      " 'Ballot Measure No. 1 - 19OGTX\"\"' 'Ballot Measure No. 2 - 19AKBE\"\"'\n",
      " 'House District 2\"\"' 'Senate District B\"\"' 'House District 3\"\"'\n",
      " 'House District 4\"\"' 'House District 5\"\"' 'House District 6\"\"'\n",
      " 'Superior Court JD3 - Crosby\"\"' 'Superior Court JD3 - Guidi\"\"'\n",
      " 'Superior Court JD3 - Henderson\"\"' 'Superior Court JD3 - Lamoureux\"\"'\n",
      " 'Superior Court JD3 - Miller\"\"' 'Superior Court JD3 - Reigh\"\"'\n",
      " 'Superior Court JD3 - Wells\"\"' 'Superior Court JD3 - Woodman\"\"'\n",
      " 'District Court JD3 - Dickson\"\"' 'District Court JD3 - Franciosi\"\"'\n",
      " 'District Court JD3 - Hanley\"\"' 'District Court JD3 - Logue\"\"'\n",
      " 'District Court JD3 - McCrea\"\"' 'District Court JD3 - Wallace\"\"'\n",
      " 'District Court JD3 - Washington\"\"' 'Senate District D\"\"'\n",
      " 'House District 7\"\"' 'House District 8\"\"' 'House District 9\"\"'\n",
      " 'House District 10\"\"' 'Senate District F\"\"' 'House District 11\"\"'\n",
      " 'House District 12\"\"' 'House District 13\"\"' 'House District 14\"\"'\n",
      " 'Senate District H\"\"' 'House District 15\"\"' 'House District 16\"\"'\n",
      " 'House District 17\"\"' 'House District 18\"\"' 'Senate District J\"\"'\n",
      " 'House District 19\"\"' 'House District 20\"\"' 'House District 21\"\"'\n",
      " 'House District 22\"\"' 'Senate District L\"\"' 'House District 23\"\"'\n",
      " 'House District 24\"\"' 'Senate District M\"\"' 'House District 25\"\"'\n",
      " 'House District 26\"\"' 'Senate District N\"\"' 'House District 27\"\"'\n",
      " 'House District 28\"\"' 'House District 29\"\"' 'House District 30\"\"'\n",
      " 'Senate District P\"\"' 'House District 31\"\"' 'House District 32\"\"'\n",
      " 'House District 33\"\"' 'House District 34\"\"' 'Senate District R\"\"'\n",
      " 'House District 35\"\"' 'House District 36\"\"' 'House District 37\"\"'\n",
      " 'House District 38\"\"' 'Senate District T\"\"' 'House District 39\"\"'\n",
      " 'Superior Court JD2 - DiBenedetto\"\"' 'Superior Court JD2 - Roetman\"\"'\n",
      " 'House District 40\"\"']\n"
     ]
    }
   ],
   "source": [
    "print(ak_2020[\"Race\"].unique())"
   ]
  },
  {
   "cell_type": "code",
   "execution_count": 9,
   "id": "d02bf012",
   "metadata": {},
   "outputs": [],
   "source": [
    "race_list = ['U.S. President / Vice President\"\"', 'U.S. Senator\"\"','U.S. Representative\"\"']\n",
    "ak_2020 = ak_2020[ak_2020[\"Race\"].isin(race_list)]"
   ]
  },
  {
   "cell_type": "code",
   "execution_count": 10,
   "id": "90b1ed15",
   "metadata": {},
   "outputs": [
    {
     "data": {
      "text/plain": [
       "array(['Number of Precincts for Race', 'Number of Precincts Reporting',\n",
       "       'Registered Voters', 'Times Counted',\n",
       "       'Biden  Joseph R. Jr. / Harris  Kamala D.\"\"',\n",
       "       'Blankenship  Don / Mohr  William\"\"',\n",
       "       'De La Fuente  Rocque \"Rocky\" / Richardson  Darcy G.\"\"',\n",
       "       'Janos  James G. \"Jesse Ventura\" / McKinney  Cynthia\"\"',\n",
       "       'Jorgensen  Jo / Cohen  Jeremy \"Spike\"\"\"',\n",
       "       'Pierce  Brock / Ballard  Karla\"\"',\n",
       "       'Trump  Donald J. / Pence  Michael R.\"\"', 'Gross  Al\"\"',\n",
       "       'Howe  John Wayne\"\"', 'Sullivan  Dan\"\"', 'Galvin  Alyse S.\"\"',\n",
       "       'Young  Don\"\"'], dtype=object)"
      ]
     },
     "execution_count": 10,
     "metadata": {},
     "output_type": "execute_result"
    }
   ],
   "source": [
    "ak_2020[\"Choice\"].unique()"
   ]
  },
  {
   "cell_type": "code",
   "execution_count": 11,
   "id": "77e3ca7d",
   "metadata": {},
   "outputs": [],
   "source": [
    "choice_list = ['Biden  Joseph R. Jr. / Harris  Kamala D.\"\"',\n",
    "       'Blankenship  Don / Mohr  William\"\"',\n",
    "       'De La Fuente  Rocque \"Rocky\" / Richardson  Darcy G.\"\"',\n",
    "       'Janos  James G. \"Jesse Ventura\" / McKinney  Cynthia\"\"',\n",
    "       'Jorgensen  Jo / Cohen  Jeremy \"Spike\"\"\"',\n",
    "       'Pierce  Brock / Ballard  Karla\"\"',\n",
    "       'Trump  Donald J. / Pence  Michael R.\"\"', 'Gross  Al\"\"',\n",
    "       'Howe  John Wayne\"\"', 'Sullivan  Dan\"\"', 'Galvin  Alyse S.\"\"',\n",
    "       'Young  Don\"\"']\n",
    "ak_2020 = ak_2020[ak_2020[\"Choice\"].isin(choice_list)]"
   ]
  },
  {
   "cell_type": "code",
   "execution_count": 12,
   "id": "f7d9476a",
   "metadata": {},
   "outputs": [],
   "source": [
    "ak_2020_pvt = pd.pivot_table(ak_2020,index=[\"Precinct\"],values=[\"Votes\"],columns=[\"Choice\"],aggfunc=sum)\n",
    "ak_2020_pvt.columns=ak_2020_pvt.columns.droplevel(0)\n",
    "ak_2020_pvt.reset_index(inplace=True,drop=False)"
   ]
  },
  {
   "cell_type": "code",
   "execution_count": 13,
   "id": "ff6301f9",
   "metadata": {},
   "outputs": [
    {
     "data": {
      "text/html": [
       "<div>\n",
       "<style scoped>\n",
       "    .dataframe tbody tr th:only-of-type {\n",
       "        vertical-align: middle;\n",
       "    }\n",
       "\n",
       "    .dataframe tbody tr th {\n",
       "        vertical-align: top;\n",
       "    }\n",
       "\n",
       "    .dataframe thead th {\n",
       "        text-align: right;\n",
       "    }\n",
       "</style>\n",
       "<table border=\"1\" class=\"dataframe\">\n",
       "  <thead>\n",
       "    <tr style=\"text-align: right;\">\n",
       "      <th>Choice</th>\n",
       "      <th>Precinct</th>\n",
       "      <th>Biden  Joseph R. Jr. / Harris  Kamala D.\"\"</th>\n",
       "      <th>Blankenship  Don / Mohr  William\"\"</th>\n",
       "      <th>De La Fuente  Rocque \"Rocky\" / Richardson  Darcy G.\"\"</th>\n",
       "      <th>Galvin  Alyse S.\"\"</th>\n",
       "      <th>Gross  Al\"\"</th>\n",
       "      <th>Howe  John Wayne\"\"</th>\n",
       "      <th>Janos  James G. \"Jesse Ventura\" / McKinney  Cynthia\"\"</th>\n",
       "      <th>Jorgensen  Jo / Cohen  Jeremy \"Spike\"\"\"</th>\n",
       "      <th>Pierce  Brock / Ballard  Karla\"\"</th>\n",
       "      <th>Sullivan  Dan\"\"</th>\n",
       "      <th>Trump  Donald J. / Pence  Michael R.\"\"</th>\n",
       "      <th>Young  Don\"\"</th>\n",
       "    </tr>\n",
       "  </thead>\n",
       "  <tbody>\n",
       "    <tr>\n",
       "      <th>0</th>\n",
       "      <td>01-446 Aurora</td>\n",
       "      <td>239</td>\n",
       "      <td>3</td>\n",
       "      <td>0</td>\n",
       "      <td>293</td>\n",
       "      <td>246</td>\n",
       "      <td>46</td>\n",
       "      <td>2</td>\n",
       "      <td>43</td>\n",
       "      <td>3</td>\n",
       "      <td>465</td>\n",
       "      <td>466</td>\n",
       "      <td>452</td>\n",
       "    </tr>\n",
       "  </tbody>\n",
       "</table>\n",
       "</div>"
      ],
      "text/plain": [
       "Choice        Precinct  Biden  Joseph R. Jr. / Harris  Kamala D.\"\"  \\\n",
       "0       01-446 Aurora                                          239   \n",
       "\n",
       "Choice  Blankenship  Don / Mohr  William\"\"  \\\n",
       "0                                        3   \n",
       "\n",
       "Choice  De La Fuente  Rocque \"Rocky\" / Richardson  Darcy G.\"\"  \\\n",
       "0                                                       0       \n",
       "\n",
       "Choice  Galvin  Alyse S.\"\"  Gross  Al\"\"  Howe  John Wayne\"\"  \\\n",
       "0                      293          246                  46   \n",
       "\n",
       "Choice  Janos  James G. \"Jesse Ventura\" / McKinney  Cynthia\"\"  \\\n",
       "0                                                       2       \n",
       "\n",
       "Choice  Jorgensen  Jo / Cohen  Jeremy \"Spike\"\"\"  \\\n",
       "0                                            43   \n",
       "\n",
       "Choice  Pierce  Brock / Ballard  Karla\"\"  Sullivan  Dan\"\"  \\\n",
       "0                                      3              465   \n",
       "\n",
       "Choice  Trump  Donald J. / Pence  Michael R.\"\"  Young  Don\"\"  \n",
       "0                                          466           452  "
      ]
     },
     "execution_count": 13,
     "metadata": {},
     "output_type": "execute_result"
    }
   ],
   "source": [
    "ak_2020_pvt.head(1)"
   ]
  },
  {
   "cell_type": "code",
   "execution_count": 14,
   "id": "b3209ec2",
   "metadata": {},
   "outputs": [
    {
     "name": "stdout",
     "output_type": "stream",
     "text": [
      "Index(['Precinct', 'Biden  Joseph R. Jr. / Harris  Kamala D.\"\"',\n",
      "       'Blankenship  Don / Mohr  William\"\"',\n",
      "       'De La Fuente  Rocque \"Rocky\" / Richardson  Darcy G.\"\"',\n",
      "       'Galvin  Alyse S.\"\"', 'Gross  Al\"\"', 'Howe  John Wayne\"\"',\n",
      "       'Janos  James G. \"Jesse Ventura\" / McKinney  Cynthia\"\"',\n",
      "       'Jorgensen  Jo / Cohen  Jeremy \"Spike\"\"\"',\n",
      "       'Pierce  Brock / Ballard  Karla\"\"', 'Sullivan  Dan\"\"',\n",
      "       'Trump  Donald J. / Pence  Michael R.\"\"', 'Young  Don\"\"'],\n",
      "      dtype='object', name='Choice')\n"
     ]
    }
   ],
   "source": [
    "print(ak_2020_pvt.columns)"
   ]
  },
  {
   "cell_type": "code",
   "execution_count": 15,
   "id": "7042a3d8",
   "metadata": {},
   "outputs": [],
   "source": [
    "column_changes_dict = {'Biden  Joseph R. Jr. / Harris  Kamala D.\"\"':\"G20PREDBID\",\n",
    "                       'Jorgensen  Jo / Cohen  Jeremy \"Spike\"\"\"':\"G20PRELJOR\",\n",
    "                       'Trump  Donald J. / Pence  Michael R.\"\"':\"G20PRERTRU\",\n",
    "                       'Blankenship  Don / Mohr  William\"\"':\"G20PRECBLA\",\n",
    "       'De La Fuente  Rocque \"Rocky\" / Richardson  Darcy G.\"\"':\"G20PREOFUE\",\n",
    "        'Janos  James G. \"Jesse Ventura\" / McKinney  Cynthia\"\"':\"G20PREGJAN\",\n",
    "                       'Pierce  Brock / Ballard  Karla\"\"':\"G20PREIPIE\", \n",
    "        'Gross  Al\"\"':\"G20USSDGRO\", \n",
    "        'Howe  John Wayne\"\"':\"G20USSOHOW\",\n",
    "         'Sullivan  Dan\"\"':\"G20USSRSUL\",\n",
    "                       \n",
    "       'Galvin  Alyse S.\"\"':\"G20HALDGAL\",               \n",
    "        'Young  Don\"\"':\"G20HALRYOU\"\n",
    "    \n",
    "}\n",
    "\n",
    "ak_2020_pvt = ak_2020_pvt.rename(columns=column_changes_dict)"
   ]
  },
  {
   "cell_type": "code",
   "execution_count": 16,
   "id": "5bb70b79",
   "metadata": {},
   "outputs": [
    {
     "name": "stdout",
     "output_type": "stream",
     "text": [
      "Choice                 Precinct  G20PREDBID  G20PRECBLA  G20PREOFUE  \\\n",
      "0                01-446 Aurora          239           3           0   \n",
      "1       01-455 Fairbanks No. 1           47           0           0   \n",
      "2       01-465 Fairbanks No. 2           85           1           1   \n",
      "3       01-470 Fairbanks No. 3          128           0           1   \n",
      "4       01-475 Fairbanks No. 4          103           2           0   \n",
      "\n",
      "Choice  G20HALDGAL  G20USSDGRO  G20USSOHOW  G20PREGJAN  G20PRELJOR  \\\n",
      "0              293         246          46           2          43   \n",
      "1               50          47           8           1           2   \n",
      "2               98          79          23           1          12   \n",
      "3              141         128          13           2          11   \n",
      "4              110          91          16           1           5   \n",
      "\n",
      "Choice  G20PREIPIE  G20USSRSUL  G20PRERTRU  G20HALRYOU  \n",
      "0                3         465         466         452  \n",
      "1                0          83          90          91  \n",
      "2                0         120         123         120  \n",
      "3                4         213         210         215  \n",
      "4                1         126         122         124  \n"
     ]
    }
   ],
   "source": [
    "print(ak_2020_pvt.head())\n",
    "\n",
    "ak_2020_pvt = ak_2020_pvt[[\"Precinct\",'G20PRERTRU', 'G20PREDBID', 'G20PRELJOR',\n",
    "       'G20PREGJAN', 'G20PRECBLA', 'G20PREIPIE', 'G20PREOFUE', 'G20USSRSUL',\n",
    "       'G20USSDGRO', 'G20USSOHOW', 'G20HALRYOU', 'G20HALDGAL']]"
   ]
  },
  {
   "cell_type": "code",
   "execution_count": 17,
   "id": "f8043748",
   "metadata": {},
   "outputs": [
    {
     "name": "stdout",
     "output_type": "stream",
     "text": [
      "Index(['DISTRICT', 'NAME', 'G20PRERTRU', 'G20PREDBID', 'G20PRELJOR',\n",
      "       'G20PREGJAN', 'G20PRECBLA', 'G20PREIPIE', 'G20PREOFUE', 'G20USSRSUL',\n",
      "       'G20USSDGRO', 'G20USSOHOW', 'G20HALRYOU', 'G20HALDGAL', 'geometry'],\n",
      "      dtype='object')\n"
     ]
    }
   ],
   "source": [
    "print(vest_ak_20.columns)"
   ]
  },
  {
   "cell_type": "code",
   "execution_count": 18,
   "id": "c62fda5e",
   "metadata": {},
   "outputs": [],
   "source": [
    "data_columns = ['G20PRERTRU', 'G20PREDBID', 'G20PRELJOR',\n",
    "       'G20PREGJAN', 'G20PRECBLA', 'G20PREIPIE', 'G20PREOFUE', 'G20USSRSUL',\n",
    "       'G20USSDGRO', 'G20USSOHOW', 'G20HALRYOU', 'G20HALDGAL']"
   ]
  },
  {
   "cell_type": "code",
   "execution_count": 19,
   "id": "f104e255",
   "metadata": {},
   "outputs": [
    {
     "name": "stdout",
     "output_type": "stream",
     "text": [
      "Printing differences below:\n",
      "\n",
      "All other races are equal\n"
     ]
    }
   ],
   "source": [
    "print(\"Printing differences below:\")\n",
    "for race in data_columns:\n",
    "    if (sum(vest_ak_20[race])-sum(ak_2020_pvt[race]) != 0):\n",
    "        print(race+\" has a difference of \"+str(sum(vest_ak_16[race])-sum(ak_2020_pvt[race]))+\" votes\")\n",
    "        print(\"\\tVEST: \"+str(sum(vest_ak_20[race]))+\" votes\")\n",
    "        print(\"\\tSOURCES: \"+str(sum(ak_2020_pvt[race]))+\" votes\")\n",
    "print(\"\")\n",
    "print(\"All other races are equal\")"
   ]
  },
  {
   "cell_type": "markdown",
   "id": "767b509a",
   "metadata": {},
   "source": [
    "Early, Absentee, and Questioned votes are only reported at the State House district level (since Alaska has portions of the state with no lower level of government, HDs serve a similar purpose as counties do in other states for the purpose of reporting votes). These votes are apportioned to precincts by candidate in the same shares that the Election Day vote was split among precincts within an HD. Similarly, federal-only ballots that are reported at the statewide level were apportioned to precincts by candidate based on their share of the precinct-level vote."
   ]
  },
  {
   "cell_type": "code",
   "execution_count": 20,
   "id": "4f843bf0",
   "metadata": {},
   "outputs": [],
   "source": [
    "races=['G20PRERTRU', 'G20PREDBID', 'G20PRELJOR', 'G20PREGJAN',\n",
    "       'G20PRECBLA', 'G20PREIPIE', 'G20PREOFUE', 'G20USSRSUL', 'G20USSDGRO',\n",
    "       'G20USSOHOW', 'G20HALRYOU', 'G20HALDGAL']\n",
    "for race in races:\n",
    "    ak_2020_pvt[race] = ak_2020_pvt[race].astype(int)"
   ]
  },
  {
   "cell_type": "code",
   "execution_count": 21,
   "id": "be90da94",
   "metadata": {},
   "outputs": [],
   "source": [
    "to_allocate = list(ak_2020_pvt[ak_2020_pvt[\"Precinct\"].str.contains(\"District\")][\"Precinct\"])"
   ]
  },
  {
   "cell_type": "code",
   "execution_count": 22,
   "id": "9695423a",
   "metadata": {},
   "outputs": [
    {
     "name": "stdout",
     "output_type": "stream",
     "text": [
      "['District 1  - Question ', 'District 1 - Absentee ', 'District 1 - Early Voting ', 'District 10  - Question ', 'District 10 - Absentee ', 'District 10 - Early Voting ', 'District 11  - Question ', 'District 11 - Absentee ', 'District 11 - Early Voting ', 'District 12  - Question ', 'District 12 - Absentee ', 'District 12 - Early Voting ', 'District 13  - Question ', 'District 13 - Absentee ', 'District 13 - Early Voting ', 'District 14  - Question ', 'District 14 - Absentee ', 'District 14 - Early Voting ', 'District 15  - Question ', 'District 15 - Absentee ', 'District 15 - Early Voting ', 'District 16  - Question ', 'District 16 - Absentee ', 'District 16 - Early Voting ', 'District 17  - Question ', 'District 17 - Absentee ', 'District 17 - Early Voting ', 'District 18  - Question ', 'District 18 - Absentee ', 'District 18 - Early Voting ', 'District 19  - Question ', 'District 19 - Absentee ', 'District 19 - Early Voting ', 'District 2  - Question ', 'District 2 - Absentee ', 'District 2 - Early Voting ', 'District 20  - Question ', 'District 20 - Absentee ', 'District 20 - Early Voting ', 'District 21  - Question ', 'District 21 - Absentee ', 'District 21 - Early Voting ', 'District 22  - Question ', 'District 22 - Absentee ', 'District 22 - Early Voting ', 'District 23  - Question ', 'District 23 - Absentee ', 'District 23 - Early Voting ', 'District 24  - Question ', 'District 24 - Absentee ', 'District 24 - Early Voting ', 'District 25  - Question ', 'District 25 - Absentee ', 'District 25 - Early Voting ', 'District 26  - Question ', 'District 26 - Absentee ', 'District 26 - Early Voting ', 'District 27  - Question ', 'District 27 - Absentee ', 'District 27 - Early Voting ', 'District 28  - Question ', 'District 28 - Absentee ', 'District 28 - Early Voting ', 'District 29  - Question ', 'District 29 - Absentee ', 'District 29 - Early Voting ', 'District 3  - Question ', 'District 3 - Absentee ', 'District 3 - Early Voting ', 'District 30  - Question ', 'District 30 - Absentee ', 'District 30 - Early Voting ', 'District 31  - Question ', 'District 31 - Absentee ', 'District 31 - Early Voting ', 'District 32  - Question District 32  - Question - 1', 'District 32  - Question District 32  - Question - 2', 'District 32 - Absentee District 32 - Absentee - 1', 'District 32 - Absentee District 32 - Absentee - 2', 'District 32 - Early Voting District 32 - Early Voting - 1', 'District 32 - Early Voting District 32 - Early Voting - 2', 'District 33  - Question ', 'District 33 - Absentee ', 'District 33 - Early Voting ', 'District 34  - Question ', 'District 34 - Absentee ', 'District 34 - Early Voting ', 'District 35  - Question ', 'District 35 - Absentee ', 'District 35 - Early Voting ', 'District 36  - Question ', 'District 36 - Absentee ', 'District 36 - Early Voting ', 'District 37  - Question District 37  - Question - 1', 'District 37  - Question District 37  - Question - 2', 'District 37 - Absentee District 37 - Absentee - 1', 'District 37 - Absentee District 37 - Absentee - 2', 'District 37 - Early Voting District 37 - Early Voting - 1', 'District 37 - Early Voting District 37 - Early Voting - 2', 'District 38  - Question ', 'District 38 - Absentee ', 'District 38 - Early Voting ', 'District 39  - Question District 39  - Question - 1', 'District 39  - Question District 39  - Question - 2', 'District 39 - Absentee District 39 - Absentee - 1', 'District 39 - Absentee District 39 - Absentee - 2', 'District 39 - Early Voting District 39 - Early Voting - 1', 'District 39 - Early Voting District 39 - Early Voting - 2', 'District 4  - Question ', 'District 4 - Absentee ', 'District 4 - Early Voting ', 'District 40  - Question District 40  - Question - 1', 'District 40  - Question District 40  - Question - 2', 'District 40 - Absentee District 40 - Absentee - 1', 'District 40 - Absentee District 40 - Absentee - 2', 'District 40 - Early Voting District 40 - Early Voting - 1', 'District 40 - Early Voting District 40 - Early Voting - 2', 'District 5  - Question ', 'District 5 - Absentee ', 'District 5 - Early Voting ', 'District 6  - Question District 6  - Question - 1', 'District 6  - Question District 6  - Question - 2', 'District 6 - Absentee District 6 - Absentee - 1', 'District 6 - Absentee District 6 - Absentee - 2', 'District 6 - Early Voting District 6 - Early Voting - 1', 'District 6 - Early Voting District 6 - Early Voting - 2', 'District 7  - Question ', 'District 7 - Absentee ', 'District 7 - Early Voting ', 'District 8  - Question ', 'District 8 - Absentee ', 'District 8 - Early Voting ', 'District 9  - Question District 9  - Question - 1', 'District 9  - Question District 9  - Question - 2', 'District 9 - Absentee District 9 - Absentee - 1', 'District 9 - Absentee District 9 - Absentee - 2', 'District 9 - Early Voting District 9 - Early Voting - 1', 'District 9 - Early Voting District 9 - Early Voting - 2']\n"
     ]
    }
   ],
   "source": [
    "print(to_allocate)"
   ]
  },
  {
   "cell_type": "code",
   "execution_count": 23,
   "id": "04ec3a61",
   "metadata": {},
   "outputs": [],
   "source": [
    "ak_2020_to_allocate = ak_2020_pvt[ak_2020_pvt[\"Precinct\"].isin(to_allocate)]\n",
    "ak_2020_precinct = ak_2020_pvt[~(ak_2020_pvt[\"Precinct\"].isin(to_allocate)) & (ak_2020_pvt[\"Precinct\"]!=\"HD99 Fed Overseas Absentee \")]\n",
    "ak_2020_fed_overseas = ak_2020_pvt[ak_2020_pvt[\"Precinct\"]==\"HD99 Fed Overseas Absentee \"]"
   ]
  },
  {
   "cell_type": "code",
   "execution_count": 24,
   "id": "b345570f",
   "metadata": {},
   "outputs": [
    {
     "name": "stdout",
     "output_type": "stream",
     "text": [
      "318\n"
     ]
    }
   ],
   "source": [
    "print(sum(ak_2020_pvt[\"G20PREOFUE\"]))"
   ]
  },
  {
   "cell_type": "code",
   "execution_count": 25,
   "id": "be9f7188",
   "metadata": {},
   "outputs": [
    {
     "name": "stdout",
     "output_type": "stream",
     "text": [
      "(138, 13)\n",
      "(441, 13)\n",
      "(1, 13)\n",
      "(580, 13)\n"
     ]
    }
   ],
   "source": [
    "print(ak_2020_to_allocate.shape)\n",
    "print(ak_2020_precinct.shape)\n",
    "print(ak_2020_fed_overseas.shape)\n",
    "print(ak_2020_pvt.shape)"
   ]
  },
  {
   "cell_type": "code",
   "execution_count": 26,
   "id": "708385b2",
   "metadata": {},
   "outputs": [
    {
     "data": {
      "text/plain": [
       "Index(['Precinct', 'G20PRERTRU', 'G20PREDBID', 'G20PRELJOR', 'G20PREGJAN',\n",
       "       'G20PRECBLA', 'G20PREIPIE', 'G20PREOFUE', 'G20USSRSUL', 'G20USSDGRO',\n",
       "       'G20USSOHOW', 'G20HALRYOU', 'G20HALDGAL'],\n",
       "      dtype='object', name='Choice')"
      ]
     },
     "execution_count": 26,
     "metadata": {},
     "output_type": "execute_result"
    }
   ],
   "source": [
    "ak_2020_precinct.columns"
   ]
  },
  {
   "cell_type": "code",
   "execution_count": 27,
   "id": "34a04772",
   "metadata": {},
   "outputs": [
    {
     "name": "stderr",
     "output_type": "stream",
     "text": [
      "/Users/peterhorton/opt/anaconda3/envs/geo_env/lib/python3.9/site-packages/pandas/core/indexing.py:1597: SettingWithCopyWarning: \n",
      "A value is trying to be set on a copy of a slice from a DataFrame.\n",
      "Try using .loc[row_indexer,col_indexer] = value instead\n",
      "\n",
      "See the caveats in the documentation: https://pandas.pydata.org/pandas-docs/stable/user_guide/indexing.html#returning-a-view-versus-a-copy\n",
      "  self.obj[key] = value\n",
      "/Users/peterhorton/opt/anaconda3/envs/geo_env/lib/python3.9/site-packages/pandas/core/indexing.py:1676: SettingWithCopyWarning: \n",
      "A value is trying to be set on a copy of a slice from a DataFrame.\n",
      "Try using .loc[row_indexer,col_indexer] = value instead\n",
      "\n",
      "See the caveats in the documentation: https://pandas.pydata.org/pandas-docs/stable/user_guide/indexing.html#returning-a-view-versus-a-copy\n",
      "  self._setitem_single_column(ilocs[0], value, pi)\n"
     ]
    }
   ],
   "source": [
    "ak_2020_precinct.loc[:,\"District\"] = ak_2020_precinct.loc[:,\"Precinct\"].apply(lambda x: x[0:2])\n",
    "ak_2020_to_allocate.loc[:,\"col_names\"]=ak_2020_to_allocate.loc[:,\"Precinct\"].str.split(\" - \")\n",
    "ak_2020_to_allocate.loc[:,\"District\"]=ak_2020_to_allocate.loc[:,\"col_names\"].apply(lambda x: x[0].strip()[9:].zfill(2))"
   ]
  },
  {
   "cell_type": "code",
   "execution_count": 28,
   "id": "996acd59",
   "metadata": {},
   "outputs": [
    {
     "name": "stdout",
     "output_type": "stream",
     "text": [
      "40\n",
      "40\n"
     ]
    }
   ],
   "source": [
    "print(len(ak_2020_to_allocate[\"District\"].unique()))\n",
    "print(len(ak_2020_precinct[\"District\"].unique()))"
   ]
  },
  {
   "cell_type": "code",
   "execution_count": 29,
   "id": "2a6e04ae",
   "metadata": {},
   "outputs": [],
   "source": [
    "to_dole_out_totals = pd.DataFrame(ak_2020_to_allocate.groupby([\"District\"]).sum())\n",
    "to_dole_out_totals.reset_index(inplace=True,drop=False)"
   ]
  },
  {
   "cell_type": "code",
   "execution_count": 30,
   "id": "fff6af46",
   "metadata": {},
   "outputs": [
    {
     "name": "stdout",
     "output_type": "stream",
     "text": [
      "136\n"
     ]
    }
   ],
   "source": [
    "print(sum(to_dole_out_totals[\"G20PREOFUE\"]))"
   ]
  },
  {
   "cell_type": "code",
   "execution_count": 31,
   "id": "fd9b38ac",
   "metadata": {},
   "outputs": [
    {
     "name": "stdout",
     "output_type": "stream",
     "text": [
      "['01' '02' '03' '04' '05' '06' '07' '08' '09' '10' '11' '12' '13' '14'\n",
      " '15' '16' '17' '18' '19' '20' '21' '22' '23' '24' '25' '26' '27' '28'\n",
      " '29' '30' '31' '32' '33' '34' '35' '36' '37' '38' '39' '40']\n"
     ]
    }
   ],
   "source": [
    "print(to_dole_out_totals[\"District\"].unique())"
   ]
  },
  {
   "cell_type": "code",
   "execution_count": 32,
   "id": "92d1c599",
   "metadata": {},
   "outputs": [],
   "source": [
    "precinct_specific_totals = pd.DataFrame(ak_2020_precinct.groupby([\"District\"]).sum())\n",
    "precinct_specific_totals.reset_index(inplace=True,drop=False)"
   ]
  },
  {
   "cell_type": "code",
   "execution_count": 69,
   "id": "70ac11e8",
   "metadata": {},
   "outputs": [
    {
     "name": "stdout",
     "output_type": "stream",
     "text": [
      "Weren't able to allocate 4 votes in G20PREOFUE 21\n",
      "Weren't able to allocate 3 votes in G20PREOFUE 30\n"
     ]
    }
   ],
   "source": [
    "races=['G20PRERTRU', 'G20PREDBID', 'G20PRELJOR', 'G20PREGJAN',\n",
    "       'G20PRECBLA', 'G20PREIPIE', 'G20PREOFUE', 'G20USSRSUL', 'G20USSDGRO',\n",
    "       'G20USSOHOW', 'G20HALRYOU', 'G20HALDGAL']\n",
    "\n",
    "for index, row in precinct_specific_totals.iterrows():\n",
    "    for race in races:\n",
    "        if (row[race]==0):\n",
    "            race_district = row[\"District\"]\n",
    "            to_allocate = int(to_dole_out_totals.loc[to_dole_out_totals[\"District\"]==race_district,race])\n",
    "            if (to_allocate != 0):\n",
    "                print(\"Weren't able to allocate \"+str(to_allocate)+\" votes in \" +str(race)+\" \"+str(race_district))\n"
   ]
  },
  {
   "cell_type": "code",
   "execution_count": 34,
   "id": "9e983f42",
   "metadata": {},
   "outputs": [
    {
     "name": "stdout",
     "output_type": "stream",
     "text": [
      "Choice District  G20PRERTRU  G20PREDBID  G20PRELJOR  G20PREGJAN  G20PRECBLA  \\\n",
      "0            01        1945        1170         126          23          13   \n",
      "1            02        1943         674         130          17           9   \n",
      "2            03        4074         683         174          23          19   \n",
      "3            04        2790        1610         164          56          20   \n",
      "4            05        2431        1256         129          40          12   \n",
      "5            06        3531        1454         155          54          21   \n",
      "6            07        2999         528         120          26          12   \n",
      "7            08        4266         584         145          25          18   \n",
      "8            09        4543         949         180          37          18   \n",
      "9            10        4175         756         153          36          11   \n",
      "10           11        3338         818         113          32           9   \n",
      "11           12        4242         811         150          29          13   \n",
      "12           13        2156         625         131          17          10   \n",
      "13           14        2985         882         143          19          17   \n",
      "14           15        1174         745          74          18           4   \n",
      "15           16        1868        1168         102          28          10   \n",
      "16           17        1341        1011          76          32           7   \n",
      "17           18        1167        1001          52          29          10   \n",
      "18           19        1089         965          54          23          14   \n",
      "19           20         966        1016          67          18           5   \n",
      "20           21        1908        1369         104          28          16   \n",
      "21           22        2608        1246          98          14           5   \n",
      "22           23        2005        1169          86          21          11   \n",
      "23           24        2831        1140          98          18           5   \n",
      "24           25        2423        1169          91          34           8   \n",
      "25           26        2619        1120          99          23           8   \n",
      "26           27        2322        1230         124          25           8   \n",
      "27           28        3130        1566         112          30           6   \n",
      "28           29        4538         990         119          36          16   \n",
      "29           30        3804         715         143          28          19   \n",
      "30           31        3927        1265         131          52          11   \n",
      "31           32        2559        1296         127          59          11   \n",
      "32           33        1312        1474          83          39          13   \n",
      "33           34        1506         812         100          15           9   \n",
      "34           35        2420        1510          71          49          14   \n",
      "35           36        3253        1642         131          58          18   \n",
      "36           37        1521        1517          49          36          36   \n",
      "37           38        1327        2176          77          99          47   \n",
      "38           39        1494        2774          95          88          68   \n",
      "39           40        1507        1515          73          64          41   \n",
      "\n",
      "Choice  G20PREIPIE  G20PREOFUE  G20USSRSUL  G20USSDGRO  G20USSOHOW  \\\n",
      "0               18           2        1937        1160         201   \n",
      "1               10           5        1925         629         217   \n",
      "2               10           3        3993         672         309   \n",
      "3               18           4        2818        1637         248   \n",
      "4               11           4        2437        1258         197   \n",
      "5               21           4        3492        1393         331   \n",
      "6                3           1        2844         570         257   \n",
      "7               14           3        4060         645         332   \n",
      "8               12           1        4425         978         315   \n",
      "9               10           3        3966         817         343   \n",
      "10               8           2        3309         800         220   \n",
      "11               8           3        4231         768         225   \n",
      "12              10           3        2175         607         170   \n",
      "13               5           2        3053         834         191   \n",
      "14               8           4        1161         737         130   \n",
      "15               7           3        1863        1136         188   \n",
      "16               9           1        1342         974         148   \n",
      "17               8           1        1164         993         118   \n",
      "18               2           9        1038         946         169   \n",
      "19               8           1         991         988          98   \n",
      "20              11           0        2043        1273         153   \n",
      "21               4           1        2694        1140         161   \n",
      "22              11           7        2048        1099         186   \n",
      "23               9           3        2953        1045         118   \n",
      "24               8           2        2437        1128         168   \n",
      "25              14           1        2755        1028         109   \n",
      "26              11           3        2359        1188         181   \n",
      "27               5           1        3294        1451         127   \n",
      "28               9           2        4402         981         323   \n",
      "29              10           0        3685         692         301   \n",
      "30              10           3        3817        1297         267   \n",
      "31              12           3        2447        1317         262   \n",
      "32              13           3        1306        1476         149   \n",
      "33               6           4        1525         805         133   \n",
      "34               7           6        2203        1501         348   \n",
      "35              11           6        3187        1601         310   \n",
      "36              15          13        1573        1354         249   \n",
      "37              50          24        1270        2025         527   \n",
      "38              42          18        1898        2029         619   \n",
      "39              36          23        1726        1069         484   \n",
      "\n",
      "Choice  G20HALRYOU  G20HALDGAL  \n",
      "0             1898        1371  \n",
      "1             1922         826  \n",
      "2             3951         959  \n",
      "3             2789        1885  \n",
      "4             2415        1446  \n",
      "5             3566        1615  \n",
      "6             2833         789  \n",
      "7             4154         852  \n",
      "8             4407        1258  \n",
      "9             4073        1005  \n",
      "10            3263        1047  \n",
      "11            4225         986  \n",
      "12            2145         784  \n",
      "13            2954        1080  \n",
      "14            1177         840  \n",
      "15            1890        1286  \n",
      "16            1350        1100  \n",
      "17            1202        1072  \n",
      "18            1096        1032  \n",
      "19             965        1086  \n",
      "20            1983        1465  \n",
      "21            2649        1331  \n",
      "22            2021        1284  \n",
      "23            2881        1230  \n",
      "24            2384        1319  \n",
      "25            2692        1178  \n",
      "26            2315        1393  \n",
      "27            3206        1651  \n",
      "28            4479        1153  \n",
      "29            3696         932  \n",
      "30            3884        1456  \n",
      "31            2492        1506  \n",
      "32            1315        1599  \n",
      "33            1495         948  \n",
      "34            2331        1683  \n",
      "35            3292        1740  \n",
      "36            1774        1401  \n",
      "37            1702        2117  \n",
      "38            2291        2268  \n",
      "39            1905        1359  \n"
     ]
    }
   ],
   "source": [
    "print(precinct_specific_totals)"
   ]
  },
  {
   "cell_type": "code",
   "execution_count": 35,
   "id": "e9d39e7c",
   "metadata": {},
   "outputs": [
    {
     "name": "stderr",
     "output_type": "stream",
     "text": [
      "/Users/peterhorton/opt/anaconda3/envs/geo_env/lib/python3.9/site-packages/pandas/core/indexing.py:1597: SettingWithCopyWarning: \n",
      "A value is trying to be set on a copy of a slice from a DataFrame.\n",
      "Try using .loc[row_indexer,col_indexer] = value instead\n",
      "\n",
      "See the caveats in the documentation: https://pandas.pydata.org/pandas-docs/stable/user_guide/indexing.html#returning-a-view-versus-a-copy\n",
      "  self.obj[key] = value\n",
      "/Users/peterhorton/opt/anaconda3/envs/geo_env/lib/python3.9/site-packages/pandas/core/indexing.py:1720: SettingWithCopyWarning: \n",
      "A value is trying to be set on a copy of a slice from a DataFrame.\n",
      "Try using .loc[row_indexer,col_indexer] = value instead\n",
      "\n",
      "See the caveats in the documentation: https://pandas.pydata.org/pandas-docs/stable/user_guide/indexing.html#returning-a-view-versus-a-copy\n",
      "  self._setitem_single_column(loc, value, pi)\n",
      "/Users/peterhorton/opt/anaconda3/envs/geo_env/lib/python3.9/site-packages/pandas/core/indexing.py:1676: SettingWithCopyWarning: \n",
      "A value is trying to be set on a copy of a slice from a DataFrame.\n",
      "Try using .loc[row_indexer,col_indexer] = value instead\n",
      "\n",
      "See the caveats in the documentation: https://pandas.pydata.org/pandas-docs/stable/user_guide/indexing.html#returning-a-view-versus-a-copy\n",
      "  self._setitem_single_column(ilocs[0], value, pi)\n"
     ]
    }
   ],
   "source": [
    "races=['G20PRERTRU', 'G20PREDBID', 'G20PRELJOR', 'G20PREGJAN',\n",
    "       'G20PRECBLA', 'G20PREIPIE', 'G20PREOFUE', 'G20USSRSUL', 'G20USSDGRO',\n",
    "       'G20USSOHOW', 'G20HALRYOU', 'G20HALDGAL']\n",
    "\n",
    "\n",
    "\n",
    "#Create some new columns for each of these races to deal with the allocation\n",
    "for race in races:\n",
    "    add_var = race+\"_add\"\n",
    "    rem_var = race+\"_rem\"\n",
    "    floor_var = race+\"_floor\"\n",
    "    ak_2020_precinct.loc[:,add_var]=0.0\n",
    "    ak_2020_precinct.loc[:,rem_var]=0.0\n",
    "    ak_2020_precinct.loc[:,floor_var]=0.0\n",
    "\n",
    "#Iterate over the rows\n",
    "#Note this function iterates over the dataframe two times so the rounded vote totals match the totals to allocate\n",
    "for index, row in ak_2020_precinct.iterrows():\n",
    "    for race in races:\n",
    "        add_var = race+\"_add\"\n",
    "        rem_var = race+\"_rem\"\n",
    "        floor_var = race+\"_floor\"\n",
    "        #Grab the district\n",
    "        county_id = row[\"District\"]\n",
    "        #Get the denominator for the allocation (the precinct vote totals)\n",
    "        denom = precinct_specific_totals.loc[precinct_specific_totals[\"District\"]==county_id][race]\n",
    "        #Get one of the numerators, how many districtwide votes to allocate\n",
    "        numer = to_dole_out_totals.loc[to_dole_out_totals[\"District\"]==county_id][race]\n",
    "        #Get the vote totals for this race in this precinct\n",
    "        val = ak_2020_precinct.at[index,race]\n",
    "        #Get the vote share, the precincts % of total precinct votes in the district times votes to allocate\n",
    "        if (float(denom==0)):\n",
    "            vote_share = 0\n",
    "        else:\n",
    "            vote_share = (float(val)/float(denom))*float(numer)\n",
    "        ak_2020_precinct.at[index,add_var] = vote_share\n",
    "        #Take the decimal remainder of the allocation\n",
    "        ak_2020_precinct.at[index,rem_var] = vote_share%1\n",
    "        #Take the floor of the allocation\n",
    "        ak_2020_precinct.at[index,floor_var] = np.floor(vote_share)\n",
    "\n",
    "#After the first pass through, get the sums of the races by district to assist in the rounding            \n",
    "first_allocation = pd.DataFrame(ak_2020_precinct.groupby([\"District\"]).sum())\n",
    "\n",
    "#Now we want to iterate district by district to work on rounding\n",
    "county_list = list(to_dole_out_totals[\"District\"].unique()) \n",
    "\n",
    "#Iterate over the district\n",
    "for county in county_list:\n",
    "    for race in races:\n",
    "        add_var = race+\"_add\"\n",
    "        rem_var = race+\"_rem\"\n",
    "        floor_var = race+\"_floor\"\n",
    "        #County how many votes still need to be allocated (because we took the floor of all the initial allocations)\n",
    "        to_go = int(np.round((int(to_dole_out_totals.loc[to_dole_out_totals[\"District\"]==county][race])-first_allocation.loc[first_allocation.index==county,floor_var])))\n",
    "        #Grab the n precincts with the highest remainders and round these up, where n is the # of votes that still need to be allocated\n",
    "        for index in ak_2020_precinct.loc[ak_2020_precinct[\"District\"]==county][rem_var].nlargest(to_go).index:\n",
    "            ak_2020_precinct.at[index,add_var] = np.ceil(ak_2020_precinct.at[index,add_var])\n",
    "\n",
    "#Iterate over every race again\n",
    "for race in races:\n",
    "    add_var = race+\"_add\"\n",
    "    #Round every allocation down to not add fractional votes\n",
    "    ak_2020_precinct.loc[:,add_var]=np.floor(ak_2020_precinct.loc[:,add_var])\n",
    "    ak_2020_precinct.loc[:,race]+=ak_2020_precinct.loc[:,add_var]"
   ]
  },
  {
   "cell_type": "code",
   "execution_count": 36,
   "id": "582192f1",
   "metadata": {},
   "outputs": [
    {
     "name": "stdout",
     "output_type": "stream",
     "text": [
      "Choice District  G20PREOFUE\n",
      "20           21           0\n",
      "29           30           0\n"
     ]
    }
   ],
   "source": [
    "print(precinct_specific_totals[precinct_specific_totals[\"G20PREOFUE\"]==0][[\"District\",\"G20PREOFUE\"]])"
   ]
  },
  {
   "cell_type": "code",
   "execution_count": 38,
   "id": "f1420bad",
   "metadata": {},
   "outputs": [
    {
     "name": "stdout",
     "output_type": "stream",
     "text": [
      "Choice                 Precinct  G20PRERTRU  G20PREDBID  G20PRELJOR  \\\n",
      "175     21-600 Turnagain No. 1        337.0       708.0        18.0   \n",
      "176     21-605 Sand Lake No. 1        692.0       684.0        27.0   \n",
      "177     21-610 Sand Lake No. 2        518.0       795.0        35.0   \n",
      "178     21-615 Sand Lake No. 3        485.0       526.0        20.0   \n",
      "179        21-620 Lake Spenard        381.0       494.0        25.0   \n",
      "180           21-625 Lake Hood        503.0       803.0        25.0   \n",
      "181     21-630 Turnagain No. 2        281.0       506.0        18.0   \n",
      "182     21-635 Turnagain No. 3        493.0       898.0        35.0   \n",
      "248             30-200 Central       1151.0       350.0        40.0   \n",
      "249             30-210 K-Beach       1606.0       480.0        60.0   \n",
      "250         30-220 Kenai No. 1       1312.0       561.0        51.0   \n",
      "251         30-230 Kenai No. 2        740.0       314.0        21.0   \n",
      "252         30-240 Kenai No. 3        627.0       243.0        28.0   \n",
      "253            30-250 Soldotna       1744.0       690.0        70.0   \n",
      "\n",
      "Choice  G20PREGJAN  G20PRECBLA  G20PREIPIE  G20PREOFUE  G20USSRSUL  \\\n",
      "175            5.0         0.0         0.0         0.0       390.0   \n",
      "176           15.0         4.0         0.0         0.0       727.0   \n",
      "177            5.0         7.0         0.0         0.0       592.0   \n",
      "178            8.0        11.0         7.0         0.0       522.0   \n",
      "179           12.0         0.0         2.0         0.0       405.0   \n",
      "180           10.0         0.0         2.0         0.0       526.0   \n",
      "181           10.0         4.0         3.0         0.0       273.0   \n",
      "182            5.0         3.0         5.0         0.0       545.0   \n",
      "248            0.0         2.0         4.0         0.0      1115.0   \n",
      "249           17.0         6.0         3.0         0.0      1598.0   \n",
      "250            8.0         1.0         5.0         0.0      1252.0   \n",
      "251            4.0         1.0         0.0         0.0       727.0   \n",
      "252            4.0         1.0         0.0         0.0       628.0   \n",
      "253            9.0        15.0         5.0         0.0      1714.0   \n",
      "\n",
      "Choice  G20USSDGRO  ...  G20USSDGRO_floor  G20USSOHOW_add  G20USSOHOW_rem  \\\n",
      "175          678.0  ...             510.0             5.0        0.673203   \n",
      "176          654.0  ...             492.0            19.0        0.692810   \n",
      "177          695.0  ...             522.0            25.0        0.235294   \n",
      "178          525.0  ...             395.0            13.0        0.084967   \n",
      "179          473.0  ...             355.0            19.0        0.692810   \n",
      "180          759.0  ...             571.0            22.0        0.431373   \n",
      "181          525.0  ...             395.0            20.0        0.627451   \n",
      "182          832.0  ...             625.0            20.0        0.562092   \n",
      "248          304.0  ...             219.0            30.0        0.953488   \n",
      "249          463.0  ...             334.0            32.0        0.398671   \n",
      "250          517.0  ...             374.0            44.0        0.401993   \n",
      "251          304.0  ...             219.0            19.0        0.950166   \n",
      "252          224.0  ...             162.0            15.0        0.282392   \n",
      "253          690.0  ...             499.0            44.0        0.013289   \n",
      "\n",
      "Choice G20USSOHOW_floor  G20HALRYOU_add  G20HALRYOU_rem  G20HALRYOU_floor  \\\n",
      "175                 4.0           182.0        0.851740             181.0   \n",
      "176                18.0           352.0        0.157337             352.0   \n",
      "177                25.0           280.0        0.993949             279.0   \n",
      "178                13.0           247.0        0.279879             247.0   \n",
      "179                18.0           199.0        0.170953             199.0   \n",
      "180                22.0           251.0        0.128593             251.0   \n",
      "181                19.0           136.0        0.667171             135.0   \n",
      "182                20.0           261.0        0.750378             260.0   \n",
      "248                29.0           536.0        0.939394             535.0   \n",
      "249                32.0           751.0        0.401515             751.0   \n",
      "250                43.0           588.0        0.541667             587.0   \n",
      "251                18.0           351.0        0.257576             351.0   \n",
      "252                15.0           295.0        0.128788             295.0   \n",
      "253                44.0           825.0        0.731061             824.0   \n",
      "\n",
      "Choice  G20HALDGAL_add  G20HALDGAL_rem  G20HALDGAL_floor  \n",
      "175              496.0        0.804096             495.0  \n",
      "176              518.0        0.718089             517.0  \n",
      "177              564.0        0.285324             564.0  \n",
      "178              424.0        0.583618             424.0  \n",
      "179              370.0        0.798635             369.0  \n",
      "180              597.0        0.156314             597.0  \n",
      "181              403.0        0.669625             402.0  \n",
      "182              641.0        0.984300             640.0  \n",
      "248              258.0        0.006438             258.0  \n",
      "249              383.0        0.780043             382.0  \n",
      "250              438.0        0.765021             437.0  \n",
      "251              218.0        0.825107             217.0  \n",
      "252              179.0        0.758584             179.0  \n",
      "253              495.0        0.864807             494.0  \n",
      "\n",
      "[14 rows x 50 columns]\n"
     ]
    }
   ],
   "source": [
    "print(ak_2020_precinct[ak_2020_precinct[\"District\"].isin([\"21\",\"30\"])])"
   ]
  },
  {
   "cell_type": "code",
   "execution_count": 39,
   "id": "b47aa74f",
   "metadata": {},
   "outputs": [
    {
     "name": "stdout",
     "output_type": "stream",
     "text": [
      "Choice District  G20PREOFUE\n",
      "1            02           4\n",
      "2            03           5\n",
      "4            05           4\n",
      "5            06           1\n",
      "6            07           4\n",
      "7            08           3\n",
      "8            09           3\n",
      "9            10           3\n",
      "10           11           4\n",
      "12           13           3\n",
      "13           14           4\n",
      "14           15           6\n",
      "15           16           9\n",
      "16           17           8\n",
      "17           18           3\n",
      "18           19           4\n",
      "19           20           3\n",
      "20           21           4\n",
      "21           22           2\n",
      "22           23           6\n",
      "23           24           4\n",
      "24           25          13\n",
      "25           26           1\n",
      "26           27           3\n",
      "27           28           2\n",
      "28           29           1\n",
      "29           30           3\n",
      "30           31           4\n",
      "31           32           1\n",
      "32           33           6\n",
      "33           34           2\n",
      "35           36           2\n",
      "36           37           1\n",
      "37           38           6\n",
      "38           39           2\n",
      "39           40           2\n"
     ]
    }
   ],
   "source": [
    "print(to_dole_out_totals[to_dole_out_totals[\"G20PREOFUE\"]!=0][[\"District\",\"G20PREOFUE\"]])"
   ]
  },
  {
   "cell_type": "code",
   "execution_count": 40,
   "id": "bcadfa9f",
   "metadata": {},
   "outputs": [],
   "source": [
    "totals = pd.DataFrame(ak_2020_precinct.sum())\n",
    "precinct_vote_total_across_districts = totals.T"
   ]
  },
  {
   "cell_type": "code",
   "execution_count": 41,
   "id": "3f1e3fa8",
   "metadata": {},
   "outputs": [
    {
     "name": "stdout",
     "output_type": "stream",
     "text": [
      "Choice                                           Precinct G20PRERTRU  \\\n",
      "0       01-446 Aurora 01-455 Fairbanks No. 1 01-465 Fa...   189892.0   \n",
      "\n",
      "Choice G20PREDBID G20PRELJOR G20PREGJAN G20PRECBLA G20PREIPIE G20PREOFUE  \\\n",
      "0        153405.0     8896.0     2673.0     1127.0      825.0      311.0   \n",
      "\n",
      "Choice G20USSRSUL G20USSDGRO  ... G20USSDGRO_floor G20USSOHOW_add  \\\n",
      "0        191060.0   145721.0  ...         101461.0         7214.0   \n",
      "\n",
      "Choice G20USSOHOW_rem G20USSOHOW_floor G20HALRYOU_add G20HALRYOU_rem  \\\n",
      "0               208.0           7006.0        89007.0          219.0   \n",
      "\n",
      "Choice G20HALRYOU_floor G20HALDGAL_add G20HALDGAL_rem G20HALDGAL_floor  \n",
      "0               88788.0       108173.0          208.0         107965.0  \n",
      "\n",
      "[1 rows x 50 columns]\n",
      "Choice                     Precinct  G20PRERTRU  G20PREDBID  G20PRELJOR  \\\n",
      "579     HD99 Fed Overseas Absentee           59         373           1   \n",
      "\n",
      "Choice  G20PREGJAN  G20PRECBLA  G20PREIPIE  G20PREOFUE  G20USSRSUL  \\\n",
      "579              0           0           0           0          52   \n",
      "\n",
      "Choice  G20USSDGRO  G20USSOHOW  G20HALRYOU  G20HALDGAL  \n",
      "579            347          10          57         351  \n"
     ]
    }
   ],
   "source": [
    "print(precinct_vote_total_across_districts)\n",
    "print(ak_2020_fed_overseas)"
   ]
  },
  {
   "cell_type": "code",
   "execution_count": 42,
   "id": "89a9ded6",
   "metadata": {},
   "outputs": [],
   "source": [
    "for index, row in precinct_vote_total_across_districts.iterrows():\n",
    "    for race in races:\n",
    "        if (row[race]==0):\n",
    "            print(\"yes\")"
   ]
  },
  {
   "cell_type": "code",
   "execution_count": 43,
   "id": "ab1c03ed",
   "metadata": {},
   "outputs": [
    {
     "name": "stderr",
     "output_type": "stream",
     "text": [
      "/Users/peterhorton/opt/anaconda3/envs/geo_env/lib/python3.9/site-packages/pandas/core/indexing.py:1597: SettingWithCopyWarning: \n",
      "A value is trying to be set on a copy of a slice from a DataFrame.\n",
      "Try using .loc[row_indexer,col_indexer] = value instead\n",
      "\n",
      "See the caveats in the documentation: https://pandas.pydata.org/pandas-docs/stable/user_guide/indexing.html#returning-a-view-versus-a-copy\n",
      "  self.obj[key] = value\n",
      "/Users/peterhorton/opt/anaconda3/envs/geo_env/lib/python3.9/site-packages/pandas/core/indexing.py:1720: SettingWithCopyWarning: \n",
      "A value is trying to be set on a copy of a slice from a DataFrame.\n",
      "Try using .loc[row_indexer,col_indexer] = value instead\n",
      "\n",
      "See the caveats in the documentation: https://pandas.pydata.org/pandas-docs/stable/user_guide/indexing.html#returning-a-view-versus-a-copy\n",
      "  self._setitem_single_column(loc, value, pi)\n",
      "/Users/peterhorton/opt/anaconda3/envs/geo_env/lib/python3.9/site-packages/pandas/core/indexing.py:1676: SettingWithCopyWarning: \n",
      "A value is trying to be set on a copy of a slice from a DataFrame.\n",
      "Try using .loc[row_indexer,col_indexer] = value instead\n",
      "\n",
      "See the caveats in the documentation: https://pandas.pydata.org/pandas-docs/stable/user_guide/indexing.html#returning-a-view-versus-a-copy\n",
      "  self._setitem_single_column(ilocs[0], value, pi)\n"
     ]
    }
   ],
   "source": [
    "#Create some new columns for each of these races to deal with the allocation\n",
    "races=['G20PRERTRU', 'G20PREDBID', 'G20PRELJOR', 'G20USSRSUL', 'G20USSDGRO',\n",
    "       'G20USSOHOW', 'G20HALRYOU', 'G20HALDGAL']\n",
    "\n",
    "for race in races:\n",
    "    add_var = race+\"_fed_add\"\n",
    "    rem_var = race+\"_fed_rem\"\n",
    "    floor_var = race+\"_fed_floor\"\n",
    "    ak_2020_precinct.loc[:,add_var]=0.0\n",
    "    ak_2020_precinct.loc[:,rem_var]=0.0\n",
    "    ak_2020_precinct.loc[:,floor_var]=0.0\n",
    "\n",
    "for index, row in ak_2020_precinct.iterrows():\n",
    "    for race in races:\n",
    "            add_var = race+\"_fed_add\"\n",
    "            rem_var = race+\"_fed_rem\"\n",
    "            floor_var = race+\"_fed_floor\"\n",
    "            #Get the denominator for the allocation (the precinct vote totals)\n",
    "            denom = precinct_vote_total_across_districts.iloc[0][race]\n",
    "            #Get one of the numerators, how many countywide votes to allocate\n",
    "            numer = ak_2020_fed_overseas.iloc[0][race]\n",
    "            #Get the vote totals for this race in this precinct\n",
    "            val = ak_2020_precinct.at[index,race]\n",
    "            #Get the vote share, the precincts % of total precinct votes in the county times votes to allocate\n",
    "            vote_share = (float(val)/float(denom))*float(numer)\n",
    "            ak_2020_precinct.at[index,add_var] = vote_share\n",
    "            #Take the decimal remainder of the allocation\n",
    "            ak_2020_precinct.at[index,rem_var] = vote_share%1\n",
    "            #Take the floor of the allocation\n",
    "            ak_2020_precinct.at[index,floor_var] = np.floor(vote_share)\n",
    "            \n",
    "#After the first pass through, get the sums of the races by county \n",
    "totals = pd.DataFrame(ak_2020_precinct.sum())\n",
    "first_allocation = totals.T\n",
    " \n",
    "for race in races:\n",
    "    add_var = race+\"_fed_add\"\n",
    "    rem_var = race+\"_fed_rem\"\n",
    "    floor_var = race+\"_fed_floor\"\n",
    "    #County how many votes still need to be allocated (because we took the floor of all the initial allocations)\n",
    "    to_go = int(np.round((int(ak_2020_fed_overseas.iloc[0][race])-first_allocation.iloc[0][floor_var])))\n",
    "    #Grab the n precincts with the highest remainders and round these up, where n is the # of votes that still need to be allocated\n",
    "    for index in ak_2020_precinct[rem_var].nlargest(to_go).index:\n",
    "        ak_2020_precinct.at[index,add_var] = np.ceil(ak_2020_precinct.at[index,add_var])\n",
    "\n",
    "#Iterate over every race again\n",
    "for race in races:\n",
    "    add_var = race+\"_fed_add\"\n",
    "    #Round every allocation down\n",
    "    ak_2020_precinct.loc[:,add_var]=np.floor(ak_2020_precinct.loc[:,add_var])"
   ]
  },
  {
   "cell_type": "code",
   "execution_count": 44,
   "id": "b6f1fb44",
   "metadata": {},
   "outputs": [
    {
     "name": "stdout",
     "output_type": "stream",
     "text": [
      "Printing issues below: \n",
      "\n",
      "All others match\n"
     ]
    }
   ],
   "source": [
    "print(\"Printing issues below: \")\n",
    "for race in races:\n",
    "    add_var = race+\"_fed_add\"\n",
    "    add_var_2 = race+\"_add\"\n",
    "    diff_1 = int(ak_2020_fed_overseas.iloc[0][race]-ak_2020_precinct.loc[:,add_var].sum())\n",
    "    diff_2 = int(to_dole_out_totals.loc[:,race].sum()-ak_2020_precinct.loc[:,add_var_2].sum())\n",
    "    if((diff_1 != 0) & (diff_2 !=0)):\n",
    "        print(diff_1)\n",
    "        print(diff_2)\n",
    "        print(\"Issue with \"+ race)\n",
    "print(\"\")\n",
    "print(\"All others match\")"
   ]
  },
  {
   "cell_type": "code",
   "execution_count": 45,
   "id": "7da2cd7d",
   "metadata": {},
   "outputs": [
    {
     "name": "stdout",
     "output_type": "stream",
     "text": [
      "Printing issues below: \n",
      "\n",
      "All others match\n"
     ]
    }
   ],
   "source": [
    "print(\"Printing issues below: \")\n",
    "for race in races:\n",
    "    add_var = race+\"_fed_add\"\n",
    "    add_var_2 = race+\"_add\"\n",
    "    diff_1 = int(ak_2020_fed_overseas.iloc[0][race]-ak_2020_precinct.loc[:,add_var].sum())\n",
    "    diff_2 = int(to_dole_out_totals.loc[:,race].sum()-ak_2020_precinct.loc[:,add_var_2].sum())\n",
    "    if((diff_1 != 0) & (diff_2 !=0)):\n",
    "        print(diff_1)\n",
    "        print(diff_2)\n",
    "        print(\"Issue with \"+ race)\n",
    "print(\"\")\n",
    "print(\"All others match\")"
   ]
  },
  {
   "cell_type": "code",
   "execution_count": 46,
   "id": "a4d2ba00",
   "metadata": {},
   "outputs": [],
   "source": [
    "for race in races:\n",
    "    add_var = race+\"_fed_add\"\n",
    "    #add_var_2 = race+\"_add\"\n",
    "    ak_2020_precinct.loc[:,race]+=ak_2020_precinct.loc[:,add_var]\n",
    "    #ak_2020_precinct.loc[:,race]+=ak_2020_precinct.loc[:,add_var_2]\n",
    "\n",
    "rem_races = [\"G20PREGJAN\",\"G20PRECBLA\",\"G20PREIPIE\",\"G20PREOFUE\"]\n",
    "    \n",
    "#for race in rem_races:\n",
    "    #add_var_2 = race+\"_add\"\n",
    "    #ak_2020_precinct.loc[:,race]+=ak_2020_precinct.loc[:,add_var_2]  "
   ]
  },
  {
   "cell_type": "code",
   "execution_count": 47,
   "id": "67a08cd3",
   "metadata": {},
   "outputs": [
    {
     "name": "stdout",
     "output_type": "stream",
     "text": [
      "318\n"
     ]
    }
   ],
   "source": [
    "print(sum(vest_ak_20[\"G20PREOFUE\"]))"
   ]
  },
  {
   "cell_type": "code",
   "execution_count": 48,
   "id": "78dcdfde",
   "metadata": {},
   "outputs": [
    {
     "data": {
      "text/plain": [
       "Index(['Precinct', 'G20PRERTRU', 'G20PREDBID', 'G20PRELJOR', 'G20PREGJAN',\n",
       "       'G20PRECBLA', 'G20PREIPIE', 'G20PREOFUE', 'G20USSRSUL', 'G20USSDGRO',\n",
       "       'G20USSOHOW', 'G20HALRYOU', 'G20HALDGAL', 'District', 'G20PRERTRU_add',\n",
       "       'G20PRERTRU_rem', 'G20PRERTRU_floor', 'G20PREDBID_add',\n",
       "       'G20PREDBID_rem', 'G20PREDBID_floor', 'G20PRELJOR_add',\n",
       "       'G20PRELJOR_rem', 'G20PRELJOR_floor', 'G20PREGJAN_add',\n",
       "       'G20PREGJAN_rem', 'G20PREGJAN_floor', 'G20PRECBLA_add',\n",
       "       'G20PRECBLA_rem', 'G20PRECBLA_floor', 'G20PREIPIE_add',\n",
       "       'G20PREIPIE_rem', 'G20PREIPIE_floor', 'G20PREOFUE_add',\n",
       "       'G20PREOFUE_rem', 'G20PREOFUE_floor', 'G20USSRSUL_add',\n",
       "       'G20USSRSUL_rem', 'G20USSRSUL_floor', 'G20USSDGRO_add',\n",
       "       'G20USSDGRO_rem', 'G20USSDGRO_floor', 'G20USSOHOW_add',\n",
       "       'G20USSOHOW_rem', 'G20USSOHOW_floor', 'G20HALRYOU_add',\n",
       "       'G20HALRYOU_rem', 'G20HALRYOU_floor', 'G20HALDGAL_add',\n",
       "       'G20HALDGAL_rem', 'G20HALDGAL_floor', 'G20PRERTRU_fed_add',\n",
       "       'G20PRERTRU_fed_rem', 'G20PRERTRU_fed_floor', 'G20PREDBID_fed_add',\n",
       "       'G20PREDBID_fed_rem', 'G20PREDBID_fed_floor', 'G20PRELJOR_fed_add',\n",
       "       'G20PRELJOR_fed_rem', 'G20PRELJOR_fed_floor', 'G20USSRSUL_fed_add',\n",
       "       'G20USSRSUL_fed_rem', 'G20USSRSUL_fed_floor', 'G20USSDGRO_fed_add',\n",
       "       'G20USSDGRO_fed_rem', 'G20USSDGRO_fed_floor', 'G20USSOHOW_fed_add',\n",
       "       'G20USSOHOW_fed_rem', 'G20USSOHOW_fed_floor', 'G20HALRYOU_fed_add',\n",
       "       'G20HALRYOU_fed_rem', 'G20HALRYOU_fed_floor', 'G20HALDGAL_fed_add',\n",
       "       'G20HALDGAL_fed_rem', 'G20HALDGAL_fed_floor'],\n",
       "      dtype='object', name='Choice')"
      ]
     },
     "execution_count": 48,
     "metadata": {},
     "output_type": "execute_result"
    }
   ],
   "source": [
    "ak_2020_precinct.columns"
   ]
  },
  {
   "cell_type": "code",
   "execution_count": 49,
   "id": "eca4b89d",
   "metadata": {},
   "outputs": [],
   "source": [
    "ak_2020_precinct = ak_2020_precinct[['Precinct','District', 'G20PRERTRU', 'G20PREDBID', 'G20PRELJOR', 'G20PREGJAN',\n",
    "       'G20PRECBLA', 'G20PREIPIE', 'G20PREOFUE', 'G20USSRSUL', 'G20USSDGRO',\n",
    "       'G20USSOHOW', 'G20HALRYOU', 'G20HALDGAL']]"
   ]
  },
  {
   "cell_type": "code",
   "execution_count": 50,
   "id": "079daf58",
   "metadata": {},
   "outputs": [
    {
     "name": "stdout",
     "output_type": "stream",
     "text": [
      "Printing differences below:\n",
      "G20PREOFUE has a difference of 7.0 votes\n",
      "\tVEST: 318 votes\n",
      "\tSOURCES: 311.0 votes\n",
      "\n",
      "All other races are equal\n"
     ]
    }
   ],
   "source": [
    "print(\"Printing differences below:\")\n",
    "for race in data_columns:\n",
    "    if (sum(vest_ak_20[race])-sum(ak_2020_precinct[race]) != 0):\n",
    "        print(race+\" has a difference of \"+str(sum(vest_ak_20[race])-sum(ak_2020_precinct[race]))+\" votes\")\n",
    "        print(\"\\tVEST: \"+str(sum(vest_ak_20[race]))+\" votes\")\n",
    "        print(\"\\tSOURCES: \"+str(sum(ak_2020_precinct[race]))+\" votes\")\n",
    "print(\"\")\n",
    "print(\"All other races are equal\")"
   ]
  },
  {
   "cell_type": "code",
   "execution_count": 51,
   "id": "34c22fce",
   "metadata": {},
   "outputs": [
    {
     "name": "stdout",
     "output_type": "stream",
     "text": [
      "    DISTRICT                       NAME  G20PRERTRU  G20PREDBID  G20PRELJOR  \\\n",
      "0     11-075   11-075 Palmer City No. 2         685         397          46   \n",
      "1     12-220               12-220 Butte        1808         689          62   \n",
      "2     10-055         10-055 Lakes No. 2         614         172          39   \n",
      "3     15-300          15-300 JBER No. 2         567         287          68   \n",
      "4     28-110  28-110 Rabbit Creek No. 2        1147         755          37   \n",
      "..       ...                        ...         ...         ...         ...   \n",
      "436   40-034           40-034 Point Lay          37          25           8   \n",
      "437   40-036             40-036 Selawik          61          64           1   \n",
      "438   40-038            40-038 Shungnak          12          75           0   \n",
      "439   40-040          40-040 Wainwright         167          66           5   \n",
      "440   40-330              40-330 Hughes           5          52           4   \n",
      "\n",
      "     G20PREGJAN  G20PRECBLA  G20PREIPIE  G20PREOFUE  G20USSRSUL  G20USSDGRO  \\\n",
      "0            12           7           0           0         656         421   \n",
      "1            16           4           3           0        1761         673   \n",
      "2             2           0           4           0         624         180   \n",
      "3             0           3           0           0         547         289   \n",
      "4            11           0           4           0        1270         640   \n",
      "..          ...         ...         ...         ...         ...         ...   \n",
      "436           9           2           5           0          37          24   \n",
      "437           3           0           2           0          71          44   \n",
      "438           0           1           0           0          29          48   \n",
      "439           2           0           0           0         165          38   \n",
      "440           0           1           2           0          17          42   \n",
      "\n",
      "     G20USSOHOW  G20HALRYOU  G20HALDGAL  \\\n",
      "0            71         686         441   \n",
      "1            96        1780         751   \n",
      "2            31         594         242   \n",
      "3            77         550         354   \n",
      "4            37        1207         764   \n",
      "..          ...         ...         ...   \n",
      "436          24          50          38   \n",
      "437          15          82          42   \n",
      "438           6          34          46   \n",
      "439          31         185          49   \n",
      "440           7          22          43   \n",
      "\n",
      "                                              geometry  \n",
      "0    POLYGON ((-149.13365 61.61026, -149.13361 61.6...  \n",
      "1    POLYGON ((-148.52103 61.62682, -148.52020 61.6...  \n",
      "2    POLYGON ((-149.33012 61.61391, -149.33229 61.6...  \n",
      "3    POLYGON ((-149.93126 61.25090, -149.92104 61.2...  \n",
      "4    POLYGON ((-149.83082 61.07593, -149.83055 61.0...  \n",
      "..                                                 ...  \n",
      "436  POLYGON ((-159.05320 68.21353, -159.05405 68.2...  \n",
      "437  POLYGON ((-159.59888 65.82076, -159.59933 65.8...  \n",
      "438  POLYGON ((-158.70921 66.73729, -158.70894 66.7...  \n",
      "439  POLYGON ((-162.67241 70.10888, -162.66113 70.1...  \n",
      "440  POLYGON ((-154.26825 66.03777, -154.26645 66.0...  \n",
      "\n",
      "[441 rows x 15 columns]\n"
     ]
    }
   ],
   "source": [
    "print(vest_ak_20)"
   ]
  },
  {
   "cell_type": "code",
   "execution_count": 52,
   "id": "2b8b1be8",
   "metadata": {},
   "outputs": [
    {
     "name": "stdout",
     "output_type": "stream",
     "text": [
      "['01' '02' '03' '04' '05' '06' '07' '08' '09' '10' '11' '12' '13' '14'\n",
      " '15' '16' '17' '18' '19' '20' '21' '22' '23' '24' '25' '26' '27' '28'\n",
      " '29' '30' '31' '32' '33' '34' '35' '36' '37' '38' '39' '40']\n",
      "['11' '12' '10' '15' '28' '16' '17' '18' '19' '20' '21' '22' '23' '24'\n",
      " '25' '26' '27' '13' '14' '07' '08' '29' '30' '31' '32' '33' '34' '35'\n",
      " '36' '01' '02' '03' '04' '05' '06' '09' '37' '38' '39' '40']\n"
     ]
    }
   ],
   "source": [
    "print(ak_2020_precinct[\"District\"].unique())\n",
    "vest_ak_20[\"District_mod\"] = vest_ak_20[\"DISTRICT\"].str[0:2]\n",
    "print(vest_ak_20[\"District_mod\"].unique())"
   ]
  },
  {
   "cell_type": "code",
   "execution_count": 53,
   "id": "a79e427e",
   "metadata": {},
   "outputs": [
    {
     "name": "stdout",
     "output_type": "stream",
     "text": [
      "G20PREDBID\n",
      "32    1.0\n",
      "36   -1.0\n",
      "G20PREOFUE\n",
      "21   -4.0\n",
      "30   -3.0\n",
      "G20USSDGRO\n",
      "23   -1.0\n",
      "36    1.0\n",
      "All other races in all counties are equal\n"
     ]
    }
   ],
   "source": [
    "diff_counties=[]\n",
    "for i in data_columns:\n",
    "    diff = ak_2020_precinct.groupby([\"District\"]).sum()[i]-vest_ak_20.groupby([\"District_mod\"]).sum()[i]\n",
    "    for val in diff[diff != 0].index.values.tolist():\n",
    "        if val not in diff_counties:\n",
    "            diff_counties.append(val)\n",
    "    if len(diff[diff != 0]!=0):\n",
    "        print(i)\n",
    "        print(diff[diff != 0].to_string(header=False))\n",
    "print(\"All other races in all counties are equal\")"
   ]
  },
  {
   "cell_type": "code",
   "execution_count": 54,
   "id": "8cdbcba9",
   "metadata": {},
   "outputs": [
    {
     "name": "stdout",
     "output_type": "stream",
     "text": [
      "      ID          AREA DISTRICT  MEMBERS LOCKED                       NAME  \\\n",
      "0    173      1.565101   11-075      1.0   None   11-075 Palmer City No. 2   \n",
      "1    181    286.270233   12-220      1.0   None               12-220 Butte   \n",
      "2    182      3.675227   10-055      1.0   None         10-055 Lakes No. 2   \n",
      "3     32     29.413515   15-300      1.0   None          15-300 JBER No. 2   \n",
      "4    144      6.259140   28-110      1.0   None  28-110 Rabbit Creek No. 2   \n",
      "..   ...           ...      ...      ...    ...                        ...   \n",
      "436  461  10066.747000   40-034      1.0   None         40-034 POINT LAY\\n   \n",
      "437  462   4899.020990   40-036      1.0   None           40-036 SELAWIK\\n   \n",
      "438  463   1661.107910   40-038      1.0   None          40-038 SHUNGNAK\\n   \n",
      "439  464   9258.007810   40-040      1.0   None        40-040 WAINWRIGHT\\n   \n",
      "440  465      2.990466   40-330      1.0   None            40-330 HUGHES\\n   \n",
      "\n",
      "     POPULATION  IDEAL_VALU  DEVIATION  F_DEVIATIO  \\\n",
      "0          2460      1622.0      838.0    0.516646   \n",
      "1          3990      1622.0     2368.0    1.459926   \n",
      "2          1325      1622.0     -297.0   -0.183107   \n",
      "3          5937      1622.0     4315.0    2.660296   \n",
      "4          2785      1622.0     1163.0    0.717016   \n",
      "..          ...         ...        ...         ...   \n",
      "436         189      1622.0    -1433.0   -0.883477   \n",
      "437         841      1622.0     -781.0   -0.481504   \n",
      "438         262      1622.0    -1360.0   -0.838471   \n",
      "439         556      1622.0    -1066.0   -0.657213   \n",
      "440          77      1622.0    -1545.0   -0.952528   \n",
      "\n",
      "                                              geometry  \n",
      "0    POLYGON ((-149.13365 61.61026, -149.13361 61.6...  \n",
      "1    POLYGON ((-148.52103 61.62682, -148.52020 61.6...  \n",
      "2    POLYGON ((-149.33012 61.61391, -149.33229 61.6...  \n",
      "3    POLYGON ((-149.93126 61.25090, -149.92104 61.2...  \n",
      "4    POLYGON ((-149.83082 61.07593, -149.83055 61.0...  \n",
      "..                                                 ...  \n",
      "436  POLYGON ((-159.05320 68.21353, -159.05405 68.2...  \n",
      "437  POLYGON ((-159.59888 65.82076, -159.59933 65.8...  \n",
      "438  POLYGON ((-158.70921 66.73729, -158.70894 66.7...  \n",
      "439  POLYGON ((-162.67241 70.10888, -162.66113 70.1...  \n",
      "440  POLYGON ((-154.26825 66.03777, -154.26645 66.0...  \n",
      "\n",
      "[441 rows x 11 columns]\n"
     ]
    }
   ],
   "source": [
    "ak_shp = gp.read_file(\"./raw-from-source/Shapefiles/SW Proc Shape Files/2013-SW-Proc-Shape-files.shp\")\n",
    "print(ak_shp)"
   ]
  },
  {
   "cell_type": "code",
   "execution_count": 58,
   "id": "74a4c4fa",
   "metadata": {},
   "outputs": [
    {
     "name": "stdout",
     "output_type": "stream",
     "text": [
      "12-230    1\n",
      "32-850    1\n",
      "15-300    1\n",
      "37-700    1\n",
      "17-410    1\n",
      "         ..\n",
      "09-628    1\n",
      "39-928    1\n",
      "13-245    1\n",
      "40-008    1\n",
      "22-665    1\n",
      "Name: join_col, Length: 441, dtype: int64\n",
      "12-230    1\n",
      "25-845    1\n",
      "38-820    1\n",
      "12-225    1\n",
      "10-035    1\n",
      "         ..\n",
      "38-814    1\n",
      "09-628    1\n",
      "13-260    1\n",
      "39-928    1\n",
      "22-665    1\n",
      "Name: join_col, Length: 441, dtype: int64\n"
     ]
    }
   ],
   "source": [
    "ak_2020_precinct[\"join_col\"]=ak_2020_precinct[\"Precinct\"].str[0:6]\n",
    "ak_shp[\"join_col\"]=ak_shp[\"NAME\"].str[0:6]\n",
    "\n",
    "print(ak_shp[\"join_col\"].value_counts())\n",
    "print(ak_2020_precinct[\"join_col\"].value_counts())"
   ]
  },
  {
   "cell_type": "code",
   "execution_count": 59,
   "id": "6a089813",
   "metadata": {},
   "outputs": [
    {
     "name": "stdout",
     "output_type": "stream",
     "text": [
      "both          441\n",
      "left_only       0\n",
      "right_only      0\n",
      "Name: _merge, dtype: int64\n"
     ]
    }
   ],
   "source": [
    "first_join = pd.merge(ak_2020_precinct,ak_shp,how=\"outer\",on=\"join_col\",indicator=True)\n",
    "print(first_join[\"_merge\"].value_counts())"
   ]
  },
  {
   "cell_type": "code",
   "execution_count": 60,
   "id": "69b9f503",
   "metadata": {},
   "outputs": [],
   "source": [
    "vest_ak_20[\"join_col\"]=vest_ak_20[\"DISTRICT\"]"
   ]
  },
  {
   "cell_type": "code",
   "execution_count": 61,
   "id": "8a85f0ea",
   "metadata": {},
   "outputs": [
    {
     "name": "stdout",
     "output_type": "stream",
     "text": [
      "both          441\n",
      "left_only       0\n",
      "right_only      0\n",
      "Name: final_merge, dtype: int64\n"
     ]
    }
   ],
   "source": [
    "final_merge = pd.merge(vest_ak_20,first_join,how=\"outer\",on=\"join_col\",indicator=\"final_merge\")\n",
    "print(final_merge[\"final_merge\"].value_counts())"
   ]
  },
  {
   "cell_type": "code",
   "execution_count": 67,
   "id": "58bf13a3",
   "metadata": {},
   "outputs": [],
   "source": [
    "def validater_row (df, column_List):\n",
    "    matching_rows = 0\n",
    "    different_rows = 0\n",
    "    diff_list=[]\n",
    "    diff_values = []\n",
    "    max_diff = 0\n",
    "    for j in range(0,len(df.index)):\n",
    "        same = True\n",
    "        for i in column_List:\n",
    "            left_Data = i + \"_x\"\n",
    "            right_Data = i + \"_y\"\n",
    "            diff = abs(df.iloc[j][left_Data]-df.iloc[j][right_Data])\n",
    "            if(diff >0):\n",
    "                if(diff>2):\n",
    "                    print(i, \"{:.>72}\".format(df.iloc[j][\"join_col\"]), \"(V)\",\"{:.>5}\".format(int(df.iloc[j][left_Data])),\" (S){:.>5}\".format(int(df.iloc[j][right_Data])),\"(D):{:>5}\".format(int(df.iloc[j][right_Data])-int(df.iloc[j][left_Data])))           \n",
    "                #print(df.iloc[j]['countypct'])\n",
    "                \n",
    "                diff_values.append(abs(diff))\n",
    "                same = False\n",
    "                if(np.isnan(diff)):\n",
    "                    print(\"NaN value at diff is: \", df.iloc[j][\"join_col\"])\n",
    "                    print(df.iloc[j][left_Data])\n",
    "                    print(df.iloc[j][right_Data])\n",
    "                if (diff>max_diff):\n",
    "                    max_diff = diff\n",
    "                    #print(\"New max diff is: \", str(max_diff))\n",
    "                    #print(df.iloc[j]['cty_pct'])\n",
    "        if(same != True):\n",
    "            different_rows +=1\n",
    "            diff_list.append(df.iloc[j][\"join_col\"])\n",
    "        else:\n",
    "            matching_rows +=1\n",
    "    print(\"\")\n",
    "    print(\"There are \", len(df.index),\" total rows\")\n",
    "    print(different_rows,\" of these rows have election result differences\")\n",
    "    print(matching_rows,\" of these rows are the same\")\n",
    "    print(\"\")\n",
    "    print(\"The max difference between any one shared column in a row is: \", max_diff)\n",
    "    if(len(diff_values)!=0):\n",
    "        print(\"The average difference is: \", str(sum(diff_values)/len(diff_values)))\n",
    "    count_big_diff = len([i for i in diff_values if i > 10])\n",
    "    print(\"There are \", str(count_big_diff), \"precinct results with a difference greater than 10\")\n",
    "    diff_list.sort()\n",
    "    print(diff_list)"
   ]
  },
  {
   "cell_type": "code",
   "execution_count": 68,
   "id": "e27aff32",
   "metadata": {},
   "outputs": [
    {
     "name": "stdout",
     "output_type": "stream",
     "text": [
      "G20USSDGRO ..................................................................17-415 (V) ..624  (S)..627 (D):    3\n",
      "G20PREDBID ..................................................................17-420 (V) .1158  (S).1161 (D):    3\n",
      "G20USSDGRO ..................................................................18-445 (V) ..624  (S)..621 (D):   -3\n",
      "G20PREDBID ..................................................................20-540 (V) ..215  (S)..212 (D):   -3\n",
      "G20HALDGAL ..................................................................20-570 (V) ..690  (S)..686 (D):   -4\n",
      "G20USSDGRO ..................................................................23-740 (V) ..620  (S)..617 (D):   -3\n",
      "G20HALDGAL ..................................................................28-145 (V) ..430  (S)..427 (D):   -3\n",
      "G20HALDGAL ..................................................................34-410 (V) ..725  (S)..728 (D):    3\n",
      "G20HALDGAL ..................................................................34-460 (V) .1329  (S).1326 (D):   -3\n",
      "G20HALDGAL ..................................................................32-800 (V) ...32  (S)...35 (D):    3\n",
      "G20HALDGAL ..................................................................32-825 (V) ..619  (S)..616 (D):   -3\n",
      "G20USSDGRO ..................................................................33-540 (V) ..682  (S)..685 (D):    3\n",
      "G20USSDGRO ..................................................................04-260 (V) .1071  (S).1068 (D):   -3\n",
      "G20USSDGRO ..................................................................06-012 (V) ...59  (S)...62 (D):    3\n",
      "G20HALDGAL ..................................................................06-026 (V) ..141  (S)..138 (D):   -3\n",
      "G20PREDBID ..................................................................06-080 (V) ..154  (S)..151 (D):   -3\n",
      "G20HALDGAL ..................................................................09-632 (V) ...96  (S)...99 (D):    3\n",
      "G20PREDBID ..................................................................09-645 (V) ..331  (S)..328 (D):   -3\n",
      "G20HALDGAL ..................................................................06-090 (V) ..183  (S)..180 (D):   -3\n",
      "G20USSDGRO ..................................................................39-922 (V) ...96  (S)...93 (D):   -3\n",
      "G20USSOHOW ..................................................................40-010 (V) ..108  (S)..105 (D):   -3\n",
      "\n",
      "There are  441  total rows\n",
      "439  of these rows have election result differences\n",
      "2  of these rows are the same\n",
      "\n",
      "The max difference between any one shared column in a row is:  4.0\n",
      "The average difference is:  1.183591795897949\n",
      "There are  0 precinct results with a difference greater than 10\n",
      "['01-446', '01-455', '01-465', '01-470', '01-475', '01-480', '01-485', '01-490', '01-495', '02-345', '02-355', '02-365', '02-375', '03-130', '03-135', '03-165', '03-175', '03-183', '04-230', '04-240', '04-250', '04-260', '04-265', '04-270', '04-280', '05-580', '05-582', '05-586', '05-587', '05-588', '05-590', '05-592', '05-594', '05-596', '06-005', '06-007', '06-010', '06-012', '06-015', '06-020', '06-023', '06-024', '06-025', '06-026', '06-027', '06-030', '06-033', '06-035', '06-040', '06-047', '06-050', '06-053', '06-054', '06-056', '06-060', '06-070', '06-075', '06-080', '06-085', '06-090', '06-095', '06-145', '06-150', '06-155', '06-160', '06-170', '06-180', '07-100', '07-105', '07-110', '07-115', '07-120', '07-125', '07-130', '08-130', '08-135', '08-140', '08-145', '08-150', '08-155', '09-600', '09-608', '09-622', '09-628', '09-632', '09-640', '09-645', '09-650', '09-655', '09-660', '09-665', '10-005', '10-010', '10-015', '10-020', '10-025', '10-030', '10-035', '10-040', '10-045', '10-050', '10-055', '11-055', '11-060', '11-065', '11-070', '11-075', '11-085', '11-090', '11-095', '11-099', '12-200', '12-205', '12-210', '12-220', '12-225', '12-230', '12-233', '13-235', '13-240', '13-245', '13-250', '13-255', '13-260', '14-940', '14-945', '14-950', '14-955', '14-960', '14-965', '14-970', '15-300', '15-305', '15-310', '15-315', '15-320', '16-325', '16-330', '16-335', '16-340', '16-345', '16-350', '16-355', '17-400', '17-405', '17-410', '17-415', '17-420', '17-425', '17-430', '18-435', '18-440', '18-445', '18-450', '18-455', '18-460', '18-465', '18-470', '18-475', '18-480', '19-500', '19-505', '19-510', '19-515', '19-520', '19-525', '20-530', '20-535', '20-540', '20-545', '20-550', '20-555', '20-560', '20-565', '20-570', '21-600', '21-605', '21-610', '21-615', '21-620', '21-625', '21-630', '21-635', '22-640', '22-645', '22-650', '22-655', '22-660', '22-665', '22-670', '23-735', '23-740', '23-745', '23-750', '23-755', '23-760', '23-765', '23-770', '24-700', '24-705', '24-710', '24-715', '24-720', '24-725', '24-730', '25-840', '25-845', '25-850', '25-855', '25-860', '25-865', '25-870', '26-800', '26-805', '26-810', '26-815', '26-820', '26-825', '26-830', '26-835', '27-900', '27-905', '27-910', '27-915', '27-920', '27-925', '27-930', '27-935', '28-105', '28-110', '28-115', '28-120', '28-125', '28-130', '28-135', '28-140', '28-145', '29-100', '29-110', '29-115', '29-120', '29-130', '29-140', '29-150', '29-160', '29-170', '29-180', '29-190', '30-200', '30-210', '30-220', '30-230', '30-240', '30-250', '31-300', '31-310', '31-320', '31-340', '31-350', '31-360', '31-370', '31-380', '31-390', '32-800', '32-805', '32-810', '32-815', '32-820', '32-825', '32-830', '32-835', '32-840', '32-845', '32-847', '32-850', '32-855', '32-860', '33-500', '33-505', '33-510', '33-515', '33-520', '33-525', '33-530', '33-540', '33-545', '33-550', '33-555', '34-400', '34-410', '34-420', '34-430', '34-440', '34-450', '34-460', '35-700', '35-705', '35-720', '35-730', '35-735', '35-740', '35-745', '35-750', '35-755', '35-760', '35-765', '35-770', '35-775', '35-780', '36-600', '36-610', '36-620', '36-640', '36-650', '36-660', '36-670', '36-675', '36-680', '36-690', '37-300', '37-302', '37-304', '37-306', '37-308', '37-310', '37-312', '37-700', '37-702', '37-704', '37-706', '37-708', '37-712', '37-714', '37-716', '37-718', '37-720', '37-722', '37-724', '37-726', '37-728', '37-730', '37-732', '37-734', '37-736', '37-738', '37-740', '37-742', '37-744', '37-746', '37-748', '37-750', '37-752', '37-754', '38-800', '38-802', '38-804', '38-806', '38-808', '38-812', '38-814', '38-816', '38-818', '38-820', '38-822', '38-824', '38-826', '38-828', '38-830', '38-832', '38-834', '38-836', '38-838', '38-840', '38-842', '38-844', '38-846', '38-848', '38-850', '38-852', '38-854', '38-856', '38-858', '38-860', '39-314', '39-316', '39-318', '39-320', '39-322', '39-324', '39-900', '39-902', '39-904', '39-906', '39-908', '39-910', '39-912', '39-914', '39-916', '39-918', '39-920', '39-922', '39-924', '39-926', '39-928', '39-930', '39-932', '39-934', '39-936', '39-938', '39-940', '39-942', '39-944', '39-946', '39-948', '39-950', '39-952', '40-002', '40-004', '40-006', '40-008', '40-010', '40-012', '40-014', '40-016', '40-018', '40-020', '40-022', '40-024', '40-026', '40-028', '40-030', '40-032', '40-034', '40-036', '40-038', '40-040', '40-326', '40-328', '40-330']\n"
     ]
    }
   ],
   "source": [
    "validater_row(final_merge,races)"
   ]
  },
  {
   "cell_type": "code",
   "execution_count": 64,
   "id": "7de2016f",
   "metadata": {},
   "outputs": [
    {
     "name": "stdout",
     "output_type": "stream",
     "text": [
      "True    441\n",
      "dtype: int64\n"
     ]
    }
   ],
   "source": [
    "both = final_merge[final_merge[\"final_merge\"]==\"both\"]\n",
    "vest_geoms = gp.GeoDataFrame(both,geometry=\"geometry_x\",crs=vest_ak_20.crs)\n",
    "source_geoms = gp.GeoDataFrame(both,geometry=\"geometry_y\",crs=vest_ak_20.crs)\n",
    "source_geoms = source_geoms.to_crs(3857)\n",
    "vest_geoms = vest_geoms.to_crs(3857)\n",
    "source_geoms[\"geometry_x\"]=source_geoms.buffer(0)\n",
    "vest_geoms[\"geometry_y\"]=vest_geoms.buffer(0)\n",
    "vals = source_geoms.geom_almost_equals(vest_geoms,decimal=0)\n",
    "print(vals.value_counts())"
   ]
  },
  {
   "cell_type": "code",
   "execution_count": 65,
   "id": "b6b72648",
   "metadata": {},
   "outputs": [],
   "source": [
    "count = 0\n",
    "area_list = []\n",
    "for i in range(0,len(source_geoms)):\n",
    "    diff = source_geoms.iloc[[i]].symmetric_difference(vest_geoms.iloc[[i]])\n",
    "    intersection = source_geoms.iloc[[i]].intersection(vest_geoms.iloc[[i]])\n",
    "    area = float(diff.area/10e6)\n",
    "    area_list.append(area)\n",
    "    #print(\"Area is \" + str(area))\n",
    "\n",
    "    if (area > .1):\n",
    "        count += 1\n",
    "        name = source_geoms.iat[i,2]\n",
    "        \n",
    "        print(str(count)+\") For \" + name + \" difference in area is \" + str(area))\n",
    "        if (intersection.iloc[0].is_empty):\n",
    "            base = diff.plot(color=\"red\")\n",
    "            source_geoms.iloc[[i]].plot(color=\"orange\",ax=base)\n",
    "            vest_geoms.iloc[[i]].plot(color=\"blue\",ax=base)\n",
    "            base.set_title(name)\n",
    "        else:\n",
    "            base = diff.plot(color=\"red\")\n",
    "            source_geoms.iloc[[i]].plot(color=\"orange\",ax=base)\n",
    "            vest_geoms.iloc[[i]].plot(color=\"blue\",ax=base)\n",
    "            intersection.plot(color=\"green\",ax=base)\n",
    "            base.set_title(name)"
   ]
  },
  {
   "cell_type": "code",
   "execution_count": 66,
   "id": "8fc262f1",
   "metadata": {},
   "outputs": [
    {
     "name": "stdout",
     "output_type": "stream",
     "text": [
      "(441, 1)\n",
      "441 precincts w/ a difference of 0 km^2\n",
      "0 precincts w/ a difference between 0 and .1 km^2\n",
      "0 precincts w/ a difference between .1 and .5 km^2\n",
      "0 precincts w/ a difference between .5 and 1 km^2\n",
      "0 precincts w/ a difference between 1 and 2 km^2\n",
      "0 precincts w/ a difference between 2 and 5 km^2\n",
      "0 precincts w/ a difference greater than 5 km^2\n"
     ]
    }
   ],
   "source": [
    "df = pd.DataFrame(area_list)\n",
    "print(df.shape)\n",
    "\n",
    "print(str(len(df[df[0]==0]))+\" precincts w/ a difference of 0 km^2\")\n",
    "print(str(len(df[(df[0]<.1) & (df[0]>0)]))+ \" precincts w/ a difference between 0 and .1 km^2\")\n",
    "print(str(len(df[(df[0]<.5) & (df[0]>=.1)]))+ \" precincts w/ a difference between .1 and .5 km^2\")\n",
    "print(str(len(df[(df[0]<1) & (df[0]>=.5)]))+ \" precincts w/ a difference between .5 and 1 km^2\")\n",
    "print(str(len(df[(df[0]<2) & (df[0]>=1)]))+ \" precincts w/ a difference between 1 and 2 km^2\")\n",
    "print(str(len(df[(df[0]<5) & (df[0]>=2)]))+ \" precincts w/ a difference between 2 and 5 km^2\")\n",
    "print(str(len(df[(df[0]>=5)]))+ \" precincts w/ a difference greater than 5 km^2\")"
   ]
  }
 ],
 "metadata": {
  "kernelspec": {
   "display_name": "Python 3",
   "language": "python",
   "name": "python3"
  },
  "language_info": {
   "codemirror_mode": {
    "name": "ipython",
    "version": 3
   },
   "file_extension": ".py",
   "mimetype": "text/x-python",
   "name": "python",
   "nbconvert_exporter": "python",
   "pygments_lexer": "ipython3",
   "version": "3.9.2"
  }
 },
 "nbformat": 4,
 "nbformat_minor": 5
}

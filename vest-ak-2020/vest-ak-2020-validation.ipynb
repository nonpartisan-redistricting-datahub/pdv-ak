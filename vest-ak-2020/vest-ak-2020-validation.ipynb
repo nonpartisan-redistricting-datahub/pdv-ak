{
 "cells": [
  {
   "cell_type": "code",
   "execution_count": 50,
   "id": "418e0cf9",
   "metadata": {},
   "outputs": [],
   "source": [
    "import pandas as pd # standard python data library\n",
    "import geopandas as gp # the geo-version of pandas\n",
    "import numpy as np \n",
    "import os\n",
    "import fiona\n",
    "from statistics import mean, median\n",
    "from pandas import read_csv\n",
    "gp.io.file.fiona.drvsupport.supported_drivers['KML'] = 'rw' #To load KML files\n",
    "import string\n",
    "import xml.etree.ElementTree as et"
   ]
  },
  {
   "cell_type": "code",
   "execution_count": 51,
   "id": "6714c74d",
   "metadata": {},
   "outputs": [],
   "source": [
    "vest_ak_20 = gp.read_file(\"./raw-from-source/VEST/ak_2020/ak_2020.shp\")"
   ]
  },
  {
   "cell_type": "code",
   "execution_count": 52,
   "id": "59cf78f5",
   "metadata": {},
   "outputs": [
    {
     "name": "stdout",
     "output_type": "stream",
     "text": [
      "(441, 15)\n"
     ]
    }
   ],
   "source": [
    "print(vest_ak_20.shape)"
   ]
  },
  {
   "cell_type": "code",
   "execution_count": 53,
   "id": "35cf02c3",
   "metadata": {},
   "outputs": [
    {
     "data": {
      "text/html": [
       "<div>\n",
       "<style scoped>\n",
       "    .dataframe tbody tr th:only-of-type {\n",
       "        vertical-align: middle;\n",
       "    }\n",
       "\n",
       "    .dataframe tbody tr th {\n",
       "        vertical-align: top;\n",
       "    }\n",
       "\n",
       "    .dataframe thead th {\n",
       "        text-align: right;\n",
       "    }\n",
       "</style>\n",
       "<table border=\"1\" class=\"dataframe\">\n",
       "  <thead>\n",
       "    <tr style=\"text-align: right;\">\n",
       "      <th></th>\n",
       "      <th>DISTRICT</th>\n",
       "      <th>NAME</th>\n",
       "      <th>G20PRERTRU</th>\n",
       "      <th>G20PREDBID</th>\n",
       "      <th>G20PRELJOR</th>\n",
       "      <th>G20PREGJAN</th>\n",
       "      <th>G20PRECBLA</th>\n",
       "      <th>G20PREIPIE</th>\n",
       "      <th>G20PREOFUE</th>\n",
       "      <th>G20USSRSUL</th>\n",
       "      <th>G20USSDGRO</th>\n",
       "      <th>G20USSOHOW</th>\n",
       "      <th>G20HALRYOU</th>\n",
       "      <th>G20HALDGAL</th>\n",
       "      <th>geometry</th>\n",
       "    </tr>\n",
       "  </thead>\n",
       "  <tbody>\n",
       "    <tr>\n",
       "      <th>0</th>\n",
       "      <td>11-075</td>\n",
       "      <td>11-075 Palmer City No. 2</td>\n",
       "      <td>685</td>\n",
       "      <td>397</td>\n",
       "      <td>46</td>\n",
       "      <td>12</td>\n",
       "      <td>7</td>\n",
       "      <td>0</td>\n",
       "      <td>0</td>\n",
       "      <td>656</td>\n",
       "      <td>421</td>\n",
       "      <td>71</td>\n",
       "      <td>686</td>\n",
       "      <td>441</td>\n",
       "      <td>POLYGON ((-149.13365 61.61026, -149.13361 61.6...</td>\n",
       "    </tr>\n",
       "    <tr>\n",
       "      <th>1</th>\n",
       "      <td>12-220</td>\n",
       "      <td>12-220 Butte</td>\n",
       "      <td>1808</td>\n",
       "      <td>689</td>\n",
       "      <td>62</td>\n",
       "      <td>16</td>\n",
       "      <td>4</td>\n",
       "      <td>3</td>\n",
       "      <td>0</td>\n",
       "      <td>1761</td>\n",
       "      <td>673</td>\n",
       "      <td>96</td>\n",
       "      <td>1780</td>\n",
       "      <td>751</td>\n",
       "      <td>POLYGON ((-148.52103 61.62682, -148.52020 61.6...</td>\n",
       "    </tr>\n",
       "  </tbody>\n",
       "</table>\n",
       "</div>"
      ],
      "text/plain": [
       "  DISTRICT                      NAME  G20PRERTRU  G20PREDBID  G20PRELJOR  \\\n",
       "0   11-075  11-075 Palmer City No. 2         685         397          46   \n",
       "1   12-220              12-220 Butte        1808         689          62   \n",
       "\n",
       "   G20PREGJAN  G20PRECBLA  G20PREIPIE  G20PREOFUE  G20USSRSUL  G20USSDGRO  \\\n",
       "0          12           7           0           0         656         421   \n",
       "1          16           4           3           0        1761         673   \n",
       "\n",
       "   G20USSOHOW  G20HALRYOU  G20HALDGAL  \\\n",
       "0          71         686         441   \n",
       "1          96        1780         751   \n",
       "\n",
       "                                            geometry  \n",
       "0  POLYGON ((-149.13365 61.61026, -149.13361 61.6...  \n",
       "1  POLYGON ((-148.52103 61.62682, -148.52020 61.6...  "
      ]
     },
     "execution_count": 53,
     "metadata": {},
     "output_type": "execute_result"
    }
   ],
   "source": [
    "vest_ak_20.head(2)"
   ]
  },
  {
   "cell_type": "markdown",
   "id": "30a7b1bf",
   "metadata": {},
   "source": [
    "Election results from Alaska Division of Elections (http://www.elections.alaska.gov/results/20GENR/index.php)\n",
    "Precinct shapefile from Alaska Division of Elections (http://www.elections.alaska.gov/Core/districtmaps.php)\n",
    "\n",
    "Early, Absentee, and Questioned votes are only reported at the State House district level (since Alaska has portions of the state with no lower level of government, HDs serve a similar purpose as counties do in other states for the purpose of reporting votes). These votes are apportioned to precincts by candidate in the same shares that the Election Day vote was split among precincts within an HD. Similarly, federal-only ballots that are reported at the statewide level were apportioned to precincts by candidate based on their share of the precinct-level vote.\n",
    "\n",
    "G20PRERTRU - Donald J. Trump (Republican Party)\n",
    "G20PREDBID - Joseph R. Biden (Democratic Party)\n",
    "G20PRELJOR - Jo Jorgensen (Libertarian Party)\n",
    "G20PREGJAN - James G. \"Jesse Ventura\" Janos (Green Party)\n",
    "G20PRECBLA - Don Blankenship (Conservative Party)\n",
    "G20PREIPIE - Brock Pierce (Independent)\n",
    "G20PREOFUE - Roque \"Rocky\" De La Fuente (Alliance Party)\n",
    "\n",
    "G20USSRSUL - Dan Sullivan (Republican Party)\n",
    "G20USSDGRO - Al Gross (Democratic Party)\n",
    "G20USSOHOW - John Wayne Howe (Alaskan Independence Party)\n",
    "\n",
    "G20HALRYOU - Don Young (Republican Party)\n",
    "G20HALDGAL - Alyse S. Galvin (Democratic Party)"
   ]
  },
  {
   "cell_type": "code",
   "execution_count": 54,
   "id": "1d1440ad",
   "metadata": {},
   "outputs": [],
   "source": [
    "ak_2020 = pd.read_csv(\"./raw-from-source/Election_Results/resultsbyprecinct.txt\",header=None)\n"
   ]
  },
  {
   "cell_type": "code",
   "execution_count": 55,
   "id": "72523c12",
   "metadata": {},
   "outputs": [
    {
     "data": {
      "text/html": [
       "<div>\n",
       "<style scoped>\n",
       "    .dataframe tbody tr th:only-of-type {\n",
       "        vertical-align: middle;\n",
       "    }\n",
       "\n",
       "    .dataframe tbody tr th {\n",
       "        vertical-align: top;\n",
       "    }\n",
       "\n",
       "    .dataframe thead th {\n",
       "        text-align: right;\n",
       "    }\n",
       "</style>\n",
       "<table border=\"1\" class=\"dataframe\">\n",
       "  <thead>\n",
       "    <tr style=\"text-align: right;\">\n",
       "      <th></th>\n",
       "      <th>0</th>\n",
       "      <th>1</th>\n",
       "      <th>2</th>\n",
       "      <th>3</th>\n",
       "      <th>4</th>\n",
       "      <th>5</th>\n",
       "      <th>6</th>\n",
       "      <th>7</th>\n",
       "      <th>8</th>\n",
       "    </tr>\n",
       "  </thead>\n",
       "  <tbody>\n",
       "    <tr>\n",
       "      <th>0</th>\n",
       "      <td>HD99 Fed Overseas Absentee</td>\n",
       "      <td>Race Statistics</td>\n",
       "      <td>NP</td>\n",
       "      <td>NP</td>\n",
       "      <td>Number of Precincts</td>\n",
       "      <td>NP</td>\n",
       "      <td>Total</td>\n",
       "      <td>0</td>\n",
       "      <td>NaN</td>\n",
       "    </tr>\n",
       "  </tbody>\n",
       "</table>\n",
       "</div>"
      ],
      "text/plain": [
       "                             0                1   2   3                    4  \\\n",
       "0  HD99 Fed Overseas Absentee   Race Statistics  NP  NP  Number of Precincts   \n",
       "\n",
       "    5      6  7   8  \n",
       "0  NP  Total  0 NaN  "
      ]
     },
     "execution_count": 55,
     "metadata": {},
     "output_type": "execute_result"
    }
   ],
   "source": [
    "ak_2020.head(1)"
   ]
  },
  {
   "cell_type": "code",
   "execution_count": 56,
   "id": "d461f455",
   "metadata": {},
   "outputs": [],
   "source": [
    "ak_2020.columns = [\"Precinct\",\"Race\",\"Blank_1\",\"Blank_2\",\"Choice\",\"Party\",\"Type\",\"Votes\",\"Extra\"]\n",
    "ak_2020 = ak_2020 [[\"Precinct\",\"Race\",\"Choice\",\"Party\",\"Votes\"]]"
   ]
  },
  {
   "cell_type": "code",
   "execution_count": 57,
   "id": "333f2733",
   "metadata": {},
   "outputs": [
    {
     "name": "stdout",
     "output_type": "stream",
     "text": [
      "['Race Statistics' 'U.S. President / Vice President\"\"' 'U.S. Senator\"\"'\n",
      " 'U.S. Representative\"\"' 'House District 1\"\"' 'Supreme Court - Carney\"\"'\n",
      " 'Court of Appeals - Wollenberg\"\"' 'Superior Court JD4 - Peters\"\"'\n",
      " 'District Court JD4 - Christian\"\"' 'District Court JD4 - Montgomery\"\"'\n",
      " 'Ballot Measure No. 1 - 19OGTX\"\"' 'Ballot Measure No. 2 - 19AKBE\"\"'\n",
      " 'House District 2\"\"' 'Senate District B\"\"' 'House District 3\"\"'\n",
      " 'House District 4\"\"' 'House District 5\"\"' 'House District 6\"\"'\n",
      " 'Superior Court JD3 - Crosby\"\"' 'Superior Court JD3 - Guidi\"\"'\n",
      " 'Superior Court JD3 - Henderson\"\"' 'Superior Court JD3 - Lamoureux\"\"'\n",
      " 'Superior Court JD3 - Miller\"\"' 'Superior Court JD3 - Reigh\"\"'\n",
      " 'Superior Court JD3 - Wells\"\"' 'Superior Court JD3 - Woodman\"\"'\n",
      " 'District Court JD3 - Dickson\"\"' 'District Court JD3 - Franciosi\"\"'\n",
      " 'District Court JD3 - Hanley\"\"' 'District Court JD3 - Logue\"\"'\n",
      " 'District Court JD3 - McCrea\"\"' 'District Court JD3 - Wallace\"\"'\n",
      " 'District Court JD3 - Washington\"\"' 'Senate District D\"\"'\n",
      " 'House District 7\"\"' 'House District 8\"\"' 'House District 9\"\"'\n",
      " 'House District 10\"\"' 'Senate District F\"\"' 'House District 11\"\"'\n",
      " 'House District 12\"\"' 'House District 13\"\"' 'House District 14\"\"'\n",
      " 'Senate District H\"\"' 'House District 15\"\"' 'House District 16\"\"'\n",
      " 'House District 17\"\"' 'House District 18\"\"' 'Senate District J\"\"'\n",
      " 'House District 19\"\"' 'House District 20\"\"' 'House District 21\"\"'\n",
      " 'House District 22\"\"' 'Senate District L\"\"' 'House District 23\"\"'\n",
      " 'House District 24\"\"' 'Senate District M\"\"' 'House District 25\"\"'\n",
      " 'House District 26\"\"' 'Senate District N\"\"' 'House District 27\"\"'\n",
      " 'House District 28\"\"' 'House District 29\"\"' 'House District 30\"\"'\n",
      " 'Senate District P\"\"' 'House District 31\"\"' 'House District 32\"\"'\n",
      " 'House District 33\"\"' 'House District 34\"\"' 'Senate District R\"\"'\n",
      " 'House District 35\"\"' 'House District 36\"\"' 'House District 37\"\"'\n",
      " 'House District 38\"\"' 'Senate District T\"\"' 'House District 39\"\"'\n",
      " 'Superior Court JD2 - DiBenedetto\"\"' 'Superior Court JD2 - Roetman\"\"'\n",
      " 'House District 40\"\"']\n"
     ]
    }
   ],
   "source": [
    "print(ak_2020[\"Race\"].unique())"
   ]
  },
  {
   "cell_type": "code",
   "execution_count": 58,
   "id": "d7581008",
   "metadata": {},
   "outputs": [],
   "source": [
    "race_list = ['U.S. President / Vice President\"\"', 'U.S. Senator\"\"','U.S. Representative\"\"']\n",
    "ak_2020 = ak_2020[ak_2020[\"Race\"].isin(race_list)]"
   ]
  },
  {
   "cell_type": "code",
   "execution_count": 59,
   "id": "2d6d8b4f",
   "metadata": {},
   "outputs": [
    {
     "data": {
      "text/plain": [
       "array(['Number of Precincts for Race', 'Number of Precincts Reporting',\n",
       "       'Registered Voters', 'Times Counted',\n",
       "       'Biden  Joseph R. Jr. / Harris  Kamala D.\"\"',\n",
       "       'Blankenship  Don / Mohr  William\"\"',\n",
       "       'De La Fuente  Rocque \"Rocky\" / Richardson  Darcy G.\"\"',\n",
       "       'Janos  James G. \"Jesse Ventura\" / McKinney  Cynthia\"\"',\n",
       "       'Jorgensen  Jo / Cohen  Jeremy \"Spike\"\"\"',\n",
       "       'Pierce  Brock / Ballard  Karla\"\"',\n",
       "       'Trump  Donald J. / Pence  Michael R.\"\"', 'Gross  Al\"\"',\n",
       "       'Howe  John Wayne\"\"', 'Sullivan  Dan\"\"', 'Galvin  Alyse S.\"\"',\n",
       "       'Young  Don\"\"'], dtype=object)"
      ]
     },
     "execution_count": 59,
     "metadata": {},
     "output_type": "execute_result"
    }
   ],
   "source": [
    "ak_2020[\"Choice\"].unique()"
   ]
  },
  {
   "cell_type": "code",
   "execution_count": 60,
   "id": "184604a5",
   "metadata": {},
   "outputs": [],
   "source": [
    "choice_list = ['Biden  Joseph R. Jr. / Harris  Kamala D.\"\"',\n",
    "       'Blankenship  Don / Mohr  William\"\"',\n",
    "       'De La Fuente  Rocque \"Rocky\" / Richardson  Darcy G.\"\"',\n",
    "       'Janos  James G. \"Jesse Ventura\" / McKinney  Cynthia\"\"',\n",
    "       'Jorgensen  Jo / Cohen  Jeremy \"Spike\"\"\"',\n",
    "       'Pierce  Brock / Ballard  Karla\"\"',\n",
    "       'Trump  Donald J. / Pence  Michael R.\"\"', 'Gross  Al\"\"',\n",
    "       'Howe  John Wayne\"\"', 'Sullivan  Dan\"\"', 'Galvin  Alyse S.\"\"',\n",
    "       'Young  Don\"\"']\n",
    "ak_2020 = ak_2020[ak_2020[\"Choice\"].isin(choice_list)]"
   ]
  },
  {
   "cell_type": "code",
   "execution_count": 64,
   "id": "7f22e0f9",
   "metadata": {},
   "outputs": [],
   "source": [
    "ak_2020_pvt = pd.pivot_table(ak_2020,index=[\"Precinct\"],values=[\"Votes\"],columns=[\"Choice\"],aggfunc=sum)\n",
    "ak_2020_pvt.columns=ak_2020_pvt.columns.droplevel(0)\n",
    "ak_2020_pvt.reset_index(inplace=True,drop=False)"
   ]
  },
  {
   "cell_type": "code",
   "execution_count": 65,
   "id": "44e1ac80",
   "metadata": {},
   "outputs": [
    {
     "data": {
      "text/html": [
       "<div>\n",
       "<style scoped>\n",
       "    .dataframe tbody tr th:only-of-type {\n",
       "        vertical-align: middle;\n",
       "    }\n",
       "\n",
       "    .dataframe tbody tr th {\n",
       "        vertical-align: top;\n",
       "    }\n",
       "\n",
       "    .dataframe thead th {\n",
       "        text-align: right;\n",
       "    }\n",
       "</style>\n",
       "<table border=\"1\" class=\"dataframe\">\n",
       "  <thead>\n",
       "    <tr style=\"text-align: right;\">\n",
       "      <th>Choice</th>\n",
       "      <th>Precinct</th>\n",
       "      <th>Biden  Joseph R. Jr. / Harris  Kamala D.\"\"</th>\n",
       "      <th>Blankenship  Don / Mohr  William\"\"</th>\n",
       "      <th>De La Fuente  Rocque \"Rocky\" / Richardson  Darcy G.\"\"</th>\n",
       "      <th>Galvin  Alyse S.\"\"</th>\n",
       "      <th>Gross  Al\"\"</th>\n",
       "      <th>Howe  John Wayne\"\"</th>\n",
       "      <th>Janos  James G. \"Jesse Ventura\" / McKinney  Cynthia\"\"</th>\n",
       "      <th>Jorgensen  Jo / Cohen  Jeremy \"Spike\"\"\"</th>\n",
       "      <th>Pierce  Brock / Ballard  Karla\"\"</th>\n",
       "      <th>Sullivan  Dan\"\"</th>\n",
       "      <th>Trump  Donald J. / Pence  Michael R.\"\"</th>\n",
       "      <th>Young  Don\"\"</th>\n",
       "    </tr>\n",
       "  </thead>\n",
       "  <tbody>\n",
       "    <tr>\n",
       "      <th>0</th>\n",
       "      <td>01-446 Aurora</td>\n",
       "      <td>239</td>\n",
       "      <td>3</td>\n",
       "      <td>0</td>\n",
       "      <td>293</td>\n",
       "      <td>246</td>\n",
       "      <td>46</td>\n",
       "      <td>2</td>\n",
       "      <td>43</td>\n",
       "      <td>3</td>\n",
       "      <td>465</td>\n",
       "      <td>466</td>\n",
       "      <td>452</td>\n",
       "    </tr>\n",
       "  </tbody>\n",
       "</table>\n",
       "</div>"
      ],
      "text/plain": [
       "Choice        Precinct  Biden  Joseph R. Jr. / Harris  Kamala D.\"\"  \\\n",
       "0       01-446 Aurora                                          239   \n",
       "\n",
       "Choice  Blankenship  Don / Mohr  William\"\"  \\\n",
       "0                                        3   \n",
       "\n",
       "Choice  De La Fuente  Rocque \"Rocky\" / Richardson  Darcy G.\"\"  \\\n",
       "0                                                       0       \n",
       "\n",
       "Choice  Galvin  Alyse S.\"\"  Gross  Al\"\"  Howe  John Wayne\"\"  \\\n",
       "0                      293          246                  46   \n",
       "\n",
       "Choice  Janos  James G. \"Jesse Ventura\" / McKinney  Cynthia\"\"  \\\n",
       "0                                                       2       \n",
       "\n",
       "Choice  Jorgensen  Jo / Cohen  Jeremy \"Spike\"\"\"  \\\n",
       "0                                            43   \n",
       "\n",
       "Choice  Pierce  Brock / Ballard  Karla\"\"  Sullivan  Dan\"\"  \\\n",
       "0                                      3              465   \n",
       "\n",
       "Choice  Trump  Donald J. / Pence  Michael R.\"\"  Young  Don\"\"  \n",
       "0                                          466           452  "
      ]
     },
     "execution_count": 65,
     "metadata": {},
     "output_type": "execute_result"
    }
   ],
   "source": [
    "ak_2020_pvt.head(1)"
   ]
  },
  {
   "cell_type": "code",
   "execution_count": 66,
   "id": "9182d238",
   "metadata": {},
   "outputs": [
    {
     "name": "stdout",
     "output_type": "stream",
     "text": [
      "Index(['Precinct', 'Biden  Joseph R. Jr. / Harris  Kamala D.\"\"',\n",
      "       'Blankenship  Don / Mohr  William\"\"',\n",
      "       'De La Fuente  Rocque \"Rocky\" / Richardson  Darcy G.\"\"',\n",
      "       'Galvin  Alyse S.\"\"', 'Gross  Al\"\"', 'Howe  John Wayne\"\"',\n",
      "       'Janos  James G. \"Jesse Ventura\" / McKinney  Cynthia\"\"',\n",
      "       'Jorgensen  Jo / Cohen  Jeremy \"Spike\"\"\"',\n",
      "       'Pierce  Brock / Ballard  Karla\"\"', 'Sullivan  Dan\"\"',\n",
      "       'Trump  Donald J. / Pence  Michael R.\"\"', 'Young  Don\"\"'],\n",
      "      dtype='object', name='Choice')\n"
     ]
    }
   ],
   "source": [
    "print(ak_2020_pvt.columns)"
   ]
  },
  {
   "cell_type": "code",
   "execution_count": 67,
   "id": "2413bd6e",
   "metadata": {},
   "outputs": [],
   "source": [
    "column_changes_dict = {'Biden  Joseph R. Jr. / Harris  Kamala D.\"\"':\"G20PREDBID\",\n",
    "                       'Jorgensen  Jo / Cohen  Jeremy \"Spike\"\"\"':\"G20PRELJOR\",\n",
    "                       'Trump  Donald J. / Pence  Michael R.\"\"':\"G20PRERTRU\",\n",
    "                       'Blankenship  Don / Mohr  William\"\"':\"G20PRECBLA\",\n",
    "       'De La Fuente  Rocque \"Rocky\" / Richardson  Darcy G.\"\"':\"G20PREOFUE\",\n",
    "        'Janos  James G. \"Jesse Ventura\" / McKinney  Cynthia\"\"':\"G20PREGJAN\",\n",
    "                       'Pierce  Brock / Ballard  Karla\"\"':\"G20PREIPIE\", \n",
    "        'Gross  Al\"\"':\"G20USSDGRO\", \n",
    "        'Howe  John Wayne\"\"':\"G20USSOHOW\",\n",
    "         'Sullivan  Dan\"\"':\"G20USSRSUL\",\n",
    "                       \n",
    "       'Galvin  Alyse S.\"\"':\"G20HALDGAL\",               \n",
    "        'Young  Don\"\"':\"G20HALRYOU\"\n",
    "    \n",
    "}\n",
    "\n",
    "ak_2020_pvt = ak_2020_pvt.rename(columns=column_changes_dict)"
   ]
  },
  {
   "cell_type": "code",
   "execution_count": 72,
   "id": "8c95280b",
   "metadata": {},
   "outputs": [
    {
     "name": "stdout",
     "output_type": "stream",
     "text": [
      "Choice                 Precinct  G20PREDBID  G20PRECBLA  G20PREOFUE  \\\n",
      "0                01-446 Aurora          239           3           0   \n",
      "1       01-455 Fairbanks No. 1           47           0           0   \n",
      "2       01-465 Fairbanks No. 2           85           1           1   \n",
      "3       01-470 Fairbanks No. 3          128           0           1   \n",
      "4       01-475 Fairbanks No. 4          103           2           0   \n",
      "\n",
      "Choice  G20HALDGAL  G20USSDGRO  G20USSOHOW  G20PREGJAN  G20PRELJOR  \\\n",
      "0              293         246          46           2          43   \n",
      "1               50          47           8           1           2   \n",
      "2               98          79          23           1          12   \n",
      "3              141         128          13           2          11   \n",
      "4              110          91          16           1           5   \n",
      "\n",
      "Choice  G20PREIPIE  G20USSRSUL  G20PRERTRU  G20HALRYOU  \n",
      "0                3         465         466         452  \n",
      "1                0          83          90          91  \n",
      "2                0         120         123         120  \n",
      "3                4         213         210         215  \n",
      "4                1         126         122         124  \n"
     ]
    }
   ],
   "source": [
    "print(ak_2020_pvt.head())\n",
    "\n",
    "ak_2020_pvt = ak_2020_pvt[[\"Precinct\",'G20PRERTRU', 'G20PREDBID', 'G20PRELJOR',\n",
    "       'G20PREGJAN', 'G20PRECBLA', 'G20PREIPIE', 'G20PREOFUE', 'G20USSRSUL',\n",
    "       'G20USSDGRO', 'G20USSOHOW', 'G20HALRYOU', 'G20HALDGAL']]"
   ]
  },
  {
   "cell_type": "code",
   "execution_count": 73,
   "id": "85ad8276",
   "metadata": {},
   "outputs": [
    {
     "name": "stdout",
     "output_type": "stream",
     "text": [
      "Index(['DISTRICT', 'NAME', 'G20PRERTRU', 'G20PREDBID', 'G20PRELJOR',\n",
      "       'G20PREGJAN', 'G20PRECBLA', 'G20PREIPIE', 'G20PREOFUE', 'G20USSRSUL',\n",
      "       'G20USSDGRO', 'G20USSOHOW', 'G20HALRYOU', 'G20HALDGAL', 'geometry'],\n",
      "      dtype='object')\n"
     ]
    }
   ],
   "source": [
    "print(vest_ak_20.columns)"
   ]
  },
  {
   "cell_type": "code",
   "execution_count": 77,
   "id": "cb4990ab",
   "metadata": {},
   "outputs": [],
   "source": [
    "data_columns = ['G20PRERTRU', 'G20PREDBID', 'G20PRELJOR',\n",
    "       'G20PREGJAN', 'G20PRECBLA', 'G20PREIPIE', 'G20PREOFUE', 'G20USSRSUL',\n",
    "       'G20USSDGRO', 'G20USSOHOW', 'G20HALRYOU', 'G20HALDGAL']"
   ]
  },
  {
   "cell_type": "code",
   "execution_count": 78,
   "id": "2e327380",
   "metadata": {},
   "outputs": [
    {
     "name": "stdout",
     "output_type": "stream",
     "text": [
      "Printing differences below:\n",
      "\n",
      "All other races are equal\n"
     ]
    }
   ],
   "source": [
    "print(\"Printing differences below:\")\n",
    "for race in data_columns:\n",
    "    if (sum(vest_ak_20[race])-sum(ak_2020_pvt[race]) != 0):\n",
    "        print(race+\" has a difference of \"+str(sum(vest_ak_16[race])-sum(ak_2020_pvt[race]))+\" votes\")\n",
    "        print(\"\\tVEST: \"+str(sum(vest_ak_20[race]))+\" votes\")\n",
    "        print(\"\\tSOURCES: \"+str(sum(ak_2020_pvt[race]))+\" votes\")\n",
    "print(\"\")\n",
    "print(\"All other races are equal\")"
   ]
  },
  {
   "cell_type": "markdown",
   "id": "cd700d13",
   "metadata": {},
   "source": [
    "Early, Absentee, and Questioned votes are only reported at the State House district level (since Alaska has portions of the state with no lower level of government, HDs serve a similar purpose as counties do in other states for the purpose of reporting votes). These votes are apportioned to precincts by candidate in the same shares that the Election Day vote was split among precincts within an HD. Similarly, federal-only ballots that are reported at the statewide level were apportioned to precincts by candidate based on their share of the precinct-level vote."
   ]
  }
 ],
 "metadata": {
  "kernelspec": {
   "display_name": "Python 3",
   "language": "python",
   "name": "python3"
  },
  "language_info": {
   "codemirror_mode": {
    "name": "ipython",
    "version": 3
   },
   "file_extension": ".py",
   "mimetype": "text/x-python",
   "name": "python",
   "nbconvert_exporter": "python",
   "pygments_lexer": "ipython3",
   "version": "3.9.2"
  }
 },
 "nbformat": 4,
 "nbformat_minor": 5
}
